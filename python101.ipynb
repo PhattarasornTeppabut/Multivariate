{
  "nbformat": 4,
  "nbformat_minor": 0,
  "metadata": {
    "colab": {
      "name": "python101.ipynb",
      "provenance": [],
      "collapsed_sections": [],
      "authorship_tag": "ABX9TyOpEFkwMOgrScx8ueSWYrfR",
      "include_colab_link": true
    },
    "kernelspec": {
      "name": "python3",
      "display_name": "Python 3"
    }
  },
  "cells": [
    {
      "cell_type": "markdown",
      "metadata": {
        "id": "view-in-github",
        "colab_type": "text"
      },
      "source": [
        "<a href=\"https://colab.research.google.com/github/PhattarasornTeppabut/Multivariate/blob/main/python101.ipynb\" target=\"_parent\"><img src=\"https://colab.research.google.com/assets/colab-badge.svg\" alt=\"Open In Colab\"/></a>"
      ]
    },
    {
      "cell_type": "markdown",
      "metadata": {
        "id": "hEyfflYFpxch"
      },
      "source": [
        "ตัวแปร Variable"
      ]
    },
    {
      "cell_type": "markdown",
      "metadata": {
        "id": "QDXatDM7rGzm"
      },
      "source": [
        "หลักการตั้งชื่อตัวแปรเบื้องต้น\r\n",
        "\r\n",
        "1. ตั้งให้สื่อ\r\n",
        "2. ภาษาอังกฤษ\r\n",
        "3. ใช้ตัวเลขได้แต่ห้ามขึ้นต้นด้วยตัวเลข\r\n",
        "4. ห้ามเว้นวรรค\r\n",
        "5. ตัวเล็กกับตัวใหญ๋ไม่เหมือนกัน"
      ]
    },
    {
      "cell_type": "markdown",
      "metadata": {
        "id": "koUWtuDusZKH"
      },
      "source": [
        "มี output  2 mode : ออกหนเาจอ กับ เข้าไปเก็บในตัวแปร"
      ]
    },
    {
      "cell_type": "markdown",
      "metadata": {
        "id": "eXJW2hPtvL-d"
      },
      "source": [
        "mode1 : ออกหน้าจอ จะไม่ถูกเก็บอยู่ที่ไหน และนำไปใช้ต่อไม่ได้เวลานำไปใช้ต้องพิมพ์ใหม่\r\n"
      ]
    },
    {
      "cell_type": "code",
      "metadata": {
        "colab": {
          "base_uri": "https://localhost:8080/"
        },
        "id": "Iz5A50t-sJLN",
        "outputId": "fd3490d2-712a-4e2b-eec9-dbe3ab8d2a20"
      },
      "source": [
        "3.14159     #hashtag หรือ เครื่องหมาย # (sharp) คือ comment >>> อันนี้คือ output ที่ออกหน้าจอ"
      ],
      "execution_count": 4,
      "outputs": [
        {
          "output_type": "execute_result",
          "data": {
            "text/plain": [
              "3.14159"
            ]
          },
          "metadata": {
            "tags": []
          },
          "execution_count": 4
        }
      ]
    },
    {
      "cell_type": "markdown",
      "metadata": {
        "id": "nBpuWP1jwj4J"
      },
      "source": [
        "mode2 : เอาไปเก็บไว้ในตัวแปร Ex.ตัวแปรชื่อ Pi เอามารับค่า 3.14159 (Pi = 3.14159)เมื่อรับเสร็จสามารถเอาค่า Pi มาแสดงได้"
      ]
    },
    {
      "cell_type": "code",
      "metadata": {
        "id": "DCn6DvyPpcd5"
      },
      "source": [
        "Pi = 3.14159   # อันนี้ คือ output ที่เข้าไปอยู่ในตัวแปร"
      ],
      "execution_count": 5,
      "outputs": []
    },
    {
      "cell_type": "code",
      "metadata": {
        "colab": {
          "base_uri": "https://localhost:8080/"
        },
        "id": "c0qJ6kGLqkEA",
        "outputId": "b4d8aef6-f334-40ff-f219-faaf2056ae85"
      },
      "source": [
        "Pi"
      ],
      "execution_count": 6,
      "outputs": [
        {
          "output_type": "execute_result",
          "data": {
            "text/plain": [
              "3.14159"
            ]
          },
          "metadata": {
            "tags": []
          },
          "execution_count": 6
        }
      ]
    },
    {
      "cell_type": "markdown",
      "metadata": {
        "id": "JxtdOlAXw7w7"
      },
      "source": [
        "กด Shift+ Enter เพื่อให้เซลล์สามารถขึ้นบรรทัดใหม่ได้ ในเซลล์สามารถมีคำสั่งได้หลายคำสั่ง "
      ]
    },
    {
      "cell_type": "markdown",
      "metadata": {
        "id": "HQb_kXpDxlsl"
      },
      "source": [
        "Ex. คำสั่งที่1 ตั้งตัวแปรชื่อ a แล้วเอาค่า 1234567 มาใส่ในตัวแปร a \r\n",
        "     คำสั่งที่2  ใช้คำสั่ง Print()แสดงผลค่า a \r\n"
      ]
    },
    {
      "cell_type": "code",
      "metadata": {
        "colab": {
          "base_uri": "https://localhost:8080/"
        },
        "id": "RtdN9Zb-tMrt",
        "outputId": "4f8d6f26-f61f-4d9d-91f2-0bd29de43b56"
      },
      "source": [
        "a = 1234567\r\n",
        "print(a)"
      ],
      "execution_count": 7,
      "outputs": [
        {
          "output_type": "stream",
          "text": [
            "1234567\n"
          ],
          "name": "stdout"
        }
      ]
    },
    {
      "cell_type": "markdown",
      "metadata": {
        "id": "Vcg4JRLNutZZ"
      },
      "source": [
        "#ชนิดของตัวแปร  3 ชนิด"
      ]
    },
    {
      "cell_type": "markdown",
      "metadata": {
        "id": "xYML4qa20Ulp"
      },
      "source": [
        "### จำนวนเต็ม (integer , int)"
      ]
    },
    {
      "cell_type": "markdown",
      "metadata": {
        "id": "5CjvgyCB0v1f"
      },
      "source": [
        "จำนวนที่ไม่เป็นจุดทศนิยม"
      ]
    },
    {
      "cell_type": "code",
      "metadata": {
        "colab": {
          "base_uri": "https://localhost:8080/"
        },
        "id": "bT3JXEnnuWbw",
        "outputId": "a46fef0c-f368-4414-dd8c-c97c92877f82"
      },
      "source": [
        "xxx = 1997\r\n",
        "print(xxx)"
      ],
      "execution_count": 8,
      "outputs": [
        {
          "output_type": "stream",
          "text": [
            "1997\n"
          ],
          "name": "stdout"
        }
      ]
    },
    {
      "cell_type": "markdown",
      "metadata": {
        "id": "oV4NKFj_07Yz"
      },
      "source": [
        "### จำนวนจริง (fioat)"
      ]
    },
    {
      "cell_type": "markdown",
      "metadata": {
        "id": "2uSgmKuh1bk3"
      },
      "source": [
        "เมื่อมี . หมายความว่าเป็นจำนวนจริง "
      ]
    },
    {
      "cell_type": "code",
      "metadata": {
        "colab": {
          "base_uri": "https://localhost:8080/"
        },
        "id": "oxN-ObhW0rAy",
        "outputId": "93838be4-c27c-4620-a93f-50cd4eb81c6c"
      },
      "source": [
        "yyy = 43.\r\n",
        "print(yyy)"
      ],
      "execution_count": 9,
      "outputs": [
        {
          "output_type": "stream",
          "text": [
            "43.0\n"
          ],
          "name": "stdout"
        }
      ]
    },
    {
      "cell_type": "markdown",
      "metadata": {
        "id": "1YvPB9tW1lo_"
      },
      "source": [
        "### ตัวอักษร-ข้อความ (character และ text, string)"
      ]
    },
    {
      "cell_type": "markdown",
      "metadata": {
        "id": "s0OdMLFa14Td"
      },
      "source": [
        "string คือ ค่าหลายๆค่าที่นำมาต่อกัน"
      ]
    },
    {
      "cell_type": "code",
      "metadata": {
        "colab": {
          "base_uri": "https://localhost:8080/"
        },
        "id": "MwGi7uH31XYh",
        "outputId": "f09a336a-7705-4040-9729-e4ffb3c2aab3"
      },
      "source": [
        "aaa = '123456' # เราจะใช้ single quote  ' หรือ double quote ''  ล้อมรอบตัวหนังสือเพื่อระบุว่าเป็น character-string  ใช้ได้ทั้งสองตัวแต่ถ้าเปิดด้วยตัวไหนต้องปิดที่ตัวนั้น\r\n",
        "print(aaa)"
      ],
      "execution_count": 10,
      "outputs": [
        {
          "output_type": "stream",
          "text": [
            "123456\n"
          ],
          "name": "stdout"
        }
      ]
    },
    {
      "cell_type": "markdown",
      "metadata": {
        "id": "W3DPfqpA2NLQ"
      },
      "source": [
        "เป็นตัวเลขแต่มี quote ล้อมรอบแปลว่า เป็น string เอาไปใช้ บวก,ลบ,คูณ,หาร ไม่ได้  แต่ถ้าเอา float + int ก็จะได้ float ออกมา\r\n"
      ]
    },
    {
      "cell_type": "code",
      "metadata": {
        "colab": {
          "base_uri": "https://localhost:8080/"
        },
        "id": "WVZ8XzR36WdP",
        "outputId": "5ca7435f-fd36-430e-969b-f75a08fcdb27"
      },
      "source": [
        "xxx + yyy   # float + int = float "
      ],
      "execution_count": 14,
      "outputs": [
        {
          "output_type": "execute_result",
          "data": {
            "text/plain": [
              "2040.0"
            ]
          },
          "metadata": {
            "tags": []
          },
          "execution_count": 14
        }
      ]
    },
    {
      "cell_type": "code",
      "metadata": {
        "colab": {
          "base_uri": "https://localhost:8080/",
          "height": 165
        },
        "id": "RlIf5ewL6yU6",
        "outputId": "6f10dc97-6983-4894-f302-2d3517627743"
      },
      "source": [
        "yyy + aaa"
      ],
      "execution_count": 16,
      "outputs": [
        {
          "output_type": "error",
          "ename": "TypeError",
          "evalue": "ignored",
          "traceback": [
            "\u001b[0;31m---------------------------------------------------------------------------\u001b[0m",
            "\u001b[0;31mTypeError\u001b[0m                                 Traceback (most recent call last)",
            "\u001b[0;32m<ipython-input-16-c6255280f14f>\u001b[0m in \u001b[0;36m<module>\u001b[0;34m()\u001b[0m\n\u001b[0;32m----> 1\u001b[0;31m \u001b[0myyy\u001b[0m \u001b[0;34m+\u001b[0m \u001b[0maaa\u001b[0m\u001b[0;34m\u001b[0m\u001b[0;34m\u001b[0m\u001b[0m\n\u001b[0m",
            "\u001b[0;31mTypeError\u001b[0m: unsupported operand type(s) for +: 'float' and 'str'"
          ]
        }
      ]
    },
    {
      "cell_type": "code",
      "metadata": {
        "colab": {
          "base_uri": "https://localhost:8080/"
        },
        "id": "izkwNulw7zEY",
        "outputId": "145241fd-f916-4627-fc08-54f5da39de1a"
      },
      "source": [
        "ddd =  'ภัทรสร'  #สามารถเป็นข้อความภาษาไทยได้\r\n",
        "print(ddd)"
      ],
      "execution_count": 17,
      "outputs": [
        {
          "output_type": "stream",
          "text": [
            "ภัทรสร\n"
          ],
          "name": "stdout"
        }
      ]
    },
    {
      "cell_type": "markdown",
      "metadata": {
        "id": "72_7GVrO8RTb"
      },
      "source": [
        "# การเปลี่ยนชนิดของตัวแปร variable casting"
      ]
    },
    {
      "cell_type": "markdown",
      "metadata": {
        "id": "PvCHniMq85xo"
      },
      "source": [
        "aaa เป็นตัวเลข แต่ถูก quoteปิดอยู่ จึงเป็นข้อความที่เป็นตัวเลข ทำให้เป็นตัวเลขจริงๆได้โดยการ บังคับให้เป็นตัวแปรชนิดที่เราต้องการได้เลย"
      ]
    },
    {
      "cell_type": "code",
      "metadata": {
        "colab": {
          "base_uri": "https://localhost:8080/"
        },
        "id": "YmAesW7U8MoG",
        "outputId": "ff91f40a-94a9-44f4-d57d-2b4f157713ec"
      },
      "source": [
        "xxx + int( aaa ) "
      ],
      "execution_count": 18,
      "outputs": [
        {
          "output_type": "execute_result",
          "data": {
            "text/plain": [
              "125453"
            ]
          },
          "metadata": {
            "tags": []
          },
          "execution_count": 18
        }
      ]
    },
    {
      "cell_type": "code",
      "metadata": {
        "colab": {
          "base_uri": "https://localhost:8080/"
        },
        "id": "PNPejlQw9-l9",
        "outputId": "6f2a4c3f-f74f-419d-8fb5-7ce8f2fa93a0"
      },
      "source": [
        "xxx + float( aaa )"
      ],
      "execution_count": 19,
      "outputs": [
        {
          "output_type": "execute_result",
          "data": {
            "text/plain": [
              "125453.0"
            ]
          },
          "metadata": {
            "tags": []
          },
          "execution_count": 19
        }
      ]
    },
    {
      "cell_type": "markdown",
      "metadata": {
        "id": "k9DZfbRA-NYL"
      },
      "source": [
        "int สามารถเปลี่ยนกลับไปเป็นข้อความได้เหมือนเดิม แต่ถ้าสั่งข้อความเป็น print มันจะดูไม่ออก"
      ]
    },
    {
      "cell_type": "markdown",
      "metadata": {
        "id": "tklaQ59A_Uav"
      },
      "source": [
        "* ข้อสังเกต *  การพิมพ์แบบนี้ทำได้เฉพาะในตัว Notebook "
      ]
    },
    {
      "cell_type": "code",
      "metadata": {
        "colab": {
          "base_uri": "https://localhost:8080/",
          "height": 35
        },
        "id": "6dRf0Xcr-E8B",
        "outputId": "1806c564-bcb7-4840-c212-30d4fcabd08f"
      },
      "source": [
        "str(xxx) "
      ],
      "execution_count": 22,
      "outputs": [
        {
          "output_type": "execute_result",
          "data": {
            "application/vnd.google.colaboratory.intrinsic+json": {
              "type": "string"
            },
            "text/plain": [
              "'1997'"
            ]
          },
          "metadata": {
            "tags": []
          },
          "execution_count": 22
        }
      ]
    },
    {
      "cell_type": "markdown",
      "metadata": {
        "id": "03v7r3UU-z67"
      },
      "source": [
        "# การดำเนินการ Operation (Operators +,-,*,/,%)"
      ]
    },
    {
      "cell_type": "markdown",
      "metadata": {
        "id": "QEGkEOZFArhn"
      },
      "source": [
        "ไม่มีตัวแปร b จึงบวกไม่ได้ "
      ]
    },
    {
      "cell_type": "code",
      "metadata": {
        "colab": {
          "base_uri": "https://localhost:8080/",
          "height": 165
        },
        "id": "ar1Ffs7vAfM-",
        "outputId": "8b61ad03-b81d-46b7-a734-6eb0cdc3a766"
      },
      "source": [
        "a+b"
      ],
      "execution_count": 23,
      "outputs": [
        {
          "output_type": "error",
          "ename": "NameError",
          "evalue": "ignored",
          "traceback": [
            "\u001b[0;31m---------------------------------------------------------------------------\u001b[0m",
            "\u001b[0;31mNameError\u001b[0m                                 Traceback (most recent call last)",
            "\u001b[0;32m<ipython-input-23-ca730b97bf8a>\u001b[0m in \u001b[0;36m<module>\u001b[0;34m()\u001b[0m\n\u001b[0;32m----> 1\u001b[0;31m \u001b[0ma\u001b[0m\u001b[0;34m+\u001b[0m\u001b[0mb\u001b[0m\u001b[0;34m\u001b[0m\u001b[0;34m\u001b[0m\u001b[0m\n\u001b[0m",
            "\u001b[0;31mNameError\u001b[0m: name 'b' is not defined"
          ]
        }
      ]
    },
    {
      "cell_type": "code",
      "metadata": {
        "colab": {
          "base_uri": "https://localhost:8080/"
        },
        "id": "7w5cvFnOAi--",
        "outputId": "57939946-fcfe-4e86-9351-5377ab7f24ff"
      },
      "source": [
        "xxx + yyy"
      ],
      "execution_count": 24,
      "outputs": [
        {
          "output_type": "execute_result",
          "data": {
            "text/plain": [
              "2040.0"
            ]
          },
          "metadata": {
            "tags": []
          },
          "execution_count": 24
        }
      ]
    },
    {
      "cell_type": "code",
      "metadata": {
        "colab": {
          "base_uri": "https://localhost:8080/"
        },
        "id": "le-aPFq-A92r",
        "outputId": "d6619419-5237-466a-d74f-3935fa4fb83d"
      },
      "source": [
        "xxx - yyy"
      ],
      "execution_count": 25,
      "outputs": [
        {
          "output_type": "execute_result",
          "data": {
            "text/plain": [
              "1954.0"
            ]
          },
          "metadata": {
            "tags": []
          },
          "execution_count": 25
        }
      ]
    },
    {
      "cell_type": "markdown",
      "metadata": {
        "id": "xTiPAnxHBNsy"
      },
      "source": [
        "ถ้าอยากเอาไปใช้ต่อ ต้องเอาตัวแปรมารับ "
      ]
    },
    {
      "cell_type": "code",
      "metadata": {
        "colab": {
          "base_uri": "https://localhost:8080/"
        },
        "id": "LmGD2lb5BA1h",
        "outputId": "a22972f3-0003-4088-de82-26d46828d30a"
      },
      "source": [
        "xy = xxx*yyy\r\n",
        "print(xy)"
      ],
      "execution_count": 26,
      "outputs": [
        {
          "output_type": "stream",
          "text": [
            "85871.0\n"
          ],
          "name": "stdout"
        }
      ]
    },
    {
      "cell_type": "code",
      "metadata": {
        "colab": {
          "base_uri": "https://localhost:8080/"
        },
        "id": "P9Q8ppgXBgBI",
        "outputId": "75bb5b40-b427-4f51-e3a4-f5fa515d34b0"
      },
      "source": [
        "xy + int(aaa)"
      ],
      "execution_count": 27,
      "outputs": [
        {
          "output_type": "execute_result",
          "data": {
            "text/plain": [
              "209327.0"
            ]
          },
          "metadata": {
            "tags": []
          },
          "execution_count": 27
        }
      ]
    },
    {
      "cell_type": "markdown",
      "metadata": {
        "id": "PuK2i8TZB71q"
      },
      "source": [
        "### % เครื่องหมาย modulo"
      ]
    },
    {
      "cell_type": "markdown",
      "metadata": {
        "id": "rf7Y5oa2Cejc"
      },
      "source": [
        "คือ เครื่องหมาย หารเอาเศษ"
      ]
    },
    {
      "cell_type": "code",
      "metadata": {
        "colab": {
          "base_uri": "https://localhost:8080/"
        },
        "id": "o4KziKvJB4zn",
        "outputId": "742f1f33-a742-408b-c171-ea5c7b891113"
      },
      "source": [
        "5%3"
      ],
      "execution_count": 28,
      "outputs": [
        {
          "output_type": "execute_result",
          "data": {
            "text/plain": [
              "2"
            ]
          },
          "metadata": {
            "tags": []
          },
          "execution_count": 28
        }
      ]
    },
    {
      "cell_type": "code",
      "metadata": {
        "colab": {
          "base_uri": "https://localhost:8080/"
        },
        "id": "Yd6aZxw0CaJo",
        "outputId": "f463f552-dd3b-4731-c010-b3e54a5e5f30"
      },
      "source": [
        "7%3"
      ],
      "execution_count": 29,
      "outputs": [
        {
          "output_type": "execute_result",
          "data": {
            "text/plain": [
              "1"
            ]
          },
          "metadata": {
            "tags": []
          },
          "execution_count": 29
        }
      ]
    },
    {
      "cell_type": "markdown",
      "metadata": {
        "id": "_kTKFFntDolp"
      },
      "source": [
        "### คำสั่ง print แบบพิเศษ (การ format string)"
      ]
    },
    {
      "cell_type": "code",
      "metadata": {
        "colab": {
          "base_uri": "https://localhost:8080/"
        },
        "id": "jQufcckTCcsN",
        "outputId": "6d704f20-761d-4b48-c64d-3d156d061e14"
      },
      "source": [
        "print('ตัวแปร') #สิ่งที่อยู๋ในวงเล็บ คือ ตัวแปร และ string "
      ],
      "execution_count": 30,
      "outputs": [
        {
          "output_type": "stream",
          "text": [
            "ตัวแปร\n"
          ],
          "name": "stdout"
        }
      ]
    },
    {
      "cell_type": "markdown",
      "metadata": {
        "id": "2-iuwR7QIOaS"
      },
      "source": [
        "*Note*\r\n",
        "1.  print เราสามารถ print ได้ทั้งตัวแปรและstring\r\n",
        "2. เพื่อความสวยงามสามารถแก้ไขตัว print ให้ฉลาดมากขึ้นโดยการเพิ่ม f สามารถเอา code ใส่เข้าในตัวข้อความได้ \r\n",
        "3. เครื่องหมาย {} จะแสดงแค่คำตอบของ 7%3 คือ เท่ากับ 1"
      ]
    },
    {
      "cell_type": "code",
      "metadata": {
        "colab": {
          "base_uri": "https://localhost:8080/"
        },
        "id": "MHBZNumRF5sf",
        "outputId": "fdb6ab0e-a95f-4f64-b167-ea63824fa477"
      },
      "source": [
        "print( f'% คือการหารเอาเศษ เช่น 7%3 = {7%3}')   #เพิ่ม f หน้า 'string' และใช้ {} ใส่ code"
      ],
      "execution_count": 35,
      "outputs": [
        {
          "output_type": "stream",
          "text": [
            "% คือการหารเอาเศษ เช่น 7%3 = 1\n"
          ],
          "name": "stdout"
        }
      ]
    },
    {
      "cell_type": "code",
      "metadata": {
        "colab": {
          "base_uri": "https://localhost:8080/"
        },
        "id": "sQPNUAcZKcSm",
        "outputId": "1d4edbb9-e609-46d8-a34b-815f845cdf07"
      },
      "source": [
        "print(f'% คือการหารเอาเศษ เช่น 7%3 = {7%3} \\\r\n",
        "      แต่\\n/ คือการหารปกติ เช่น 7/3 = {7/3} \\\r\n",
        "      และ\\n// คือการหารเอาส่วน เช่น 7//3 = {7//3} \\\r\n",
        "      หรือ\\nใช้ int() เพื่อหารเอาส่วน เช่น int(7/3) = {int(7/3)}')  # \\n คือการขึ้นบรรทัดใหม่ที่ comเห็น \\ ใช้ในการตัด code แต่ com จะไม่เห็น"
      ],
      "execution_count": 45,
      "outputs": [
        {
          "output_type": "stream",
          "text": [
            "% คือการหารเอาเศษ เช่น 7%3 = 1       แต่\n",
            "/ คือการหารปกติ เช่น 7/3 = 2.3333333333333335       และ\n",
            "// คือการหารเอาส่วน เช่น 7//3 = 2       หรือ\n",
            "ใช้ int() เพื่อหารเอาส่วน เช่น int(7/3) = 2\n"
          ],
          "name": "stdout"
        }
      ]
    },
    {
      "cell_type": "markdown",
      "metadata": {
        "id": "96WQjQt-SFMo"
      },
      "source": [
        "##DATA STRUCTURE (โครงสร้างข้อมูล)"
      ]
    },
    {
      "cell_type": "markdown",
      "metadata": {
        "id": "NkTxpBRbXQa_"
      },
      "source": [
        "### List คือการเอาข้อมูลหลายๆตัวมาเรียงต่อกัน\r\n",
        "#### list สามารถสร้างได้ 2 แบบ ดังนี้"
      ]
    },
    {
      "cell_type": "markdown",
      "metadata": {
        "id": "tduT8KprX5qV"
      },
      "source": [
        "ข้อมูลสามารถเป็นได้ทั้ง ตัวเลข,ตัวอักษรและตัวแปร สัญลักษณ์ของ list คือ [ ]  \r\n",
        "เราสามารถจัดกลุ่มตัวแปรหลายๆตัวมารวมยู่ในที่เก็บเดียวกันได้\r\n",
        "\r\n"
      ]
    },
    {
      "cell_type": "code",
      "metadata": {
        "colab": {
          "base_uri": "https://localhost:8080/"
        },
        "id": "7R3PNJSMN_O6",
        "outputId": "3daa5139-e322-451a-d3dc-2acdd7b85a12"
      },
      "source": [
        "[111, 'c', 'แจมิน', xxx ]"
      ],
      "execution_count": 48,
      "outputs": [
        {
          "output_type": "execute_result",
          "data": {
            "text/plain": [
              "[111, 'c', 'แจมิน', 1997]"
            ]
          },
          "metadata": {
            "tags": []
          },
          "execution_count": 48
        }
      ]
    },
    {
      "cell_type": "markdown",
      "metadata": {
        "id": "FV-NXpREZnLC"
      },
      "source": [
        "### แบบที่1 > square brackets\r\n",
        "#### สร้างด้วยสัญลักษณ์ของ list"
      ]
    },
    {
      "cell_type": "code",
      "metadata": {
        "colab": {
          "base_uri": "https://localhost:8080/"
        },
        "id": "3xxIcpbGXqwA",
        "outputId": "345a15ae-738a-4f47-9485-e9338e306f53"
      },
      "source": [
        "list_a = []         #list [] = list ว่าง\r\n",
        "print(list_a)  "
      ],
      "execution_count": 49,
      "outputs": [
        {
          "output_type": "stream",
          "text": [
            "[]\n"
          ],
          "name": "stdout"
        }
      ]
    },
    {
      "cell_type": "code",
      "metadata": {
        "colab": {
          "base_uri": "https://localhost:8080/"
        },
        "id": "tK2dgVI8aIOh",
        "outputId": "fb911a86-8e97-4b18-e36b-c6a4b6da3d70"
      },
      "source": [
        "list_b = [111, 'c', 'แจมิน', xxx ]  \r\n",
        "print(list_b)"
      ],
      "execution_count": 55,
      "outputs": [
        {
          "output_type": "stream",
          "text": [
            "[111, 'c', 'แจมิน', 1997]\n"
          ],
          "name": "stdout"
        }
      ]
    },
    {
      "cell_type": "markdown",
      "metadata": {
        "id": "oaD1goUha9H2"
      },
      "source": [
        "### ลำดับที่อยู๋ใน list มีความสำคัญ (ลำดับใน list เริ่มจาก 0,1,2,...)"
      ]
    },
    {
      "cell_type": "code",
      "metadata": {
        "colab": {
          "base_uri": "https://localhost:8080/",
          "height": 35
        },
        "id": "79LI2VzhbWHf",
        "outputId": "b8b36350-26b4-4b9c-c414-da7222d2e20c"
      },
      "source": [
        "list_b[2]    #หมายความว่าอยากได้สมาชิกตัวที่2 และลำดับไม่มีความเปลี่ยนแปลง"
      ],
      "execution_count": 56,
      "outputs": [
        {
          "output_type": "execute_result",
          "data": {
            "application/vnd.google.colaboratory.intrinsic+json": {
              "type": "string"
            },
            "text/plain": [
              "'แจมิน'"
            ]
          },
          "metadata": {
            "tags": []
          },
          "execution_count": 56
        }
      ]
    },
    {
      "cell_type": "markdown",
      "metadata": {
        "id": "pHYSqXT_cQA7"
      },
      "source": [
        "### แบบที่2 \r\n",
        "###### จะบอกว่าตัวแปรเท่ากับ list "
      ]
    },
    {
      "cell_type": "code",
      "metadata": {
        "colab": {
          "base_uri": "https://localhost:8080/"
        },
        "id": "udARqZhfbeLD",
        "outputId": "c7de7230-afd5-469c-81fd-258caf4bd33a"
      },
      "source": [
        "list_c = list()\r\n",
        "print(list_c)"
      ],
      "execution_count": 57,
      "outputs": [
        {
          "output_type": "stream",
          "text": [
            "[]\n"
          ],
          "name": "stdout"
        }
      ]
    },
    {
      "cell_type": "markdown",
      "metadata": {
        "id": "UfnP5sXIcsvs"
      },
      "source": [
        "### append() เพิ่มสมาชิกใน list"
      ]
    },
    {
      "cell_type": "markdown",
      "metadata": {
        "id": "tlIGhAkwddWJ"
      },
      "source": [
        ". append คือ เอาสมาชิกไปต่อท้ายของ list"
      ]
    },
    {
      "cell_type": "code",
      "metadata": {
        "colab": {
          "base_uri": "https://localhost:8080/"
        },
        "id": "ywiEgKiBcp07",
        "outputId": "aca30612-8aa9-4ba6-d800-81e0ba504219"
      },
      "source": [
        "list_b. append('u')\r\n",
        "print(list_b)"
      ],
      "execution_count": 58,
      "outputs": [
        {
          "output_type": "stream",
          "text": [
            "[111, 'c', 'แจมิน', 1997, 'u']\n"
          ],
          "name": "stdout"
        }
      ]
    },
    {
      "cell_type": "markdown",
      "metadata": {
        "id": "jUZNOPBceXYy"
      },
      "source": [
        "ชี้จากข้างหน้า คือ  อยากได้ตัวไหนก็สามารถชี้เอาได้เลย    \r\n",
        "ชี้จากข้างหลัง คือ ต้องใส่เครื่องหมาย - เข้าไป เช่น [-1]"
      ]
    },
    {
      "cell_type": "markdown",
      "metadata": {
        "id": "oZA6wSEGfhtn"
      },
      "source": [
        "0 คือ สามาชิกตัวแรก, -1 คือสมาชิกตัวสุดท้าย "
      ]
    },
    {
      "cell_type": "code",
      "metadata": {
        "colab": {
          "base_uri": "https://localhost:8080/"
        },
        "id": "vPc7DaCTd32F",
        "outputId": "df8298dd-8a78-49c3-c5e1-e861bf116091"
      },
      "source": [
        "list_b[-2]  # ดังที่อยู๋ในวงเล็บหลังจากตัวแปร list เรียกว่า index ใช้สำหรับชี้ข้อมูลใน list (ชี้จากข้างหน้า,ชี้จากข้างหลัง)"
      ],
      "execution_count": 64,
      "outputs": [
        {
          "output_type": "execute_result",
          "data": {
            "text/plain": [
              "1997"
            ]
          },
          "metadata": {
            "tags": []
          },
          "execution_count": 64
        }
      ]
    },
    {
      "cell_type": "markdown",
      "metadata": {
        "id": "n8Wj2iRrf9DY"
      },
      "source": [
        "### String > list of characters "
      ]
    },
    {
      "cell_type": "markdown",
      "metadata": {
        "id": "4i2K2JqfhVkW"
      },
      "source": [
        " คำสั่งที่ใช้กับ list สามารถใช้กับ string "
      ]
    },
    {
      "cell_type": "code",
      "metadata": {
        "colab": {
          "base_uri": "https://localhost:8080/"
        },
        "id": "nUHrfNwUdVvt",
        "outputId": "fdc101da-5374-48e2-9274-bea011c5adc2"
      },
      "source": [
        "t = 'phattarasorn is god'\r\n",
        "print(t)"
      ],
      "execution_count": 68,
      "outputs": [
        {
          "output_type": "stream",
          "text": [
            "phattarasorn is god\n"
          ],
          "name": "stdout"
        }
      ]
    },
    {
      "cell_type": "code",
      "metadata": {
        "colab": {
          "base_uri": "https://localhost:8080/",
          "height": 35
        },
        "id": "j_rdd2KwgEBm",
        "outputId": "7f56e363-2506-4605-a6b8-e1dc87106849"
      },
      "source": [
        "t[1]  #หมายความว่า ต้องการทราบ tตัวที่1"
      ],
      "execution_count": 67,
      "outputs": [
        {
          "output_type": "execute_result",
          "data": {
            "application/vnd.google.colaboratory.intrinsic+json": {
              "type": "string"
            },
            "text/plain": [
              "'h'"
            ]
          },
          "metadata": {
            "tags": []
          },
          "execution_count": 67
        }
      ]
    },
    {
      "cell_type": "code",
      "metadata": {
        "colab": {
          "base_uri": "https://localhost:8080/",
          "height": 35
        },
        "id": "JldwEmcfhR_m",
        "outputId": "4dda643c-d281-4a19-f89c-f6a950d16ab8"
      },
      "source": [
        "t[-5]"
      ],
      "execution_count": 70,
      "outputs": [
        {
          "output_type": "execute_result",
          "data": {
            "application/vnd.google.colaboratory.intrinsic+json": {
              "type": "string"
            },
            "text/plain": [
              "'s'"
            ]
          },
          "metadata": {
            "tags": []
          },
          "execution_count": 70
        }
      ]
    },
    {
      "cell_type": "code",
      "metadata": {
        "colab": {
          "base_uri": "https://localhost:8080/",
          "height": 35
        },
        "id": "H4PtCEt0icY0",
        "outputId": "ee54b83b-2ff2-4366-fc0b-ed99dc90f6c6"
      },
      "source": [
        "t[6]"
      ],
      "execution_count": 71,
      "outputs": [
        {
          "output_type": "execute_result",
          "data": {
            "application/vnd.google.colaboratory.intrinsic+json": {
              "type": "string"
            },
            "text/plain": [
              "'r'"
            ]
          },
          "metadata": {
            "tags": []
          },
          "execution_count": 71
        }
      ]
    },
    {
      "cell_type": "code",
      "metadata": {
        "colab": {
          "base_uri": "https://localhost:8080/",
          "height": 35
        },
        "id": "lOz_GrmUir6H",
        "outputId": "056c3913-5385-49f2-846b-42c563335e90"
      },
      "source": [
        "t[-4]"
      ],
      "execution_count": 72,
      "outputs": [
        {
          "output_type": "execute_result",
          "data": {
            "application/vnd.google.colaboratory.intrinsic+json": {
              "type": "string"
            },
            "text/plain": [
              "' '"
            ]
          },
          "metadata": {
            "tags": []
          },
          "execution_count": 72
        }
      ]
    },
    {
      "cell_type": "markdown",
      "metadata": {
        "id": "gIGVj67ci5Of"
      },
      "source": [
        "## จบ 5 มค 2021"
      ]
    }
  ]
}