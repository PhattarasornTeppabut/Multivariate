{
  "nbformat": 4,
  "nbformat_minor": 0,
  "metadata": {
    "colab": {
      "name": "python101.ipynb",
      "provenance": [],
      "collapsed_sections": [],
      "include_colab_link": true
    },
    "kernelspec": {
      "name": "python3",
      "display_name": "Python 3"
    }
  },
  "cells": [
    {
      "cell_type": "markdown",
      "metadata": {
        "id": "view-in-github",
        "colab_type": "text"
      },
      "source": [
        "<a href=\"https://colab.research.google.com/github/PhattarasornTeppabut/Multivariate/blob/main/python101.ipynb\" target=\"_parent\"><img src=\"https://colab.research.google.com/assets/colab-badge.svg\" alt=\"Open In Colab\"/></a>"
      ]
    },
    {
      "cell_type": "markdown",
      "metadata": {
        "id": "hEyfflYFpxch"
      },
      "source": [
        "ตัวแปร Variable"
      ]
    },
    {
      "cell_type": "markdown",
      "metadata": {
        "id": "QDXatDM7rGzm"
      },
      "source": [
        "หลักการตั้งชื่อตัวแปรเบื้องต้น\r\n",
        "\r\n",
        "1. ตั้งให้สื่อ\r\n",
        "2. ภาษาอังกฤษ\r\n",
        "3. ใช้ตัวเลขได้แต่ห้ามขึ้นต้นด้วยตัวเลข\r\n",
        "4. ห้ามเว้นวรรค\r\n",
        "5. ตัวเล็กกับตัวใหญ๋ไม่เหมือนกัน"
      ]
    },
    {
      "cell_type": "markdown",
      "metadata": {
        "id": "koUWtuDusZKH"
      },
      "source": [
        "มี output  2 mode : ออกหนเาจอ กับ เข้าไปเก็บในตัวแปร"
      ]
    },
    {
      "cell_type": "markdown",
      "metadata": {
        "id": "eXJW2hPtvL-d"
      },
      "source": [
        "mode1 : ออกหน้าจอ จะไม่ถูกเก็บอยู่ที่ไหน และนำไปใช้ต่อไม่ได้เวลานำไปใช้ต้องพิมพ์ใหม่\r\n"
      ]
    },
    {
      "cell_type": "code",
      "metadata": {
        "colab": {
          "base_uri": "https://localhost:8080/"
        },
        "id": "Iz5A50t-sJLN",
        "outputId": "d924696e-367f-407a-9461-8b0a8117c5ad"
      },
      "source": [
        "3.14159     #hashtag หรือ เครื่องหมาย # (sharp) คือ comment >>> อันนี้คือ output ที่ออกหน้าจอ"
      ],
      "execution_count": 9,
      "outputs": [
        {
          "output_type": "execute_result",
          "data": {
            "text/plain": [
              "3.14159"
            ]
          },
          "metadata": {
            "tags": []
          },
          "execution_count": 9
        }
      ]
    },
    {
      "cell_type": "markdown",
      "metadata": {
        "id": "nBpuWP1jwj4J"
      },
      "source": [
        "mode2 : เอาไปเก็บไว้ในตัวแปร Ex.ตัวแปรชื่อ Pi เอามารับค่า 3.14159 (Pi = 3.14159)เมื่อรับเสร็จสามารถเอาค่า Pi มาแสดงได้"
      ]
    },
    {
      "cell_type": "code",
      "metadata": {
        "id": "DCn6DvyPpcd5"
      },
      "source": [
        "Pi = 3.14159   # อันนี้ คือ output ที่เข้าไปอยู่ในตัวแปร"
      ],
      "execution_count": 10,
      "outputs": []
    },
    {
      "cell_type": "code",
      "metadata": {
        "colab": {
          "base_uri": "https://localhost:8080/"
        },
        "id": "c0qJ6kGLqkEA",
        "outputId": "409b8f48-8c66-4144-a2cf-6b0b20a923bf"
      },
      "source": [
        "Pi"
      ],
      "execution_count": 11,
      "outputs": [
        {
          "output_type": "execute_result",
          "data": {
            "text/plain": [
              "3.14159"
            ]
          },
          "metadata": {
            "tags": []
          },
          "execution_count": 11
        }
      ]
    },
    {
      "cell_type": "markdown",
      "metadata": {
        "id": "JxtdOlAXw7w7"
      },
      "source": [
        "กด Shift+ Enter เพื่อให้เซลล์สามารถขึ้นบรรทัดใหม่ได้ ในเซลล์สามารถมีคำสั่งได้หลายคำสั่ง "
      ]
    },
    {
      "cell_type": "markdown",
      "metadata": {
        "id": "HQb_kXpDxlsl"
      },
      "source": [
        "Ex. คำสั่งที่1 ตั้งตัวแปรชื่อ a แล้วเอาค่า 1234567 มาใส่ในตัวแปร a \r\n",
        "     คำสั่งที่2  ใช้คำสั่ง Print()แสดงผลค่า a \r\n"
      ]
    },
    {
      "cell_type": "code",
      "metadata": {
        "colab": {
          "base_uri": "https://localhost:8080/"
        },
        "id": "RtdN9Zb-tMrt",
        "outputId": "cfbe35c0-bcd7-49dc-8ba2-baf7951978fe"
      },
      "source": [
        "a = 1234567\r\n",
        "print(a)"
      ],
      "execution_count": 12,
      "outputs": [
        {
          "output_type": "stream",
          "text": [
            "1234567\n"
          ],
          "name": "stdout"
        }
      ]
    },
    {
      "cell_type": "markdown",
      "metadata": {
        "id": "Vcg4JRLNutZZ"
      },
      "source": [
        "#ชนิดของตัวแปร  3 ชนิด"
      ]
    },
    {
      "cell_type": "markdown",
      "metadata": {
        "id": "xYML4qa20Ulp"
      },
      "source": [
        "### จำนวนเต็ม (integer , int)"
      ]
    },
    {
      "cell_type": "markdown",
      "metadata": {
        "id": "5CjvgyCB0v1f"
      },
      "source": [
        "จำนวนที่ไม่เป็นจุดทศนิยม"
      ]
    },
    {
      "cell_type": "code",
      "metadata": {
        "colab": {
          "base_uri": "https://localhost:8080/"
        },
        "id": "bT3JXEnnuWbw",
        "outputId": "0b644271-5848-4c70-b19c-f9636ea3d61e"
      },
      "source": [
        "xxx = 1997\r\n",
        "print(xxx)"
      ],
      "execution_count": 13,
      "outputs": [
        {
          "output_type": "stream",
          "text": [
            "1997\n"
          ],
          "name": "stdout"
        }
      ]
    },
    {
      "cell_type": "markdown",
      "metadata": {
        "id": "oV4NKFj_07Yz"
      },
      "source": [
        "### จำนวนจริง (fioat)"
      ]
    },
    {
      "cell_type": "markdown",
      "metadata": {
        "id": "2uSgmKuh1bk3"
      },
      "source": [
        "เมื่อมี . หมายความว่าเป็นจำนวนจริง "
      ]
    },
    {
      "cell_type": "code",
      "metadata": {
        "colab": {
          "base_uri": "https://localhost:8080/"
        },
        "id": "oxN-ObhW0rAy",
        "outputId": "b8c7a5e4-4e38-45fb-9387-ff43ae405dd7"
      },
      "source": [
        "yyy = 43.\r\n",
        "print(yyy)"
      ],
      "execution_count": 14,
      "outputs": [
        {
          "output_type": "stream",
          "text": [
            "43.0\n"
          ],
          "name": "stdout"
        }
      ]
    },
    {
      "cell_type": "markdown",
      "metadata": {
        "id": "1YvPB9tW1lo_"
      },
      "source": [
        "### ตัวอักษร-ข้อความ (character และ text, string)"
      ]
    },
    {
      "cell_type": "markdown",
      "metadata": {
        "id": "s0OdMLFa14Td"
      },
      "source": [
        "string คือ ค่าหลายๆค่าที่นำมาต่อกัน"
      ]
    },
    {
      "cell_type": "code",
      "metadata": {
        "colab": {
          "base_uri": "https://localhost:8080/"
        },
        "id": "MwGi7uH31XYh",
        "outputId": "21db25ed-3f59-4de3-b62a-3cc70fe0f6b6"
      },
      "source": [
        "aaa = '123456' # เราจะใช้ single quote  ' หรือ double quote ''  ล้อมรอบตัวหนังสือเพื่อระบุว่าเป็น character-string  ใช้ได้ทั้งสองตัวแต่ถ้าเปิดด้วยตัวไหนต้องปิดที่ตัวนั้น\r\n",
        "print(aaa)"
      ],
      "execution_count": 15,
      "outputs": [
        {
          "output_type": "stream",
          "text": [
            "123456\n"
          ],
          "name": "stdout"
        }
      ]
    },
    {
      "cell_type": "markdown",
      "metadata": {
        "id": "W3DPfqpA2NLQ"
      },
      "source": [
        "เป็นตัวเลขแต่มี quote ล้อมรอบแปลว่า เป็น string เอาไปใช้ บวก,ลบ,คูณ,หาร ไม่ได้  แต่ถ้าเอา float + int ก็จะได้ float ออกมา\r\n"
      ]
    },
    {
      "cell_type": "code",
      "metadata": {
        "colab": {
          "base_uri": "https://localhost:8080/"
        },
        "id": "WVZ8XzR36WdP",
        "outputId": "5170c5f9-54f0-4b8e-e43a-fd30b59c5db3"
      },
      "source": [
        "xxx + yyy   # float + int = float "
      ],
      "execution_count": 16,
      "outputs": [
        {
          "output_type": "execute_result",
          "data": {
            "text/plain": [
              "2040.0"
            ]
          },
          "metadata": {
            "tags": []
          },
          "execution_count": 16
        }
      ]
    },
    {
      "cell_type": "code",
      "metadata": {
        "colab": {
          "base_uri": "https://localhost:8080/",
          "height": 162
        },
        "id": "RlIf5ewL6yU6",
        "outputId": "aeff57fe-de5b-493a-c7f3-049967ad91e8"
      },
      "source": [
        "yyy + aaa"
      ],
      "execution_count": 17,
      "outputs": [
        {
          "output_type": "error",
          "ename": "TypeError",
          "evalue": "ignored",
          "traceback": [
            "\u001b[0;31m---------------------------------------------------------------------------\u001b[0m",
            "\u001b[0;31mTypeError\u001b[0m                                 Traceback (most recent call last)",
            "\u001b[0;32m<ipython-input-17-c6255280f14f>\u001b[0m in \u001b[0;36m<module>\u001b[0;34m()\u001b[0m\n\u001b[0;32m----> 1\u001b[0;31m \u001b[0myyy\u001b[0m \u001b[0;34m+\u001b[0m \u001b[0maaa\u001b[0m\u001b[0;34m\u001b[0m\u001b[0;34m\u001b[0m\u001b[0m\n\u001b[0m",
            "\u001b[0;31mTypeError\u001b[0m: unsupported operand type(s) for +: 'float' and 'str'"
          ]
        }
      ]
    },
    {
      "cell_type": "code",
      "metadata": {
        "id": "izkwNulw7zEY"
      },
      "source": [
        "ddd =  'ภัทรสร'  #สามารถเป็นข้อความภาษาไทยได้\r\n",
        "print(ddd)"
      ],
      "execution_count": null,
      "outputs": []
    },
    {
      "cell_type": "markdown",
      "metadata": {
        "id": "72_7GVrO8RTb"
      },
      "source": [
        "# การเปลี่ยนชนิดของตัวแปร variable casting"
      ]
    },
    {
      "cell_type": "markdown",
      "metadata": {
        "id": "PvCHniMq85xo"
      },
      "source": [
        "aaa เป็นตัวเลข แต่ถูก quoteปิดอยู่ จึงเป็นข้อความที่เป็นตัวเลข ทำให้เป็นตัวเลขจริงๆได้โดยการ บังคับให้เป็นตัวแปรชนิดที่เราต้องการได้เลย"
      ]
    },
    {
      "cell_type": "code",
      "metadata": {
        "id": "YmAesW7U8MoG"
      },
      "source": [
        "xxx + int( aaa ) "
      ],
      "execution_count": null,
      "outputs": []
    },
    {
      "cell_type": "code",
      "metadata": {
        "id": "PNPejlQw9-l9"
      },
      "source": [
        "xxx + float( aaa )"
      ],
      "execution_count": null,
      "outputs": []
    },
    {
      "cell_type": "markdown",
      "metadata": {
        "id": "k9DZfbRA-NYL"
      },
      "source": [
        "int สามารถเปลี่ยนกลับไปเป็นข้อความได้เหมือนเดิม แต่ถ้าสั่งข้อความเป็น print มันจะดูไม่ออก"
      ]
    },
    {
      "cell_type": "markdown",
      "metadata": {
        "id": "tklaQ59A_Uav"
      },
      "source": [
        "* ข้อสังเกต *  การพิมพ์แบบนี้ทำได้เฉพาะในตัว Notebook "
      ]
    },
    {
      "cell_type": "code",
      "metadata": {
        "id": "6dRf0Xcr-E8B"
      },
      "source": [
        "str(xxx) "
      ],
      "execution_count": null,
      "outputs": []
    },
    {
      "cell_type": "markdown",
      "metadata": {
        "id": "03v7r3UU-z67"
      },
      "source": [
        "# การดำเนินการ Operation (Operators +,-,*,/,%)"
      ]
    },
    {
      "cell_type": "markdown",
      "metadata": {
        "id": "QEGkEOZFArhn"
      },
      "source": [
        "ไม่มีตัวแปร b จึงบวกไม่ได้ "
      ]
    },
    {
      "cell_type": "code",
      "metadata": {
        "id": "ar1Ffs7vAfM-"
      },
      "source": [
        "a+b"
      ],
      "execution_count": null,
      "outputs": []
    },
    {
      "cell_type": "code",
      "metadata": {
        "id": "7w5cvFnOAi--"
      },
      "source": [
        "xxx + yyy"
      ],
      "execution_count": null,
      "outputs": []
    },
    {
      "cell_type": "code",
      "metadata": {
        "id": "le-aPFq-A92r"
      },
      "source": [
        "xxx - yyy"
      ],
      "execution_count": null,
      "outputs": []
    },
    {
      "cell_type": "markdown",
      "metadata": {
        "id": "xTiPAnxHBNsy"
      },
      "source": [
        "ถ้าอยากเอาไปใช้ต่อ ต้องเอาตัวแปรมารับ "
      ]
    },
    {
      "cell_type": "code",
      "metadata": {
        "id": "LmGD2lb5BA1h"
      },
      "source": [
        "xy = xxx*yyy\r\n",
        "print(xy)"
      ],
      "execution_count": null,
      "outputs": []
    },
    {
      "cell_type": "code",
      "metadata": {
        "id": "P9Q8ppgXBgBI"
      },
      "source": [
        "xy + int(aaa)"
      ],
      "execution_count": null,
      "outputs": []
    },
    {
      "cell_type": "markdown",
      "metadata": {
        "id": "PuK2i8TZB71q"
      },
      "source": [
        "### % เครื่องหมาย modulo"
      ]
    },
    {
      "cell_type": "markdown",
      "metadata": {
        "id": "rf7Y5oa2Cejc"
      },
      "source": [
        "คือ เครื่องหมาย หารเอาเศษ"
      ]
    },
    {
      "cell_type": "code",
      "metadata": {
        "id": "o4KziKvJB4zn"
      },
      "source": [
        "5%3"
      ],
      "execution_count": null,
      "outputs": []
    },
    {
      "cell_type": "code",
      "metadata": {
        "id": "Yd6aZxw0CaJo"
      },
      "source": [
        "7%3"
      ],
      "execution_count": null,
      "outputs": []
    },
    {
      "cell_type": "markdown",
      "metadata": {
        "id": "_kTKFFntDolp"
      },
      "source": [
        "### คำสั่ง print แบบพิเศษ (การ format string)"
      ]
    },
    {
      "cell_type": "code",
      "metadata": {
        "id": "jQufcckTCcsN"
      },
      "source": [
        "print('ตัวแปร') #สิ่งที่อยู๋ในวงเล็บ คือ ตัวแปร และ string "
      ],
      "execution_count": null,
      "outputs": []
    },
    {
      "cell_type": "markdown",
      "metadata": {
        "id": "2-iuwR7QIOaS"
      },
      "source": [
        "*Note*\r\n",
        "1.  print เราสามารถ print ได้ทั้งตัวแปรและstring\r\n",
        "2. เพื่อความสวยงามสามารถแก้ไขตัว print ให้ฉลาดมากขึ้นโดยการเพิ่ม f สามารถเอา code ใส่เข้าในตัวข้อความได้ \r\n",
        "3. เครื่องหมาย {} จะแสดงแค่คำตอบของ 7%3 คือ เท่ากับ 1"
      ]
    },
    {
      "cell_type": "code",
      "metadata": {
        "id": "MHBZNumRF5sf"
      },
      "source": [
        "print( f'% คือการหารเอาเศษ เช่น 7%3 = {7%3}')   #เพิ่ม f หน้า 'string' และใช้ {} ใส่ code"
      ],
      "execution_count": null,
      "outputs": []
    },
    {
      "cell_type": "code",
      "metadata": {
        "id": "sQPNUAcZKcSm"
      },
      "source": [
        "print(f'% คือการหารเอาเศษ เช่น 7%3 = {7%3} \\\r\n",
        "      แต่\\n/ คือการหารปกติ เช่น 7/3 = {7/3} \\\r\n",
        "      และ\\n// คือการหารเอาส่วน เช่น 7//3 = {7//3} \\\r\n",
        "      หรือ\\nใช้ int() เพื่อหารเอาส่วน เช่น int(7/3) = {int(7/3)}')  # \\n คือการขึ้นบรรทัดใหม่ที่ comเห็น \\ ใช้ในการตัด code แต่ com จะไม่เห็น"
      ],
      "execution_count": null,
      "outputs": []
    },
    {
      "cell_type": "markdown",
      "metadata": {
        "id": "96WQjQt-SFMo"
      },
      "source": [
        "##DATA STRUCTURE (โครงสร้างข้อมูล)"
      ]
    },
    {
      "cell_type": "markdown",
      "metadata": {
        "id": "NkTxpBRbXQa_"
      },
      "source": [
        "### List คือการเอาข้อมูลหลายๆตัวมาเรียงต่อกัน\r\n",
        "#### list สามารถสร้างได้ 2 แบบ ดังนี้"
      ]
    },
    {
      "cell_type": "markdown",
      "metadata": {
        "id": "tduT8KprX5qV"
      },
      "source": [
        "ข้อมูลสามารถเป็นได้ทั้ง ตัวเลข,ตัวอักษรและตัวแปร สัญลักษณ์ของ list คือ [ ]  \r\n",
        "เราสามารถจัดกลุ่มตัวแปรหลายๆตัวมารวมยู่ในที่เก็บเดียวกันได้\r\n",
        "\r\n"
      ]
    },
    {
      "cell_type": "code",
      "metadata": {
        "id": "7R3PNJSMN_O6"
      },
      "source": [
        "[111, 'c', 'แจมิน', xxx ]"
      ],
      "execution_count": null,
      "outputs": []
    },
    {
      "cell_type": "markdown",
      "metadata": {
        "id": "FV-NXpREZnLC"
      },
      "source": [
        "### แบบที่1 > square brackets\r\n",
        "#### สร้างด้วยสัญลักษณ์ของ list"
      ]
    },
    {
      "cell_type": "code",
      "metadata": {
        "colab": {
          "base_uri": "https://localhost:8080/"
        },
        "id": "3xxIcpbGXqwA",
        "outputId": "06c69aa6-ac43-4efb-99c1-cde0a0b75f8f"
      },
      "source": [
        "list_a = []         #list [] = list ว่าง\r\n",
        "print(list_a)  "
      ],
      "execution_count": 25,
      "outputs": [
        {
          "output_type": "stream",
          "text": [
            "[]\n"
          ],
          "name": "stdout"
        }
      ]
    },
    {
      "cell_type": "code",
      "metadata": {
        "colab": {
          "base_uri": "https://localhost:8080/"
        },
        "id": "tK2dgVI8aIOh",
        "outputId": "49b92f82-fd6c-419a-c7bd-e061b8139b48"
      },
      "source": [
        "list_b = [111, 'c', 'แจมิน', xxx ]  \r\n",
        "print(list_b)"
      ],
      "execution_count": 26,
      "outputs": [
        {
          "output_type": "stream",
          "text": [
            "[111, 'c', 'แจมิน', 1997]\n"
          ],
          "name": "stdout"
        }
      ]
    },
    {
      "cell_type": "markdown",
      "metadata": {
        "id": "oaD1goUha9H2"
      },
      "source": [
        "### ลำดับที่อยู๋ใน list มีความสำคัญ (ลำดับใน list เริ่มจาก 0,1,2,...)"
      ]
    },
    {
      "cell_type": "code",
      "metadata": {
        "colab": {
          "base_uri": "https://localhost:8080/",
          "height": 34
        },
        "id": "79LI2VzhbWHf",
        "outputId": "8fb2d808-d96b-455f-d762-f3cce2e3188c"
      },
      "source": [
        "list_b[2]    #หมายความว่าอยากได้สมาชิกตัวที่2 และลำดับไม่มีความเปลี่ยนแปลง"
      ],
      "execution_count": 27,
      "outputs": [
        {
          "output_type": "execute_result",
          "data": {
            "application/vnd.google.colaboratory.intrinsic+json": {
              "type": "string"
            },
            "text/plain": [
              "'แจมิน'"
            ]
          },
          "metadata": {
            "tags": []
          },
          "execution_count": 27
        }
      ]
    },
    {
      "cell_type": "markdown",
      "metadata": {
        "id": "pHYSqXT_cQA7"
      },
      "source": [
        "### แบบที่2 \r\n",
        "###### จะบอกว่าตัวแปรเท่ากับ list "
      ]
    },
    {
      "cell_type": "code",
      "metadata": {
        "colab": {
          "base_uri": "https://localhost:8080/"
        },
        "id": "udARqZhfbeLD",
        "outputId": "64e2ec53-aef3-4e41-fa6a-26e1c2777385"
      },
      "source": [
        "list_c = list()\r\n",
        "print(list_c)"
      ],
      "execution_count": 28,
      "outputs": [
        {
          "output_type": "stream",
          "text": [
            "[]\n"
          ],
          "name": "stdout"
        }
      ]
    },
    {
      "cell_type": "markdown",
      "metadata": {
        "id": "UfnP5sXIcsvs"
      },
      "source": [
        "### append() เพิ่มสมาชิกใน list"
      ]
    },
    {
      "cell_type": "markdown",
      "metadata": {
        "id": "tlIGhAkwddWJ"
      },
      "source": [
        ". append คือ เอาสมาชิกไปต่อท้ายของ list"
      ]
    },
    {
      "cell_type": "code",
      "metadata": {
        "colab": {
          "base_uri": "https://localhost:8080/"
        },
        "id": "ywiEgKiBcp07",
        "outputId": "950b75e8-d305-401b-8313-1167a484bd22"
      },
      "source": [
        "list_b. append('u')\r\n",
        "print(list_b)"
      ],
      "execution_count": 29,
      "outputs": [
        {
          "output_type": "stream",
          "text": [
            "[111, 'c', 'แจมิน', 1997, 'u']\n"
          ],
          "name": "stdout"
        }
      ]
    },
    {
      "cell_type": "markdown",
      "metadata": {
        "id": "jUZNOPBceXYy"
      },
      "source": [
        "ชี้จากข้างหน้า คือ  อยากได้ตัวไหนก็สามารถชี้เอาได้เลย    \r\n",
        "ชี้จากข้างหลัง คือ ต้องใส่เครื่องหมาย - เข้าไป เช่น [-1]"
      ]
    },
    {
      "cell_type": "markdown",
      "metadata": {
        "id": "oZA6wSEGfhtn"
      },
      "source": [
        "0 คือ สามาชิกตัวแรก, -1 คือสมาชิกตัวสุดท้าย "
      ]
    },
    {
      "cell_type": "code",
      "metadata": {
        "colab": {
          "base_uri": "https://localhost:8080/"
        },
        "id": "vPc7DaCTd32F",
        "outputId": "428c10aa-4dda-48f6-e8af-6f374f7ecaef"
      },
      "source": [
        "list_b[-2]  # ดังที่อยู๋ในวงเล็บหลังจากตัวแปร list เรียกว่า index ใช้สำหรับชี้ข้อมูลใน list (ชี้จากข้างหน้า,ชี้จากข้างหลัง)"
      ],
      "execution_count": 30,
      "outputs": [
        {
          "output_type": "execute_result",
          "data": {
            "text/plain": [
              "1997"
            ]
          },
          "metadata": {
            "tags": []
          },
          "execution_count": 30
        }
      ]
    },
    {
      "cell_type": "markdown",
      "metadata": {
        "id": "n8Wj2iRrf9DY"
      },
      "source": [
        "### String > list of characters "
      ]
    },
    {
      "cell_type": "markdown",
      "metadata": {
        "id": "4i2K2JqfhVkW"
      },
      "source": [
        " คำสั่งที่ใช้กับ list สามารถใช้กับ string "
      ]
    },
    {
      "cell_type": "code",
      "metadata": {
        "colab": {
          "base_uri": "https://localhost:8080/"
        },
        "id": "nUHrfNwUdVvt",
        "outputId": "642f944d-1bb5-484d-ccb3-2b2893defed6"
      },
      "source": [
        "t = 'phattarasorn is god'\r\n",
        "print(t)"
      ],
      "execution_count": 31,
      "outputs": [
        {
          "output_type": "stream",
          "text": [
            "phattarasorn is god\n"
          ],
          "name": "stdout"
        }
      ]
    },
    {
      "cell_type": "code",
      "metadata": {
        "colab": {
          "base_uri": "https://localhost:8080/",
          "height": 34
        },
        "id": "j_rdd2KwgEBm",
        "outputId": "da43fd01-7aa2-4da2-bad8-1f319c41a4f3"
      },
      "source": [
        "t[1]  #หมายความว่า ต้องการทราบ tตัวที่1"
      ],
      "execution_count": 32,
      "outputs": [
        {
          "output_type": "execute_result",
          "data": {
            "application/vnd.google.colaboratory.intrinsic+json": {
              "type": "string"
            },
            "text/plain": [
              "'h'"
            ]
          },
          "metadata": {
            "tags": []
          },
          "execution_count": 32
        }
      ]
    },
    {
      "cell_type": "code",
      "metadata": {
        "colab": {
          "base_uri": "https://localhost:8080/",
          "height": 34
        },
        "id": "JldwEmcfhR_m",
        "outputId": "541aa98d-7dce-4652-80c5-897c1c061dd4"
      },
      "source": [
        "t[-5]"
      ],
      "execution_count": 33,
      "outputs": [
        {
          "output_type": "execute_result",
          "data": {
            "application/vnd.google.colaboratory.intrinsic+json": {
              "type": "string"
            },
            "text/plain": [
              "'s'"
            ]
          },
          "metadata": {
            "tags": []
          },
          "execution_count": 33
        }
      ]
    },
    {
      "cell_type": "code",
      "metadata": {
        "colab": {
          "base_uri": "https://localhost:8080/",
          "height": 34
        },
        "id": "H4PtCEt0icY0",
        "outputId": "bee6934f-bdf3-4fa3-aa96-d357c4373ca3"
      },
      "source": [
        "t[6]"
      ],
      "execution_count": 34,
      "outputs": [
        {
          "output_type": "execute_result",
          "data": {
            "application/vnd.google.colaboratory.intrinsic+json": {
              "type": "string"
            },
            "text/plain": [
              "'r'"
            ]
          },
          "metadata": {
            "tags": []
          },
          "execution_count": 34
        }
      ]
    },
    {
      "cell_type": "code",
      "metadata": {
        "colab": {
          "base_uri": "https://localhost:8080/",
          "height": 34
        },
        "id": "lOz_GrmUir6H",
        "outputId": "61d93f36-c62c-4a5a-8180-81b74f9a343b"
      },
      "source": [
        "t[-4]"
      ],
      "execution_count": 35,
      "outputs": [
        {
          "output_type": "execute_result",
          "data": {
            "application/vnd.google.colaboratory.intrinsic+json": {
              "type": "string"
            },
            "text/plain": [
              "' '"
            ]
          },
          "metadata": {
            "tags": []
          },
          "execution_count": 35
        }
      ]
    },
    {
      "cell_type": "code",
      "metadata": {
        "id": "yCaP_ptOFfZW",
        "outputId": "3da2f687-712a-4130-fcd3-332db2376771",
        "colab": {
          "base_uri": "https://localhost:8080/"
        }
      },
      "source": [
        "len(list_b)      # len คือคำสั่งตรวจสอบความยาวของ list (จำนวนสมาชิก)"
      ],
      "execution_count": 36,
      "outputs": [
        {
          "output_type": "execute_result",
          "data": {
            "text/plain": [
              "5"
            ]
          },
          "metadata": {
            "tags": []
          },
          "execution_count": 36
        }
      ]
    },
    {
      "cell_type": "code",
      "metadata": {
        "id": "WiaY5NDAF0AO",
        "outputId": "4d73a58f-ffdc-493c-b899-0f180ad05d6d",
        "colab": {
          "base_uri": "https://localhost:8080/"
        }
      },
      "source": [
        "len(t)"
      ],
      "execution_count": 37,
      "outputs": [
        {
          "output_type": "execute_result",
          "data": {
            "text/plain": [
              "19"
            ]
          },
          "metadata": {
            "tags": []
          },
          "execution_count": 37
        }
      ]
    },
    {
      "cell_type": "markdown",
      "metadata": {
        "id": "gIGVj67ci5Of"
      },
      "source": [
        "## จบ 5 มค 2021"
      ]
    },
    {
      "cell_type": "markdown",
      "metadata": {
        "id": "NtFTP6J0F4za"
      },
      "source": [
        "#ตัวที่อยู่ข้างใน [ ] เรียกว่า index (ตัวชี้)"
      ]
    },
    {
      "cell_type": "markdown",
      "metadata": {
        "id": "Qx73GWmfGi-G"
      },
      "source": [
        "###List slicing สามารถทำได้โดยใช้ colon :"
      ]
    },
    {
      "cell_type": "code",
      "metadata": {
        "id": "E7jIA9LlGuqE",
        "outputId": "66bdf4af-d61b-41d9-d92f-a0d8c66c2151",
        "colab": {
          "base_uri": "https://localhost:8080/"
        }
      },
      "source": [
        "print(t)\r\n",
        "print(t[7:9])\r\n",
        "print(len(t[7:9]))"
      ],
      "execution_count": 39,
      "outputs": [
        {
          "output_type": "stream",
          "text": [
            "phattarasorn is god\n",
            "as\n",
            "2\n"
          ],
          "name": "stdout"
        }
      ]
    },
    {
      "cell_type": "code",
      "metadata": {
        "id": "vsFVqAybHDPp",
        "outputId": "5fb1266e-6ce5-4ccc-8a40-49ba6beb2a97",
        "colab": {
          "base_uri": "https://localhost:8080/",
          "height": 34
        }
      },
      "source": [
        "t[0:23:2]    #เริ่มตัวที่ 0 โดยเอาทุกๆ 2 ตัวจนจบ"
      ],
      "execution_count": 40,
      "outputs": [
        {
          "output_type": "execute_result",
          "data": {
            "application/vnd.google.colaboratory.intrinsic+json": {
              "type": "string"
            },
            "text/plain": [
              "'patrsr sgd'"
            ]
          },
          "metadata": {
            "tags": []
          },
          "execution_count": 40
        }
      ]
    },
    {
      "cell_type": "markdown",
      "metadata": {
        "id": "k_ER_Q_BHpnz"
      },
      "source": [
        "###quiz\r\n",
        "\r\n",
        "ให้ใช้ list slicing เลือกมาเฉพาะเลขคู่"
      ]
    },
    {
      "cell_type": "code",
      "metadata": {
        "id": "AaIfQE-UHcP0"
      },
      "source": [
        "z = [1,2,3,4,5,6,7,8,9,10]"
      ],
      "execution_count": 43,
      "outputs": []
    },
    {
      "cell_type": "code",
      "metadata": {
        "id": "Rm1MCDOrIDhY",
        "outputId": "f1ce6404-7484-4242-a394-aee0f3d38ded",
        "colab": {
          "base_uri": "https://localhost:8080/"
        }
      },
      "source": [
        "z[1:10:2]"
      ],
      "execution_count": 44,
      "outputs": [
        {
          "output_type": "execute_result",
          "data": {
            "text/plain": [
              "[2, 4, 6, 8, 10]"
            ]
          },
          "metadata": {
            "tags": []
          },
          "execution_count": 44
        }
      ]
    },
    {
      "cell_type": "markdown",
      "metadata": {
        "id": "wqpC0PaKIdL4"
      },
      "source": [
        "ถ้าเว้นว่างหน้า colon : หมายความว่า เริ่มตั้งแต่ตัวแรก (0) ถ้าเว้นว่างหลัง colon : หมายความว่า ไปจนถึงตัวสุดท้าย"
      ]
    },
    {
      "cell_type": "code",
      "metadata": {
        "id": "DNkLAPQEIL0L",
        "outputId": "500e4f17-c7b7-4592-9512-dc6426e1c1a5",
        "colab": {
          "base_uri": "https://localhost:8080/"
        }
      },
      "source": [
        "print(t)\r\n",
        "print(t[:6])     #เอาตั้งแต่ตัวแรกไปจนถึงตัวที่6\r\n",
        "print(t[10:])\r\n",
        "print(t[-4:])\r\n",
        "print(t[ : ])"
      ],
      "execution_count": 45,
      "outputs": [
        {
          "output_type": "stream",
          "text": [
            "phattarasorn is god\n",
            "phatta\n",
            "rn is god\n",
            " god\n",
            "phattarasorn is god\n"
          ],
          "name": "stdout"
        }
      ]
    },
    {
      "cell_type": "code",
      "metadata": {
        "id": "sFK2_M5UHPV-",
        "outputId": "6c7a7484-cb13-45de-9064-c27469cd230b",
        "colab": {
          "base_uri": "https://localhost:8080/"
        }
      },
      "source": [
        "print(t[: :2])    # : ตัวแรกคือ เริ่มตั้งแต่ตัวแรก : ตัวที่สองคือ ตัวสุดท้าย ส่วนเลข 2 คือ เว้นทีละสองตัว"
      ],
      "execution_count": 47,
      "outputs": [
        {
          "output_type": "stream",
          "text": [
            "patrsr sgd\n"
          ],
          "name": "stdout"
        }
      ]
    },
    {
      "cell_type": "markdown",
      "metadata": {
        "id": "emDzVVJNH7Tc"
      },
      "source": [
        "###เราสามารถเอา list มาต่อกันได้ด้วย +"
      ]
    },
    {
      "cell_type": "code",
      "metadata": {
        "id": "yu_eZqlPHhZZ",
        "outputId": "f65e7cdc-8da5-4d6e-901d-a15d7329bd00",
        "colab": {
          "base_uri": "https://localhost:8080/",
          "height": 34
        }
      },
      "source": [
        "t + '??'"
      ],
      "execution_count": 48,
      "outputs": [
        {
          "output_type": "execute_result",
          "data": {
            "application/vnd.google.colaboratory.intrinsic+json": {
              "type": "string"
            },
            "text/plain": [
              "'phattarasorn is god??'"
            ]
          },
          "metadata": {
            "tags": []
          },
          "execution_count": 48
        }
      ]
    },
    {
      "cell_type": "code",
      "metadata": {
        "id": "yS9o_ctQVrXO",
        "outputId": "35a76406-3055-4e6e-cacb-b525f34015e0",
        "colab": {
          "base_uri": "https://localhost:8080/",
          "height": 162
        }
      },
      "source": [
        "t + list_b                #ไม่สามารถเอา list ปกติมาต่อกับ string ได้"
      ],
      "execution_count": 59,
      "outputs": [
        {
          "output_type": "error",
          "ename": "TypeError",
          "evalue": "ignored",
          "traceback": [
            "\u001b[0;31m---------------------------------------------------------------------------\u001b[0m",
            "\u001b[0;31mTypeError\u001b[0m                                 Traceback (most recent call last)",
            "\u001b[0;32m<ipython-input-59-7d392ba9897f>\u001b[0m in \u001b[0;36m<module>\u001b[0;34m()\u001b[0m\n\u001b[0;32m----> 1\u001b[0;31m \u001b[0mt\u001b[0m \u001b[0;34m+\u001b[0m \u001b[0mlist_b\u001b[0m                \u001b[0;31m#ไม่สามารถเอา list ปกติมาต่อกับ string ได้\u001b[0m\u001b[0;34m\u001b[0m\u001b[0;34m\u001b[0m\u001b[0m\n\u001b[0m",
            "\u001b[0;31mTypeError\u001b[0m: must be str, not list"
          ]
        }
      ]
    },
    {
      "cell_type": "code",
      "metadata": {
        "id": "FfQ9Xn0BIOR6",
        "outputId": "fe98c359-c78b-4f45-f72d-953638f2ecf1",
        "colab": {
          "base_uri": "https://localhost:8080/"
        }
      },
      "source": [
        "print(list_a)\r\n",
        "print(list_b)\r\n",
        "print(list_b + list_a)    # + คือการเอาสมาชิกมารวมกัน"
      ],
      "execution_count": 49,
      "outputs": [
        {
          "output_type": "stream",
          "text": [
            "[]\n",
            "[111, 'c', 'แจมิน', 1997, 'u']\n",
            "[111, 'c', 'แจมิน', 1997, 'u']\n"
          ],
          "name": "stdout"
        }
      ]
    },
    {
      "cell_type": "code",
      "metadata": {
        "id": "AryRjKhgIgBg",
        "outputId": "290bb9c0-6938-4850-d54f-4b031e695d41",
        "colab": {
          "base_uri": "https://localhost:8080/"
        }
      },
      "source": [
        "list_b. append(list_a)   #เอาทั้งรุ่นมาต่อกันเข้าไป\r\n",
        "print(list_b)"
      ],
      "execution_count": 51,
      "outputs": [
        {
          "output_type": "stream",
          "text": [
            "[111, 'c', 'แจมิน', 1997, 'u', [], []]\n"
          ],
          "name": "stdout"
        }
      ]
    },
    {
      "cell_type": "markdown",
      "metadata": {
        "id": "NT04XuupUObp"
      },
      "source": [
        "###การแบ่ง  string ตามสัญลักษณ์ที่กำหนด -> split string "
      ]
    },
    {
      "cell_type": "code",
      "metadata": {
        "id": "1NdFWLuAUJFV",
        "outputId": "b9c9f78d-c119-4a4d-f35f-293d21be0db6",
        "colab": {
          "base_uri": "https://localhost:8080/",
          "height": 34
        }
      },
      "source": [
        "t"
      ],
      "execution_count": 52,
      "outputs": [
        {
          "output_type": "execute_result",
          "data": {
            "application/vnd.google.colaboratory.intrinsic+json": {
              "type": "string"
            },
            "text/plain": [
              "'phattarasorn is god'"
            ]
          },
          "metadata": {
            "tags": []
          },
          "execution_count": 52
        }
      ]
    },
    {
      "cell_type": "code",
      "metadata": {
        "id": "tOWp5OdzUfMX",
        "outputId": "45b030b9-cdf1-479d-f599-6927293f9555",
        "colab": {
          "base_uri": "https://localhost:8080/"
        }
      },
      "source": [
        "t.split( ' ' )              # split คือ แข่ง string ด้วย"
      ],
      "execution_count": 53,
      "outputs": [
        {
          "output_type": "execute_result",
          "data": {
            "text/plain": [
              "['phattarasorn', 'is', 'god']"
            ]
          },
          "metadata": {
            "tags": []
          },
          "execution_count": 53
        }
      ]
    },
    {
      "cell_type": "code",
      "metadata": {
        "id": "1O2PZ7HMUtRm"
      },
      "source": [
        "time = '12:30:15'"
      ],
      "execution_count": 54,
      "outputs": []
    },
    {
      "cell_type": "code",
      "metadata": {
        "id": "2e6xbYmoU0WF",
        "outputId": "02f38962-5a2b-4bcb-81ae-15acc2d9235a",
        "colab": {
          "base_uri": "https://localhost:8080/"
        }
      },
      "source": [
        "time. split( ' : ' )"
      ],
      "execution_count": 56,
      "outputs": [
        {
          "output_type": "execute_result",
          "data": {
            "text/plain": [
              "['12:30:15']"
            ]
          },
          "metadata": {
            "tags": []
          },
          "execution_count": 56
        }
      ]
    },
    {
      "cell_type": "code",
      "metadata": {
        "id": "mZn_2B5-U8Yc",
        "outputId": "fcb6a0ff-546d-4f8e-82b7-cde8d51d0114",
        "colab": {
          "base_uri": "https://localhost:8080/"
        }
      },
      "source": [
        "k_sp =  t.split( ' ' )\r\n",
        "print(k_sp)"
      ],
      "execution_count": 57,
      "outputs": [
        {
          "output_type": "stream",
          "text": [
            "['phattarasorn', 'is', 'god']\n"
          ],
          "name": "stdout"
        }
      ]
    },
    {
      "cell_type": "code",
      "metadata": {
        "id": "ZBTfaWMHVSZE"
      },
      "source": [
        "q1 = '12:30:15'"
      ],
      "execution_count": 58,
      "outputs": []
    },
    {
      "cell_type": "code",
      "metadata": {
        "id": "JKaCJMtWaRrU"
      },
      "source": [
        "q2 = '13:41:07'"
      ],
      "execution_count": 64,
      "outputs": []
    },
    {
      "cell_type": "code",
      "metadata": {
        "id": "KDgReYxDaRis"
      },
      "source": [
        "q3 = '12:53:15'"
      ],
      "execution_count": 65,
      "outputs": []
    },
    {
      "cell_type": "code",
      "metadata": {
        "id": "X7ZPGpcgaRdQ"
      },
      "source": [
        "q4 = '00:59:25'"
      ],
      "execution_count": 66,
      "outputs": []
    },
    {
      "cell_type": "code",
      "metadata": {
        "id": "IZ-NGySDaRVC"
      },
      "source": [
        "q5 = '11:11:11'"
      ],
      "execution_count": 67,
      "outputs": []
    },
    {
      "cell_type": "code",
      "metadata": {
        "id": "HLaXI9KwaRL-"
      },
      "source": [
        "q6 = '16:06:09'"
      ],
      "execution_count": 68,
      "outputs": []
    },
    {
      "cell_type": "code",
      "metadata": {
        "id": "zPqrYpLmaRB2"
      },
      "source": [
        "q7 = '21:12:30'"
      ],
      "execution_count": 69,
      "outputs": []
    },
    {
      "cell_type": "code",
      "metadata": {
        "id": "c6ThHfEzaOnW"
      },
      "source": [
        "q8 = '10:06:15'"
      ],
      "execution_count": 70,
      "outputs": []
    },
    {
      "cell_type": "markdown",
      "metadata": {
        "id": "YaX78Y0CWSaG"
      },
      "source": [
        "###HW คำนวณเวลาเป็นวินาทีของเวลาต่อไปนี้โดยใช้คำสั่ง split() ช่วย (print ออกมาให้สวยงาม)\r\n",
        "\r\n",
        "12:30:15\r\n",
        "\r\n",
        "13:41:07\r\n",
        "\r\n",
        "12:53:15\r\n",
        "\r\n",
        "00:59:25\r\n",
        "\r\n",
        "11:11:11\r\n",
        "\r\n",
        "16:06:09\r\n",
        "\r\n",
        "21:12:30\r\n",
        "\r\n",
        "10:06:15\r\n",
        "\r\n",
        "exp = > 00:01:10 = 70 วินาที\r\n",
        "\r\n",
        "exp = > 01:00:01 = 3601 วินาที\r\n"
      ]
    },
    {
      "cell_type": "code",
      "metadata": {
        "id": "mQlbCkxfVbBM",
        "outputId": "997053ff-2430-4a25-82c9-355e0fd6a867",
        "colab": {
          "base_uri": "https://localhost:8080/"
        }
      },
      "source": [
        "q1 = '12:30:15'\r\n",
        "q1.split( ' : ' )\r\n",
        "list_q1 = [12,30,15]\r\n",
        "hr = list_q1[0]*3600\r\n",
        "mi = list_q1[1]*60\r\n",
        "s = list_q1[2]\r\n",
        "aq1 = hr+mi+s \r\n",
        "print(aq1)"
      ],
      "execution_count": 60,
      "outputs": [
        {
          "output_type": "stream",
          "text": [
            "45015\n"
          ],
          "name": "stdout"
        }
      ]
    },
    {
      "cell_type": "markdown",
      "metadata": {
        "id": "V8kO0CeCbrXB"
      },
      "source": [
        " q1 แปลงได้ 45015 วินาที"
      ]
    },
    {
      "cell_type": "code",
      "metadata": {
        "id": "-SaL1R51aAPx",
        "outputId": "2349380b-c197-49a0-f5c0-5d2539c383b6",
        "colab": {
          "base_uri": "https://localhost:8080/"
        }
      },
      "source": [
        "q2 = '13:41:07'\r\n",
        "q2.split( ' : ' )\r\n",
        "list_q2 = [13,41,7]\r\n",
        "hr2 = list_q2[0]*3600\r\n",
        "mi2 = list_q2[1]*60\r\n",
        "s2 = list_q2[2]\r\n",
        "aq2 = hr2+mi2+s2 \r\n",
        "print(aq2)"
      ],
      "execution_count": 74,
      "outputs": [
        {
          "output_type": "stream",
          "text": [
            "49267\n"
          ],
          "name": "stdout"
        }
      ]
    },
    {
      "cell_type": "markdown",
      "metadata": {
        "id": "tiMbKjuzb1cW"
      },
      "source": [
        "q2 แปลงได้ 49267 วินาที"
      ]
    },
    {
      "cell_type": "code",
      "metadata": {
        "id": "wx3kgTUva2U9",
        "outputId": "163b75a6-bd93-42a7-ffbf-6b9ff3b2e4e3",
        "colab": {
          "base_uri": "https://localhost:8080/"
        }
      },
      "source": [
        "q3 = '12:53:15'\r\n",
        "q3.split( ' : ' )\r\n",
        "list_q3 = [12,53,15]\r\n",
        "hr3 = list_q3[0]*3600\r\n",
        "mi3 = list_q3[1]*60\r\n",
        "s3 = list_q3[2]\r\n",
        "aq3 = hr3+mi3+s3\r\n",
        "print(aq3)"
      ],
      "execution_count": 75,
      "outputs": [
        {
          "output_type": "stream",
          "text": [
            "46395\n"
          ],
          "name": "stdout"
        }
      ]
    },
    {
      "cell_type": "markdown",
      "metadata": {
        "id": "myr2cyqtcYEt"
      },
      "source": [
        "q3 แปลงได้ 46395 วินาที"
      ]
    },
    {
      "cell_type": "code",
      "metadata": {
        "id": "KtT3jsARcW2k",
        "outputId": "fff36fd9-9607-401c-ce60-9d4d5a6c27f6",
        "colab": {
          "base_uri": "https://localhost:8080/"
        }
      },
      "source": [
        "q4 = '00:59:25'\r\n",
        "q4.split( ' : ' )\r\n",
        "list_q4 = [00,59,25]\r\n",
        "hr4 = list_q4[0]*3600\r\n",
        "mi4 = list_q4[1]*60\r\n",
        "s4 = list_q4[2]\r\n",
        "aq4 = hr4+mi4+s4\r\n",
        "print(aq4)"
      ],
      "execution_count": 76,
      "outputs": [
        {
          "output_type": "stream",
          "text": [
            "3565\n"
          ],
          "name": "stdout"
        }
      ]
    },
    {
      "cell_type": "markdown",
      "metadata": {
        "id": "xKUTokHIdGHJ"
      },
      "source": [
        "q4 แปลงได้ 3565 วินาที"
      ]
    },
    {
      "cell_type": "code",
      "metadata": {
        "id": "BuVM2Zpdc9mz",
        "outputId": "c16a0393-1304-42c6-afbe-9e21f2ed9233",
        "colab": {
          "base_uri": "https://localhost:8080/"
        }
      },
      "source": [
        "q5 = '11:11:11'\r\n",
        "q5.split( ' : ' )\r\n",
        "list_q5 = [11,11,11]\r\n",
        "hr5 = list_q5[0]*3600\r\n",
        "mi5 = list_q5[1]*60\r\n",
        "s5 = list_q5[2]\r\n",
        "aq5 = hr5+mi5+s5 \r\n",
        "print(aq5)"
      ],
      "execution_count": 77,
      "outputs": [
        {
          "output_type": "stream",
          "text": [
            "40271\n"
          ],
          "name": "stdout"
        }
      ]
    },
    {
      "cell_type": "markdown",
      "metadata": {
        "id": "dlq5E09mdqEp"
      },
      "source": [
        "q5 แปลงได้ 40271 วินาที"
      ]
    },
    {
      "cell_type": "code",
      "metadata": {
        "id": "6kZd0j07dkvv",
        "outputId": "9d82d5a1-b2b7-43e3-cb84-ffd11c530d93",
        "colab": {
          "base_uri": "https://localhost:8080/"
        }
      },
      "source": [
        "q6 = '16:06:09'\r\n",
        "q6.split( ' : ' )\r\n",
        "list_q6 = [16,6,9]\r\n",
        "hr6 = list_q6[0]*3600\r\n",
        "mi6 = list_q6[1]*60\r\n",
        "s6 = list_q6[2]\r\n",
        "aq6 = hr6+mi6+s6 \r\n",
        "print(aq6)"
      ],
      "execution_count": 82,
      "outputs": [
        {
          "output_type": "stream",
          "text": [
            "57969\n"
          ],
          "name": "stdout"
        }
      ]
    },
    {
      "cell_type": "markdown",
      "metadata": {
        "id": "OZmyVLnUeaFm"
      },
      "source": [
        "q6 แปลงได้ 57969 วินาที"
      ]
    },
    {
      "cell_type": "code",
      "metadata": {
        "id": "PTngTs04eHQB",
        "outputId": "fb35d5fb-773e-4a47-ea19-818d89b8f623",
        "colab": {
          "base_uri": "https://localhost:8080/"
        }
      },
      "source": [
        "q7 = '21:12:30'\r\n",
        "q7.split( ' : ' )\r\n",
        "list_q7 = [21,12,30]\r\n",
        "hr7 = list_q7[0]*3600\r\n",
        "mi7= list_q7[1]*60\r\n",
        "s7 = list_q7[2]\r\n",
        "aq7 = hr7+mi7+s7 \r\n",
        "print(aq7)"
      ],
      "execution_count": 83,
      "outputs": [
        {
          "output_type": "stream",
          "text": [
            "76350\n"
          ],
          "name": "stdout"
        }
      ]
    },
    {
      "cell_type": "markdown",
      "metadata": {
        "id": "LrpSgNLie56k"
      },
      "source": [
        "q7 แปลงได้ 76350 วินาที"
      ]
    },
    {
      "cell_type": "code",
      "metadata": {
        "id": "CqClPD0re4yj",
        "outputId": "4b59a652-67dd-4b5d-d97a-342813ddad3d",
        "colab": {
          "base_uri": "https://localhost:8080/"
        }
      },
      "source": [
        "q8 = '10:06:15'\r\n",
        "q8.split( ' : ' )\r\n",
        "list_q8 = [10,6,15]\r\n",
        "hr8 = list_q8[0]*3600\r\n",
        "mi8= list_q8[1]*60\r\n",
        "s8 = list_q8[2]\r\n",
        "aq8 = hr8+mi8+s8\r\n",
        "print(aq8)"
      ],
      "execution_count": 84,
      "outputs": [
        {
          "output_type": "stream",
          "text": [
            "36375\n"
          ],
          "name": "stdout"
        }
      ]
    },
    {
      "cell_type": "markdown",
      "metadata": {
        "id": "plLePkS-fVb3"
      },
      "source": [
        "q8 แปลงได้ 36375 วินาที "
      ]
    }
  ]
}