{
  "nbformat": 4,
  "nbformat_minor": 0,
  "metadata": {
    "colab": {
      "name": "Multivariate Exam.ipynb",
      "provenance": [],
      "include_colab_link": true
    },
    "kernelspec": {
      "name": "python3",
      "display_name": "Python 3"
    },
    "language_info": {
      "name": "python"
    }
  },
  "cells": [
    {
      "cell_type": "markdown",
      "metadata": {
        "id": "view-in-github",
        "colab_type": "text"
      },
      "source": [
        "<a href=\"https://colab.research.google.com/github/PhattarasornTeppabut/Multivariate/blob/main/Multivariate_Exam.ipynb\" target=\"_parent\"><img src=\"https://colab.research.google.com/assets/colab-badge.svg\" alt=\"Open In Colab\"/></a>"
      ]
    },
    {
      "cell_type": "markdown",
      "metadata": {
        "id": "JZxiNADfaDtv"
      },
      "source": [
        "ให้นักศึกษาทำข้อสอบใน Colab Notebook นี้โดยกรอกข้อมูลของตัวเองใน cell ที่ 2 แล้วรัน cell ที่ 1 - 5 และเริ่มทำข้อสอบใน cell ที่ 6 เป็นต้นไป\n",
        "\n",
        "โดยโจทย์คือ\n",
        "1. ข้อมูลโจทย์ อยู่ใน ตัวแปร ```Data```\n",
        "2. ทำ clustering แล้วทำ visualize ข้อมูลแบบ 2 มิติ\n",
        "3. ลด Dimension ของข้อมูลเหลือ 2 มิติ แล้วทำ clustering แล้ว visualize ข้อมูลแบบ 2 มิติ\n",
        "4. เปรียบเทียบความแตกต่างของผลข้อ 2. กับ ข้อ 3.\n",
        "5. เขียน comments อธิบายทุกขั้นตอน\n",
        "6. อัด video อธิบาย code ทุกๆขั้นตอนรวมถึงผลแล้วอัพลง youtube ในรูปแบบ unlist \n",
        "7. commit โดยใช้ชื่อ commit เป็น link youtube ที่อธิบาย code ในข้อ 6.\n",
        "\n",
        "กำหนดส่งวันที่ 2 พฤษภาคม 2564 (โดยให้มากรอกวันที่ commit ครั้งสุดท้ายใน sheet: https://docs.google.com/spreadsheets/d/1_qJwLDJVtOW1HxBcf_FHVc6UT4J_SOonuR6o3EEnVzw/edit?usp=sharing ช่อง Final)"
      ]
    },
    {
      "cell_type": "code",
      "metadata": {
        "id": "cWl2x1bPGtQl"
      },
      "source": [
        "from sklearn.datasets import make_blobs\n",
        "import random,math\n",
        "import numpy as np\n",
        "import pandas"
      ],
      "execution_count": 1,
      "outputs": []
    },
    {
      "cell_type": "code",
      "metadata": {
        "id": "gZfzuiHsZksh"
      },
      "source": [
        "Name = 'ภัทรสร เทพบุตร'\n",
        "ID = '623020531-5'"
      ],
      "execution_count": 2,
      "outputs": []
    },
    {
      "cell_type": "code",
      "metadata": {
        "id": "8hFQXkF5aAiA"
      },
      "source": [
        "def DataGenerator(name,id):\n",
        "    random.seed(int(id[3:6]))\n",
        "    numfeat = random.randint(20,30)\n",
        "    ct = random.randint(len(name)-6,len(name))\n",
        "    \n",
        "    X, y = make_blobs(n_samples=10000, centers=ct, n_features=numfeat , random_state=int(id[3:6]))\n",
        "\n",
        "    print(f'{id[3:6]}:{numfeat}:{ct}')\n",
        "    X_t = (X[:,1]*2)+int(id[3])\n",
        "    X_t2 = (X[:,-1]*5)+int(id[4])\n",
        "\n",
        "    DT = np.append(X,X_t.reshape([10000,1]),axis=1)\n",
        "    DT = np.append(DT,X_t2.reshape([10000,1]),axis=1)\n",
        "    \n",
        "    return pandas.DataFrame(DT)"
      ],
      "execution_count": 3,
      "outputs": []
    },
    {
      "cell_type": "code",
      "metadata": {
        "colab": {
          "base_uri": "https://localhost:8080/"
        },
        "id": "hbXlxumSBX9i",
        "outputId": "ace016ee-1702-4685-e3ad-863eaa0ae971"
      },
      "source": [
        "Data = DataGenerator(Name,ID)"
      ],
      "execution_count": 4,
      "outputs": [
        {
          "output_type": "stream",
          "text": [
            "020:30:14\n"
          ],
          "name": "stdout"
        }
      ]
    },
    {
      "cell_type": "code",
      "metadata": {
        "colab": {
          "base_uri": "https://localhost:8080/",
          "height": 439
        },
        "id": "pQcCySXvBdN-",
        "outputId": "f061a34d-2232-4501-a387-df746b68d010"
      },
      "source": [
        "Data"
      ],
      "execution_count": 5,
      "outputs": [
        {
          "output_type": "execute_result",
          "data": {
            "text/html": [
              "<div>\n",
              "<style scoped>\n",
              "    .dataframe tbody tr th:only-of-type {\n",
              "        vertical-align: middle;\n",
              "    }\n",
              "\n",
              "    .dataframe tbody tr th {\n",
              "        vertical-align: top;\n",
              "    }\n",
              "\n",
              "    .dataframe thead th {\n",
              "        text-align: right;\n",
              "    }\n",
              "</style>\n",
              "<table border=\"1\" class=\"dataframe\">\n",
              "  <thead>\n",
              "    <tr style=\"text-align: right;\">\n",
              "      <th></th>\n",
              "      <th>0</th>\n",
              "      <th>1</th>\n",
              "      <th>2</th>\n",
              "      <th>3</th>\n",
              "      <th>4</th>\n",
              "      <th>5</th>\n",
              "      <th>6</th>\n",
              "      <th>7</th>\n",
              "      <th>8</th>\n",
              "      <th>9</th>\n",
              "      <th>10</th>\n",
              "      <th>11</th>\n",
              "      <th>12</th>\n",
              "      <th>13</th>\n",
              "      <th>14</th>\n",
              "      <th>15</th>\n",
              "      <th>16</th>\n",
              "      <th>17</th>\n",
              "      <th>18</th>\n",
              "      <th>19</th>\n",
              "      <th>20</th>\n",
              "      <th>21</th>\n",
              "      <th>22</th>\n",
              "      <th>23</th>\n",
              "      <th>24</th>\n",
              "      <th>25</th>\n",
              "      <th>26</th>\n",
              "      <th>27</th>\n",
              "      <th>28</th>\n",
              "      <th>29</th>\n",
              "      <th>30</th>\n",
              "      <th>31</th>\n",
              "    </tr>\n",
              "  </thead>\n",
              "  <tbody>\n",
              "    <tr>\n",
              "      <th>0</th>\n",
              "      <td>5.779841</td>\n",
              "      <td>9.590162</td>\n",
              "      <td>7.580040</td>\n",
              "      <td>-4.278572</td>\n",
              "      <td>-6.772580</td>\n",
              "      <td>-3.337118</td>\n",
              "      <td>9.763874</td>\n",
              "      <td>2.163429</td>\n",
              "      <td>8.836751</td>\n",
              "      <td>-9.402668</td>\n",
              "      <td>6.069058</td>\n",
              "      <td>-9.942346</td>\n",
              "      <td>-9.473521</td>\n",
              "      <td>-8.133425</td>\n",
              "      <td>-3.969872</td>\n",
              "      <td>-0.409420</td>\n",
              "      <td>7.109384</td>\n",
              "      <td>7.607849</td>\n",
              "      <td>1.669154</td>\n",
              "      <td>7.170246</td>\n",
              "      <td>-8.165292</td>\n",
              "      <td>4.877405</td>\n",
              "      <td>-7.617871</td>\n",
              "      <td>-6.756496</td>\n",
              "      <td>8.850628</td>\n",
              "      <td>-5.386895</td>\n",
              "      <td>7.550170</td>\n",
              "      <td>1.864166</td>\n",
              "      <td>4.126644</td>\n",
              "      <td>2.942146</td>\n",
              "      <td>19.180325</td>\n",
              "      <td>16.710729</td>\n",
              "    </tr>\n",
              "    <tr>\n",
              "      <th>1</th>\n",
              "      <td>-1.969309</td>\n",
              "      <td>-5.779929</td>\n",
              "      <td>-0.479035</td>\n",
              "      <td>7.120809</td>\n",
              "      <td>-6.967939</td>\n",
              "      <td>-2.562261</td>\n",
              "      <td>-1.431636</td>\n",
              "      <td>-2.876955</td>\n",
              "      <td>-8.809777</td>\n",
              "      <td>-7.156166</td>\n",
              "      <td>9.225777</td>\n",
              "      <td>-5.276836</td>\n",
              "      <td>-10.170002</td>\n",
              "      <td>-0.050986</td>\n",
              "      <td>2.987005</td>\n",
              "      <td>-1.758751</td>\n",
              "      <td>9.133687</td>\n",
              "      <td>-4.224050</td>\n",
              "      <td>6.810339</td>\n",
              "      <td>0.860089</td>\n",
              "      <td>4.585015</td>\n",
              "      <td>2.999504</td>\n",
              "      <td>-7.098761</td>\n",
              "      <td>-8.103267</td>\n",
              "      <td>8.184693</td>\n",
              "      <td>9.626054</td>\n",
              "      <td>3.503491</td>\n",
              "      <td>-0.090879</td>\n",
              "      <td>-0.446152</td>\n",
              "      <td>7.465699</td>\n",
              "      <td>-11.559858</td>\n",
              "      <td>39.328496</td>\n",
              "    </tr>\n",
              "    <tr>\n",
              "      <th>2</th>\n",
              "      <td>3.599102</td>\n",
              "      <td>3.524340</td>\n",
              "      <td>-6.054480</td>\n",
              "      <td>-9.089953</td>\n",
              "      <td>5.181669</td>\n",
              "      <td>-0.834194</td>\n",
              "      <td>-3.931799</td>\n",
              "      <td>-0.137943</td>\n",
              "      <td>-4.589369</td>\n",
              "      <td>-2.365034</td>\n",
              "      <td>3.685007</td>\n",
              "      <td>0.919187</td>\n",
              "      <td>-3.120397</td>\n",
              "      <td>-2.182186</td>\n",
              "      <td>-4.271154</td>\n",
              "      <td>2.253673</td>\n",
              "      <td>-6.701235</td>\n",
              "      <td>3.455984</td>\n",
              "      <td>7.511894</td>\n",
              "      <td>-4.712591</td>\n",
              "      <td>5.952467</td>\n",
              "      <td>-0.483959</td>\n",
              "      <td>3.421101</td>\n",
              "      <td>5.602329</td>\n",
              "      <td>7.429803</td>\n",
              "      <td>0.191208</td>\n",
              "      <td>2.966675</td>\n",
              "      <td>2.952572</td>\n",
              "      <td>-2.706058</td>\n",
              "      <td>2.749403</td>\n",
              "      <td>7.048680</td>\n",
              "      <td>15.747013</td>\n",
              "    </tr>\n",
              "    <tr>\n",
              "      <th>3</th>\n",
              "      <td>2.610732</td>\n",
              "      <td>2.268904</td>\n",
              "      <td>-4.365511</td>\n",
              "      <td>-8.991586</td>\n",
              "      <td>6.929414</td>\n",
              "      <td>0.396067</td>\n",
              "      <td>-3.116764</td>\n",
              "      <td>0.122945</td>\n",
              "      <td>-4.237205</td>\n",
              "      <td>-4.860459</td>\n",
              "      <td>1.596553</td>\n",
              "      <td>1.567507</td>\n",
              "      <td>-2.599508</td>\n",
              "      <td>-1.812618</td>\n",
              "      <td>-5.665761</td>\n",
              "      <td>4.284519</td>\n",
              "      <td>-6.163315</td>\n",
              "      <td>2.150961</td>\n",
              "      <td>6.780581</td>\n",
              "      <td>-7.338840</td>\n",
              "      <td>4.205672</td>\n",
              "      <td>-1.683074</td>\n",
              "      <td>4.436318</td>\n",
              "      <td>7.012761</td>\n",
              "      <td>4.945608</td>\n",
              "      <td>2.722019</td>\n",
              "      <td>1.213484</td>\n",
              "      <td>2.704299</td>\n",
              "      <td>-0.405857</td>\n",
              "      <td>0.589666</td>\n",
              "      <td>4.537807</td>\n",
              "      <td>4.948332</td>\n",
              "    </tr>\n",
              "    <tr>\n",
              "      <th>4</th>\n",
              "      <td>1.229763</td>\n",
              "      <td>6.218683</td>\n",
              "      <td>6.069170</td>\n",
              "      <td>7.837148</td>\n",
              "      <td>-7.564717</td>\n",
              "      <td>9.068409</td>\n",
              "      <td>8.398188</td>\n",
              "      <td>-6.073507</td>\n",
              "      <td>5.877496</td>\n",
              "      <td>-2.328447</td>\n",
              "      <td>-1.386795</td>\n",
              "      <td>2.800630</td>\n",
              "      <td>8.479073</td>\n",
              "      <td>6.045114</td>\n",
              "      <td>9.387522</td>\n",
              "      <td>3.651719</td>\n",
              "      <td>-8.845904</td>\n",
              "      <td>8.773557</td>\n",
              "      <td>-4.049647</td>\n",
              "      <td>4.501112</td>\n",
              "      <td>7.998507</td>\n",
              "      <td>-0.474366</td>\n",
              "      <td>6.817369</td>\n",
              "      <td>8.979003</td>\n",
              "      <td>11.270047</td>\n",
              "      <td>-5.587750</td>\n",
              "      <td>-4.801151</td>\n",
              "      <td>-4.927810</td>\n",
              "      <td>-0.572961</td>\n",
              "      <td>7.252844</td>\n",
              "      <td>12.437365</td>\n",
              "      <td>38.264218</td>\n",
              "    </tr>\n",
              "    <tr>\n",
              "      <th>...</th>\n",
              "      <td>...</td>\n",
              "      <td>...</td>\n",
              "      <td>...</td>\n",
              "      <td>...</td>\n",
              "      <td>...</td>\n",
              "      <td>...</td>\n",
              "      <td>...</td>\n",
              "      <td>...</td>\n",
              "      <td>...</td>\n",
              "      <td>...</td>\n",
              "      <td>...</td>\n",
              "      <td>...</td>\n",
              "      <td>...</td>\n",
              "      <td>...</td>\n",
              "      <td>...</td>\n",
              "      <td>...</td>\n",
              "      <td>...</td>\n",
              "      <td>...</td>\n",
              "      <td>...</td>\n",
              "      <td>...</td>\n",
              "      <td>...</td>\n",
              "      <td>...</td>\n",
              "      <td>...</td>\n",
              "      <td>...</td>\n",
              "      <td>...</td>\n",
              "      <td>...</td>\n",
              "      <td>...</td>\n",
              "      <td>...</td>\n",
              "      <td>...</td>\n",
              "      <td>...</td>\n",
              "      <td>...</td>\n",
              "      <td>...</td>\n",
              "    </tr>\n",
              "    <tr>\n",
              "      <th>9995</th>\n",
              "      <td>4.115431</td>\n",
              "      <td>7.000837</td>\n",
              "      <td>-9.653089</td>\n",
              "      <td>-7.160725</td>\n",
              "      <td>9.323379</td>\n",
              "      <td>0.008322</td>\n",
              "      <td>8.853850</td>\n",
              "      <td>2.496611</td>\n",
              "      <td>3.815244</td>\n",
              "      <td>0.382697</td>\n",
              "      <td>6.690362</td>\n",
              "      <td>-3.427856</td>\n",
              "      <td>-4.262191</td>\n",
              "      <td>-1.233465</td>\n",
              "      <td>-2.097576</td>\n",
              "      <td>6.860297</td>\n",
              "      <td>-3.083898</td>\n",
              "      <td>-1.410190</td>\n",
              "      <td>-0.426802</td>\n",
              "      <td>-2.115237</td>\n",
              "      <td>2.321582</td>\n",
              "      <td>-6.152592</td>\n",
              "      <td>4.205598</td>\n",
              "      <td>-4.351731</td>\n",
              "      <td>9.674877</td>\n",
              "      <td>-8.252335</td>\n",
              "      <td>6.537963</td>\n",
              "      <td>-1.520673</td>\n",
              "      <td>-7.923699</td>\n",
              "      <td>3.938198</td>\n",
              "      <td>14.001675</td>\n",
              "      <td>21.690991</td>\n",
              "    </tr>\n",
              "    <tr>\n",
              "      <th>9996</th>\n",
              "      <td>8.642016</td>\n",
              "      <td>-10.310443</td>\n",
              "      <td>-4.164195</td>\n",
              "      <td>-0.103425</td>\n",
              "      <td>5.280763</td>\n",
              "      <td>10.100324</td>\n",
              "      <td>10.376776</td>\n",
              "      <td>2.035528</td>\n",
              "      <td>-2.865085</td>\n",
              "      <td>-3.634668</td>\n",
              "      <td>3.175611</td>\n",
              "      <td>3.091032</td>\n",
              "      <td>4.854759</td>\n",
              "      <td>-3.718518</td>\n",
              "      <td>9.154610</td>\n",
              "      <td>7.477065</td>\n",
              "      <td>-5.644479</td>\n",
              "      <td>3.183633</td>\n",
              "      <td>7.624630</td>\n",
              "      <td>-10.160440</td>\n",
              "      <td>-6.843769</td>\n",
              "      <td>9.264963</td>\n",
              "      <td>6.128426</td>\n",
              "      <td>4.705592</td>\n",
              "      <td>9.834965</td>\n",
              "      <td>-6.510483</td>\n",
              "      <td>-8.046730</td>\n",
              "      <td>5.285699</td>\n",
              "      <td>-0.492100</td>\n",
              "      <td>4.496800</td>\n",
              "      <td>-20.620886</td>\n",
              "      <td>24.484000</td>\n",
              "    </tr>\n",
              "    <tr>\n",
              "      <th>9997</th>\n",
              "      <td>2.576362</td>\n",
              "      <td>-2.282850</td>\n",
              "      <td>-1.977706</td>\n",
              "      <td>7.939707</td>\n",
              "      <td>1.760702</td>\n",
              "      <td>-6.222240</td>\n",
              "      <td>3.906714</td>\n",
              "      <td>-4.212861</td>\n",
              "      <td>7.771867</td>\n",
              "      <td>-2.179046</td>\n",
              "      <td>-7.370692</td>\n",
              "      <td>1.098961</td>\n",
              "      <td>-5.226815</td>\n",
              "      <td>-7.994809</td>\n",
              "      <td>-3.480564</td>\n",
              "      <td>1.547576</td>\n",
              "      <td>1.043375</td>\n",
              "      <td>7.676349</td>\n",
              "      <td>2.609321</td>\n",
              "      <td>-8.077446</td>\n",
              "      <td>6.056793</td>\n",
              "      <td>-7.367577</td>\n",
              "      <td>-8.567476</td>\n",
              "      <td>-3.069323</td>\n",
              "      <td>4.276709</td>\n",
              "      <td>-6.563668</td>\n",
              "      <td>-2.562896</td>\n",
              "      <td>10.299857</td>\n",
              "      <td>8.607741</td>\n",
              "      <td>1.419396</td>\n",
              "      <td>-4.565701</td>\n",
              "      <td>9.096982</td>\n",
              "    </tr>\n",
              "    <tr>\n",
              "      <th>9998</th>\n",
              "      <td>5.623216</td>\n",
              "      <td>6.132319</td>\n",
              "      <td>-9.526871</td>\n",
              "      <td>-7.102227</td>\n",
              "      <td>7.470630</td>\n",
              "      <td>1.645184</td>\n",
              "      <td>7.913972</td>\n",
              "      <td>-0.513498</td>\n",
              "      <td>6.165712</td>\n",
              "      <td>-2.734110</td>\n",
              "      <td>7.303640</td>\n",
              "      <td>-0.367817</td>\n",
              "      <td>-4.374165</td>\n",
              "      <td>-1.374892</td>\n",
              "      <td>-1.328014</td>\n",
              "      <td>6.636919</td>\n",
              "      <td>-2.271619</td>\n",
              "      <td>-4.250679</td>\n",
              "      <td>-0.379184</td>\n",
              "      <td>-3.499792</td>\n",
              "      <td>3.763622</td>\n",
              "      <td>-6.828777</td>\n",
              "      <td>4.275611</td>\n",
              "      <td>-3.615921</td>\n",
              "      <td>9.257696</td>\n",
              "      <td>-6.524113</td>\n",
              "      <td>6.213284</td>\n",
              "      <td>-3.265337</td>\n",
              "      <td>-6.691210</td>\n",
              "      <td>4.450119</td>\n",
              "      <td>12.264638</td>\n",
              "      <td>24.250595</td>\n",
              "    </tr>\n",
              "    <tr>\n",
              "      <th>9999</th>\n",
              "      <td>4.645371</td>\n",
              "      <td>6.691490</td>\n",
              "      <td>-10.926293</td>\n",
              "      <td>-7.826910</td>\n",
              "      <td>8.710270</td>\n",
              "      <td>-0.211986</td>\n",
              "      <td>9.835527</td>\n",
              "      <td>1.364481</td>\n",
              "      <td>5.363017</td>\n",
              "      <td>-0.433442</td>\n",
              "      <td>7.858837</td>\n",
              "      <td>-1.915288</td>\n",
              "      <td>-6.629440</td>\n",
              "      <td>-1.525908</td>\n",
              "      <td>-2.774851</td>\n",
              "      <td>6.962517</td>\n",
              "      <td>-4.101389</td>\n",
              "      <td>-2.814359</td>\n",
              "      <td>-2.065148</td>\n",
              "      <td>-3.282049</td>\n",
              "      <td>3.486079</td>\n",
              "      <td>-5.526629</td>\n",
              "      <td>3.787922</td>\n",
              "      <td>-5.528968</td>\n",
              "      <td>8.101658</td>\n",
              "      <td>-9.221054</td>\n",
              "      <td>7.350431</td>\n",
              "      <td>-2.093218</td>\n",
              "      <td>-8.912812</td>\n",
              "      <td>5.503867</td>\n",
              "      <td>13.382980</td>\n",
              "      <td>29.519334</td>\n",
              "    </tr>\n",
              "  </tbody>\n",
              "</table>\n",
              "<p>10000 rows × 32 columns</p>\n",
              "</div>"
            ],
            "text/plain": [
              "            0          1          2   ...        29         30         31\n",
              "0     5.779841   9.590162   7.580040  ...  2.942146  19.180325  16.710729\n",
              "1    -1.969309  -5.779929  -0.479035  ...  7.465699 -11.559858  39.328496\n",
              "2     3.599102   3.524340  -6.054480  ...  2.749403   7.048680  15.747013\n",
              "3     2.610732   2.268904  -4.365511  ...  0.589666   4.537807   4.948332\n",
              "4     1.229763   6.218683   6.069170  ...  7.252844  12.437365  38.264218\n",
              "...        ...        ...        ...  ...       ...        ...        ...\n",
              "9995  4.115431   7.000837  -9.653089  ...  3.938198  14.001675  21.690991\n",
              "9996  8.642016 -10.310443  -4.164195  ...  4.496800 -20.620886  24.484000\n",
              "9997  2.576362  -2.282850  -1.977706  ...  1.419396  -4.565701   9.096982\n",
              "9998  5.623216   6.132319  -9.526871  ...  4.450119  12.264638  24.250595\n",
              "9999  4.645371   6.691490 -10.926293  ...  5.503867  13.382980  29.519334\n",
              "\n",
              "[10000 rows x 32 columns]"
            ]
          },
          "metadata": {
            "tags": []
          },
          "execution_count": 5
        }
      ]
    },
    {
      "cell_type": "code",
      "metadata": {
        "id": "jUARadkFEuyJ",
        "colab": {
          "base_uri": "https://localhost:8080/"
        },
        "outputId": "bb9cd031-9ad4-4864-d0f4-461dcc4e9ff6"
      },
      "source": [
        "Data.shape    #ดูขนาดของข้อมูลที่นำเข้ามาว่ามี data กี่ตัว เเละมีกี่ dimensions"
      ],
      "execution_count": 6,
      "outputs": [
        {
          "output_type": "execute_result",
          "data": {
            "text/plain": [
              "(10000, 32)"
            ]
          },
          "metadata": {
            "tags": []
          },
          "execution_count": 6
        }
      ]
    },
    {
      "cell_type": "markdown",
      "metadata": {
        "id": "vwNQdB4VtSH_"
      },
      "source": [
        "#Clustering หรือการจัดกลุ่มข้อมูล\n",
        "\n",
        "   เป็นวิธีที่ machine จะหาความสัมพันธ์ของข้อมูล เพื่อแบ่งข้อมูลออกเป็นกลุ่มๆ"
      ]
    },
    {
      "cell_type": "markdown",
      "metadata": {
        "id": "9WlkyHrB04A3"
      },
      "source": [
        "####ทำโดยการใช้ K-Mean\n",
        "การใช้ K-Means เราต้องกำหนดว่าเราต้องการจะ Cluster ข้อมูลเป็นกี่กลุ่ม"
      ]
    },
    {
      "cell_type": "markdown",
      "metadata": {
        "id": "ShnTN1cHtnyL"
      },
      "source": [
        "###Import"
      ]
    },
    {
      "cell_type": "markdown",
      "metadata": {
        "id": "mtSN1V3Rt0EY"
      },
      "source": [
        "นำเข้าข้อมูล"
      ]
    },
    {
      "cell_type": "code",
      "metadata": {
        "id": "BuHgpjlPtnal"
      },
      "source": [
        "from sklearn.cluster import KMeans "
      ],
      "execution_count": 12,
      "outputs": []
    },
    {
      "cell_type": "markdown",
      "metadata": {
        "id": "jcJcdgizt6_r"
      },
      "source": [
        "### Difine"
      ]
    },
    {
      "cell_type": "markdown",
      "metadata": {
        "id": "0KwS-OrI60G3"
      },
      "source": [
        "กำหนดกลุ่ม clusters เป็น 3 กลุ่ม"
      ]
    },
    {
      "cell_type": "code",
      "metadata": {
        "id": "7tO6NLMDtX5X"
      },
      "source": [
        "kmeans = KMeans( n_clusters=3,random_state=2021) # ตั้งจุดcenter   K=3"
      ],
      "execution_count": 13,
      "outputs": []
    },
    {
      "cell_type": "markdown",
      "metadata": {
        "id": "7ZqpEw3NuStL"
      },
      "source": [
        "### Fit- transform"
      ]
    },
    {
      "cell_type": "markdown",
      "metadata": {
        "id": "vD3dTpgHu9Kh"
      },
      "source": [
        "คำนวณหาจุด cluster centers ด้วย fit"
      ]
    },
    {
      "cell_type": "code",
      "metadata": {
        "colab": {
          "base_uri": "https://localhost:8080/"
        },
        "id": "7GBmJKWvuVDA",
        "outputId": "de940c8a-01e1-4839-e6de-3b679cd6615f"
      },
      "source": [
        "kmeans.fit(Data)"
      ],
      "execution_count": 9,
      "outputs": [
        {
          "output_type": "execute_result",
          "data": {
            "text/plain": [
              "KMeans(algorithm='auto', copy_x=True, init='k-means++', max_iter=300,\n",
              "       n_clusters=3, n_init=10, n_jobs=None, precompute_distances='auto',\n",
              "       random_state=2021, tol=0.0001, verbose=0)"
            ]
          },
          "metadata": {
            "tags": []
          },
          "execution_count": 9
        }
      ]
    },
    {
      "cell_type": "markdown",
      "metadata": {
        "id": "HBcXZM65uUdK"
      },
      "source": [
        "เเสดง จุด cluster centers ที่คำนวณออกมาได้"
      ]
    },
    {
      "cell_type": "code",
      "metadata": {
        "colab": {
          "base_uri": "https://localhost:8080/"
        },
        "id": "kXcMMCZxu3Re",
        "outputId": "ddc62f16-9205-4e07-fba4-4cd7aecc3543"
      },
      "source": [
        "kmeans.cluster_centers_"
      ],
      "execution_count": 10,
      "outputs": [
        {
          "output_type": "execute_result",
          "data": {
            "text/plain": [
              "array([[ 1.27868004e+00,  2.70365000e+00, -2.19201288e+00,\n",
              "         1.52253147e+00,  1.33335715e+00, -1.64449892e+00,\n",
              "         2.69286360e+00,  2.12449263e+00,  3.99378693e+00,\n",
              "        -2.26694150e+00,  6.76165699e-01, -4.08361205e-01,\n",
              "        -1.34832070e+00, -1.14303399e+00, -3.90911575e+00,\n",
              "        -4.43701633e-01, -8.14545742e-02,  1.74558265e+00,\n",
              "         1.48564733e+00, -1.84455389e+00,  1.06833959e+00,\n",
              "        -9.77326789e-01, -4.57707690e-01, -2.24550198e+00,\n",
              "         3.93807181e+00, -3.02895878e+00,  5.53800147e-01,\n",
              "         1.98129143e+00,  1.33574063e+00,  2.37214026e+00,\n",
              "         5.40730000e+00,  1.38607013e+01],\n",
              "       [ 2.36833390e+00, -3.55685420e+00, -3.03659164e-01,\n",
              "         4.41739366e+00, -1.66876977e+00,  6.09908118e+00,\n",
              "         4.70211125e+00, -1.93109228e+00, -2.95890055e+00,\n",
              "        -2.13770101e+00,  2.53919180e+00, -4.87153224e-01,\n",
              "         1.47141565e+00,  2.80878036e+00,  5.94916152e+00,\n",
              "         1.84589372e+00, -3.06750741e-01,  3.08389661e+00,\n",
              "         5.09676473e+00, -4.07012094e-01,  4.84612008e-01,\n",
              "         2.00514416e+00,  3.93585422e+00,  1.46724515e+00,\n",
              "         6.09838989e+00,  2.74447668e-01, -1.11474418e+00,\n",
              "         9.94789260e-01, -9.92688592e-01,  7.14016486e+00,\n",
              "        -7.11370839e+00,  3.77008243e+01],\n",
              "       [-3.40159416e+00,  3.44301000e-03, -9.97757549e-01,\n",
              "        -3.41650388e+00,  1.95881042e+00, -6.15767000e-01,\n",
              "        -4.34674068e+00, -6.03228514e+00, -3.37370422e+00,\n",
              "         1.56367339e+00, -7.72613542e-01,  2.70523986e+00,\n",
              "         3.65751263e+00,  3.70232280e+00, -2.04020416e+00,\n",
              "         3.17892787e+00,  4.38500774e+00,  3.48773744e+00,\n",
              "        -7.61609007e+00,  1.69023742e+00,  1.21986069e+00,\n",
              "         9.37433678e-01, -1.28012584e+00, -1.31169043e+00,\n",
              "         1.05553259e+00, -5.88718399e+00,  1.50399186e+00,\n",
              "        -2.34203108e-01,  2.29001066e+00, -8.02381548e+00,\n",
              "         6.88602000e-03, -3.81190774e+01]])"
            ]
          },
          "metadata": {
            "tags": []
          },
          "execution_count": 10
        }
      ]
    },
    {
      "cell_type": "markdown",
      "metadata": {
        "id": "NmFEGoA3vDue"
      },
      "source": [
        "### ทดสอบการจัดกลุ่มของ Data"
      ]
    },
    {
      "cell_type": "code",
      "metadata": {
        "colab": {
          "base_uri": "https://localhost:8080/"
        },
        "id": "LuXRiemsvKOU",
        "outputId": "265e89ff-2a82-42d7-9293-715d8117c4c4"
      },
      "source": [
        "y = kmeans.predict(Data)\n",
        "y"
      ],
      "execution_count": 11,
      "outputs": [
        {
          "output_type": "execute_result",
          "data": {
            "text/plain": [
              "array([0, 1, 0, ..., 0, 0, 0], dtype=int32)"
            ]
          },
          "metadata": {
            "tags": []
          },
          "execution_count": 11
        }
      ]
    },
    {
      "cell_type": "markdown",
      "metadata": {
        "id": "k2lKK-yqvx0B"
      },
      "source": [
        "##**PCA**\n",
        "\n",
        "เป็นการวิธีการลด Dimension ของข้อมูล โดยจะรักษา Information ไว้ให้เยอะที่สุด"
      ]
    },
    {
      "cell_type": "code",
      "metadata": {
        "id": "g7q4i3AEwz39"
      },
      "source": [
        "from sklearn.decomposition import PCA\n",
        "\n",
        "pca = PCA(n_components=2)\n",
        "\n",
        "new_pca = pca.fit_transform(Data)"
      ],
      "execution_count": 21,
      "outputs": []
    },
    {
      "cell_type": "code",
      "metadata": {
        "id": "KCWt0a2sw32s"
      },
      "source": [
        "from matplotlib import pyplot as plt"
      ],
      "execution_count": 22,
      "outputs": []
    },
    {
      "cell_type": "code",
      "metadata": {
        "colab": {
          "base_uri": "https://localhost:8080/",
          "height": 282
        },
        "id": "KDjbUYjZw701",
        "outputId": "b1f8e368-9ba8-4979-f963-232c5f312319"
      },
      "source": [
        "kmeans = KMeans(n_clusters=3,random_state=2021)\n",
        "kmeans.fit(Data)\n",
        "y = kmeans.predict(Data)\n",
        "plt.scatter(new_pca[:,0],new_pca[:,1],c=y)"
      ],
      "execution_count": 23,
      "outputs": [
        {
          "output_type": "execute_result",
          "data": {
            "text/plain": [
              "<matplotlib.collections.PathCollection at 0x7f405cc1ecd0>"
            ]
          },
          "metadata": {
            "tags": []
          },
          "execution_count": 23
        },
        {
          "output_type": "display_data",
          "data": {
            "image/png": "[encoded data removed]",
            "text/plain": [
              "<Figure size 432x288 with 1 Axes>"
            ]
          },
          "metadata": {
            "tags": [],
            "needs_background": "light"
          }
        }
      ]
    },
    {
      "cell_type": "markdown",
      "metadata": {
        "id": "s8TDMQ3ZxErF"
      },
      "source": [
        "### SSE    \n",
        "\n",
        "คือ ความไม่ใกล้เคียงกับจุดศูนย์กลางมากน้อยเท่าไหน\n",
        "\n",
        "ค่า SSE จะทำให้เกิดความโค้งที่เรียบขึ้นเรื่อย ๆ"
      ]
    },
    {
      "cell_type": "code",
      "metadata": {
        "colab": {
          "base_uri": "https://localhost:8080/"
        },
        "id": "vP9sX5F5xKi0",
        "outputId": "b4601ac9-cda1-4eb8-b8e7-3427760a98d7"
      },
      "source": [
        "kmeans.cluster_centers_"
      ],
      "execution_count": 28,
      "outputs": [
        {
          "output_type": "execute_result",
          "data": {
            "text/plain": [
              "array([[ 1.27868004e+00,  2.70365000e+00, -2.19201288e+00,\n",
              "         1.52253147e+00,  1.33335715e+00, -1.64449892e+00,\n",
              "         2.69286360e+00,  2.12449263e+00,  3.99378693e+00,\n",
              "        -2.26694150e+00,  6.76165699e-01, -4.08361205e-01,\n",
              "        -1.34832070e+00, -1.14303399e+00, -3.90911575e+00,\n",
              "        -4.43701633e-01, -8.14545742e-02,  1.74558265e+00,\n",
              "         1.48564733e+00, -1.84455389e+00,  1.06833959e+00,\n",
              "        -9.77326789e-01, -4.57707690e-01, -2.24550198e+00,\n",
              "         3.93807181e+00, -3.02895878e+00,  5.53800147e-01,\n",
              "         1.98129143e+00,  1.33574063e+00,  2.37214026e+00,\n",
              "         5.40730000e+00,  1.38607013e+01],\n",
              "       [ 2.36833390e+00, -3.55685420e+00, -3.03659164e-01,\n",
              "         4.41739366e+00, -1.66876977e+00,  6.09908118e+00,\n",
              "         4.70211125e+00, -1.93109228e+00, -2.95890055e+00,\n",
              "        -2.13770101e+00,  2.53919180e+00, -4.87153224e-01,\n",
              "         1.47141565e+00,  2.80878036e+00,  5.94916152e+00,\n",
              "         1.84589372e+00, -3.06750741e-01,  3.08389661e+00,\n",
              "         5.09676473e+00, -4.07012094e-01,  4.84612008e-01,\n",
              "         2.00514416e+00,  3.93585422e+00,  1.46724515e+00,\n",
              "         6.09838989e+00,  2.74447668e-01, -1.11474418e+00,\n",
              "         9.94789260e-01, -9.92688592e-01,  7.14016486e+00,\n",
              "        -7.11370839e+00,  3.77008243e+01],\n",
              "       [-3.40159416e+00,  3.44301000e-03, -9.97757549e-01,\n",
              "        -3.41650388e+00,  1.95881042e+00, -6.15767000e-01,\n",
              "        -4.34674068e+00, -6.03228514e+00, -3.37370422e+00,\n",
              "         1.56367339e+00, -7.72613542e-01,  2.70523986e+00,\n",
              "         3.65751263e+00,  3.70232280e+00, -2.04020416e+00,\n",
              "         3.17892787e+00,  4.38500774e+00,  3.48773744e+00,\n",
              "        -7.61609007e+00,  1.69023742e+00,  1.21986069e+00,\n",
              "         9.37433678e-01, -1.28012584e+00, -1.31169043e+00,\n",
              "         1.05553259e+00, -5.88718399e+00,  1.50399186e+00,\n",
              "        -2.34203108e-01,  2.29001066e+00, -8.02381548e+00,\n",
              "         6.88602000e-03, -3.81190774e+01]])"
            ]
          },
          "metadata": {
            "tags": []
          },
          "execution_count": 28
        }
      ]
    },
    {
      "cell_type": "code",
      "metadata": {
        "id": "Ryj92IxgxfvI"
      },
      "source": [
        "new_cluster_center = pca.transform(kmeans.cluster_centers_)"
      ],
      "execution_count": 26,
      "outputs": []
    },
    {
      "cell_type": "code",
      "metadata": {
        "colab": {
          "base_uri": "https://localhost:8080/"
        },
        "id": "Dl1vkSylxhib",
        "outputId": "36aa51e6-a06e-4054-ad4b-a995d65916f8"
      },
      "source": [
        "new_cluster_center"
      ],
      "execution_count": 27,
      "outputs": [
        {
          "output_type": "execute_result",
          "data": {
            "text/plain": [
              "array([[ -4.37561716,  -5.59974205],\n",
              "       [-30.49610198,   6.60128564],\n",
              "       [ 50.95113979,   4.22465234]])"
            ]
          },
          "metadata": {
            "tags": []
          },
          "execution_count": 27
        }
      ]
    },
    {
      "cell_type": "code",
      "metadata": {
        "colab": {
          "base_uri": "https://localhost:8080/",
          "height": 282
        },
        "id": "Oqbbz3w4xGBM",
        "outputId": "af633534-a49c-4cc6-9992-5c438687f26f"
      },
      "source": [
        "plt.scatter(new_pca[:,0],new_pca[:,1],c=y) # cluster center\n",
        "plt.plot(kmeans.cluster_centers_[:,0],kmeans.cluster_centers_[:,1],'or')"
      ],
      "execution_count": 24,
      "outputs": [
        {
          "output_type": "execute_result",
          "data": {
            "text/plain": [
              "[<matplotlib.lines.Line2D at 0x7f405a6b7350>]"
            ]
          },
          "metadata": {
            "tags": []
          },
          "execution_count": 24
        },
        {
          "output_type": "display_data",
          "data": {
            "image/png": "[encoded data removed]",
            "text/plain": [
              "<Figure size 432x288 with 1 Axes>"
            ]
          },
          "metadata": {
            "tags": [],
            "needs_background": "light"
          }
        }
      ]
    },
    {
      "cell_type": "markdown",
      "metadata": {
        "id": "VghZEDXdxOBq"
      },
      "source": [
        "ทำการหาค่า k ว่าควรจะเป็นเท่าไหร่ โดยการใช้ Elbow Method "
      ]
    },
    {
      "cell_type": "markdown",
      "metadata": {
        "id": "pUlsXf1KyYxp"
      },
      "source": [
        "## Elbow Method \n",
        "\n",
        "การค้นหาจำนวนคลัสเตอร์ที่เหมาะสมที่สุดสำหรับชุดข้อมูล"
      ]
    },
    {
      "cell_type": "markdown",
      "metadata": {
        "id": "BbrqwyPdybRG"
      },
      "source": [
        " elbow เป็นกราฟที่คล้ายรูปศอก"
      ]
    },
    {
      "cell_type": "code",
      "metadata": {
        "colab": {
          "base_uri": "https://localhost:8080/"
        },
        "id": "McJQAM5Nyx_b",
        "outputId": "2bfefe46-b3af-4fb7-82a0-4fdf7fcb983c"
      },
      "source": [
        "kmeans.inertia_       # SSE "
      ],
      "execution_count": 29,
      "outputs": [
        {
          "output_type": "execute_result",
          "data": {
            "text/plain": [
              "10192922.646103252"
            ]
          },
          "metadata": {
            "tags": []
          },
          "execution_count": 29
        }
      ]
    },
    {
      "cell_type": "code",
      "metadata": {
        "id": "5HvzwkZay1gm"
      },
      "source": [
        "SSE = list()\n",
        "for k in [1,2,3,4,5,6,7,8]:\n",
        "    kmeans = KMeans(n_clusters=k,random_state=2021)\n",
        "    kmeans.fit(Data)\n",
        "    SSE.append(kmeans.inertia_)"
      ],
      "execution_count": 30,
      "outputs": []
    },
    {
      "cell_type": "code",
      "metadata": {
        "colab": {
          "base_uri": "https://localhost:8080/"
        },
        "id": "qK9x_jVzzG9l",
        "outputId": "97a7c345-a28f-4e9a-8ce6-49ac9f0a9f28"
      },
      "source": [
        "SSE"
      ],
      "execution_count": 33,
      "outputs": [
        {
          "output_type": "execute_result",
          "data": {
            "text/plain": [
              "[19492074.617149524,\n",
              " 12287226.791411135,\n",
              " 10192922.646103252,\n",
              " 8882237.446246957,\n",
              " 7776083.319813388,\n",
              " 6741366.527387712,\n",
              " 5648010.760576062,\n",
              " 4633939.742169999]"
            ]
          },
          "metadata": {
            "tags": []
          },
          "execution_count": 33
        }
      ]
    },
    {
      "cell_type": "code",
      "metadata": {
        "colab": {
          "base_uri": "https://localhost:8080/",
          "height": 290
        },
        "id": "6dGv4CEZzJSW",
        "outputId": "332c5aab-d112-4641-a374-cd2baba5ebf2"
      },
      "source": [
        "plt.plot([1,2,3,4,5,6,7,8],SSE,'o-b')    # ตรงศอกเป็น 2  ดังนั้นค่าK จึงเท่ากับ 2\n",
        "plt.xlabel('k')\n",
        "plt.ylabel('SSE');"
      ],
      "execution_count": 34,
      "outputs": [
        {
          "output_type": "display_data",
          "data": {
            "image/png": "[encoded data removed]",
            "text/plain": [
              "<Figure size 432x288 with 1 Axes>"
            ]
          },
          "metadata": {
            "tags": [],
            "needs_background": "light"
          }
        }
      ]
    },
    {
      "cell_type": "markdown",
      "metadata": {
        "id": "5PCSNO3p9ZRL"
      },
      "source": [
        "จุดที่เหมาะสมของจำนวน Clusters คือจุดที่กราฟมีลักษณะ “หัก” ที่สุด ดังนั้นจากคำนวณหาจำนวน Clusters ที่เหมาะสมที่สุด คือ 2"
      ]
    },
    {
      "cell_type": "markdown",
      "metadata": {
        "id": "YwCELv78zWnu"
      },
      "source": [
        "###### Silhouette coefficient \n",
        "\n",
        "เป็นค่าเป็นที่ใช้วัดว่า Instance นั้น มันเหมือนกับ Cluster ที่มันอยู่มากน้อยแค่ไหน"
      ]
    },
    {
      "cell_type": "markdown",
      "metadata": {
        "id": "0jaUdtiyzapK"
      },
      "source": [
        "**ข้อควรระวัง** Silhouette coefficient ไม่สามารถคิดข้อมูลที่มีกลุ่มเดียวได้"
      ]
    },
    {
      "cell_type": "code",
      "metadata": {
        "id": "3FjjeNoRzdVs"
      },
      "source": [
        "from sklearn import metrics"
      ],
      "execution_count": 35,
      "outputs": []
    },
    {
      "cell_type": "code",
      "metadata": {
        "id": "ygKwGD0DziVF"
      },
      "source": [
        "SilH = list()\n",
        "for k in [2,3,4,5,6,7,8]:\n",
        "    kmeans = KMeans(n_clusters=k,random_state=2021)\n",
        "    kmeans.fit(Data)\n",
        "    score = metrics.silhouette_score(Data,kmeans.labels_)\n",
        "    SilH.append(score)"
      ],
      "execution_count": 36,
      "outputs": []
    },
    {
      "cell_type": "code",
      "metadata": {
        "colab": {
          "base_uri": "https://localhost:8080/",
          "height": 280
        },
        "id": "9-RapqRZzrmF",
        "outputId": "3e7666bd-6775-4f41-e0a0-28bb418bd897"
      },
      "source": [
        "plt.plot([2,3,4,5,6,7,8],SilH,'o-g')   #จากกราฟพบว่าจุดที่ดีที่สุด คือ K= 8\n",
        "plt.xlabel('k')\n",
        "plt.ylabel('Silhouette Score');"
      ],
      "execution_count": 37,
      "outputs": [
        {
          "output_type": "display_data",
          "data": {
            "image/png": "[encoded data removed]",
            "text/plain": [
              "<Figure size 432x288 with 1 Axes>"
            ]
          },
          "metadata": {
            "tags": [],
            "needs_background": "light"
          }
        }
      ]
    },
    {
      "cell_type": "markdown",
      "metadata": {
        "id": "E7L0G6Zl1FwM"
      },
      "source": [
        "###ลด Dimension ของข้อมูลเหลือ 2 มิติ"
      ]
    },
    {
      "cell_type": "markdown",
      "metadata": {
        "id": "UXlKiSKo1WXZ"
      },
      "source": [
        "###### ลด Dimension ของข้อมูล"
      ]
    },
    {
      "cell_type": "markdown",
      "metadata": {
        "id": "JdzynnTq4jcG"
      },
      "source": [
        "###### ตรวจสอบว่า ระหว่าง colums มี correlation กันมากน้อยเเค่ไหน "
      ]
    },
    {
      "cell_type": "code",
      "metadata": {
        "id": "yWIekY0c1VuY"
      },
      "source": [
        "corr = np.corrcoef(Data.to_numpy().T)"
      ],
      "execution_count": 38,
      "outputs": []
    },
    {
      "cell_type": "code",
      "metadata": {
        "colab": {
          "base_uri": "https://localhost:8080/"
        },
        "id": "sbyeOlhO1KRS",
        "outputId": "82f7cd29-380f-45a9-8c41-f40c5076e8d2"
      },
      "source": [
        "corr.shape"
      ],
      "execution_count": 39,
      "outputs": [
        {
          "output_type": "execute_result",
          "data": {
            "text/plain": [
              "(32, 32)"
            ]
          },
          "metadata": {
            "tags": []
          },
          "execution_count": 39
        }
      ]
    },
    {
      "cell_type": "code",
      "metadata": {
        "colab": {
          "base_uri": "https://localhost:8080/"
        },
        "id": "BlTjotO41eLl",
        "outputId": "3d5c941d-1b54-4713-e8fd-6eae47d7436e"
      },
      "source": [
        "corr"
      ],
      "execution_count": 40,
      "outputs": [
        {
          "output_type": "execute_result",
          "data": {
            "text/plain": [
              "array([[ 1.        , -0.03522889,  0.06557524, ...,  0.41074998,\n",
              "        -0.03522889,  0.41074998],\n",
              "       [-0.03522889,  1.        ,  0.26280354, ..., -0.10765056,\n",
              "         1.        , -0.10765056],\n",
              "       [ 0.06557524,  0.26280354,  1.        , ..., -0.01992461,\n",
              "         0.26280354, -0.01992461],\n",
              "       ...,\n",
              "       [ 0.41074998, -0.10765056, -0.01992461, ...,  1.        ,\n",
              "        -0.10765056,  1.        ],\n",
              "       [-0.03522889,  1.        ,  0.26280354, ..., -0.10765056,\n",
              "         1.        , -0.10765056],\n",
              "       [ 0.41074998, -0.10765056, -0.01992461, ...,  1.        ,\n",
              "        -0.10765056,  1.        ]])"
            ]
          },
          "metadata": {
            "tags": []
          },
          "execution_count": 40
        }
      ]
    },
    {
      "cell_type": "code",
      "metadata": {
        "id": "z_Fxfm521jEr"
      },
      "source": [
        "for i in range(corr.shape[0]):\n",
        "    for j in range(corr.shape[1]):\n",
        "        if (i !=j) and (corr[i,j] == 1.):\n",
        "            print(f'row = {i} column = {j} corrcoef = {corr[i,j]}') "
      ],
      "execution_count": 41,
      "outputs": []
    },
    {
      "cell_type": "markdown",
      "metadata": {
        "id": "FCR_Wfk71keM"
      },
      "source": [
        "เนื่องจากรันแล้วพบว่า ไม่มีผลรันออกมา นั่นแปลว่า ข้อมูลนี้ไม่มีความสัมพันธ์กัน"
      ]
    },
    {
      "cell_type": "markdown",
      "metadata": {
        "id": "ycIYP1fi1wLE"
      },
      "source": [
        "####MDS\n",
        "\n",
        "คือ การลดขนาดของตัวเเปร จากที่มีเยอะให้เหลือน้อยๆ"
      ]
    },
    {
      "cell_type": "code",
      "metadata": {
        "id": "YLoN8tah1vDL"
      },
      "source": [
        "from sklearn.manifold import MDS"
      ],
      "execution_count": 42,
      "outputs": []
    },
    {
      "cell_type": "code",
      "metadata": {
        "id": "b9n6RPXO112h"
      },
      "source": [
        "mds = MDS(n_components=2)"
      ],
      "execution_count": 43,
      "outputs": []
    },
    {
      "cell_type": "code",
      "metadata": {
        "id": "2QAY_30c14P5"
      },
      "source": [
        "new_mds = mds.fit_transform(Data)"
      ],
      "execution_count": 47,
      "outputs": []
    },
    {
      "cell_type": "code",
      "metadata": {
        "id": "EQQdZzT52kY8"
      },
      "source": [
        "kmeans_2 = KMeans(n_clusters=3,random_state=2021)\n",
        "kmeans_2.fit(Data)\n",
        "g = kmeans_2.predict(Data)"
      ],
      "execution_count": 51,
      "outputs": []
    },
    {
      "cell_type": "code",
      "metadata": {
        "colab": {
          "base_uri": "https://localhost:8080/",
          "height": 295
        },
        "id": "4_WWRAAc2seX",
        "outputId": "78c912e8-9d97-4887-c9fb-7b75ad169be6"
      },
      "source": [
        "plt.scatter(new_mds[:,0],new_mds[:,1],c=g,alpha=0.7)\n",
        "plt.title('DataGenerator') \n",
        "plt.xlabel('X') \n",
        "plt.ylabel('Y');"
      ],
      "execution_count": 52,
      "outputs": [
        {
          "output_type": "display_data",
          "data": {
            "image/png": "[encoded data removed]",
            "text/plain": [
              "<Figure size 432x288 with 1 Axes>"
            ]
          },
          "metadata": {
            "tags": [],
            "needs_background": "light"
          }
        }
      ]
    },
    {
      "cell_type": "markdown",
      "metadata": {
        "id": "4gb7UTeD2um8"
      },
      "source": [
        "#### เปรียบเทียบ ระหว่างข้อ 2 กับ ข้อ 3\n",
        "    "
      ]
    },
    {
      "cell_type": "markdown",
      "metadata": {
        "id": "vPnlfpkFDcSw"
      },
      "source": [
        "ข้อ 2\n",
        "![image.png](data:image/png;base64,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)\n",
        "\n",
        "ข้อ 3\n",
        "![image.png](data:image/png;base64,iVBORw0KGgoAAAANSUhEUgAAAYcAAAEWCAYAAACNJFuYAAAgAElEQVR4AeydB5QUVdbH3+oad9e4bvJb1xxADICKOZFREBlyzjlnE5gVEIQZcs45g0gSRBBEEFBARIKKShpyDj33O7/bXWMzdM9093QcXp3Tp7qrq6vq3aq+/3fT/xpjFysBKwErASsBKwErASsBKwErASsBKwErASsBKwErASsBKwErASsBKwErASsBKwErASsBKwErASsBKwErASsBKwErASsBKwErASsBKwErASsBKwErASsBKwErASsBKwErASsBK4FQJfCTMeaEMeaIMeagMeZLY0wDY8xFARzwZmOMGGP+HMC+3rtUMMZ8ZYw5ZozZ43nfyBjzJ++d4uT9YmNMnTi5FnsZVgJWAlYCUZMA4FDQc7arjTEljTHbjTFDA7iCUMChtTFmtzEmyRjzNw8gPGiMGW2MuSyAc4Zzl0BALTvgANgFArLhHJM9lpWAlYCVQFgk4A0OzgEfNsakGWPuNcaUMMasMcYcNsbsMMZ0dnYyxvzisRyOGmN4PWqMuc0Y85kxZp8xJtWj9K/x/AbwwVoo43UMX28BiW6e4wMk/YwxV3h2fMYY86sxBpDB6thpjKnpdZBAftveGLPLGDPSGHOtMWaWMWavMeaA5/3/eY73rjHGZYw56Rlfimf7Y8aYr40xhzxrPjsLYMLvlnksstudL+zaSsBKwEogkSTgCxy4fhR/Q2MMyjiPZwZ8n2fW/5JngL4sB5RhIY8VcIMxZokx5mPP/kWNMWcDcEP1MMbMMMZc57EuZhpj3vccg+vhGG8ZYy4xxhQ3xhz3KHl2CeS3H3quD8C53gNWV3rONdEYM81zLlYZLQeuCRCp6hlHRc9njuPsj+xye77nGu1iJWAlYCWQcBLwBw4rjDGv+hgNih4FzOILHDxfpa8AEiwPliqeGbvno66IcRDrIO7xlMfNhHWBBeIsWCS4ulgAB/b1dglhQRQI8LenjTGXe47la/WAR9k732UEB0BhpfOlZ73cGFPD8579AS67WAlYCVgJJLQE/IEDLiQsh0eMMYs8bhfcKLhYcMew+AKHfxpjxhljfvO4onA3cSyWYplYDriKUPz/8LiqAAznxXk5Dgv7sK/34owhkN9yXd4LFkN/Y8zPnuvFfUaQ/WLPThnBAZcU1oX3wngdIGX/ut5f2vdWAlYCVgKJKAFHsXpf+0OemAPupK3GmJZes20sh1Genf/nI1tpsDFmrMclxG5YDo4yJ/bgL+bggAMBXNxEN3pfkNf7zMAhlN++7nEd/ctzDiwH7wwsgNE7W8mX5YD14205eO/vden2rZWAlYCVQOJIwBscrjLGvOABhBGeIeCyqe55T6Cazw44MOsmYHun13AnGGMGembeKHgCsw44sFu7DNlKKHTHlYPiZ+lpjOE4WAIsHKeI531m4MAuwf62izFmjgf8iCdMzQAOWAXvec7NitgCFk0lj2urvOfz3z37ZLQ0vH5q31oJWAlYCSSOBAAHp84B9w3+88ZebhVSTnG5UAdBVg8ZOw44MEr862T6oDDx+xOIXe1xA631ZBV5gwO/qezx22Mh8FtqHuoZYy71iI2YAAp5m8fV870xppnnu6zAIdjf/sdjOeC22myMqZ8BHIh3sJ0gdC/PNTzhGSPyYqx8dhYLDo4k7NpKwErASsBKwErASsBKwErASsBKwErASsBKwErASsBKwErASsBKwErASsBKwErASsBKwErASsBKwErASsBKIEsJXH/99ZIvXz77sjKwz4B9BuwzEMQz4Mm8y1LHJuwOAINdrASsBKwErASCk4AxZlXCKv5ALtyCQ3APhN3bSsBKwEoACVhwsM+BlYCVgJWAlcB5ErDgcJ5I7AYrASsBKwErAQsO9hmwErASsBKwEjhPAhYczhOJ3WAlED0JpKWlyc8HD8iP+1LljMsVvRPbM1kJZCEBCw5ZCMh+bSUQKQn8euiQNPlkhpQaO1JeGjdKqkyZIGt2/h6p09njWgkEJQELDkGJy+5sJRAeCWAl1J4+RV4eP1pqTZus7ytMGidlxo+W3UePpJ8Ey2Luls1Sb+Y0/a7TogWydf++9O/tGyuBSEkgnsGBRiqTjDGbjDFQHEM1DD/9fGPMj541zdQzXWwqa6QeHXvc7Ehg7a6dai0AEN6vF8eOlIkbvlMXkystTd+/MGaEABw1pk6S0uNGS9KEMfLLwYPZOb39rZVAlhKIZ3AY7tWxCl58wIJGJh08aMCaxuqZLhcyODA7/fq3X2XWD5vkm99/k7Men/aJM6dl3/FjwqzULrGRwNJffkoHh8qTJ8gjA/vIncnd5bae3SR3n55yf99keaBvL7k7ubs82C9FHhnYVx4d1E8eG9xfnhgyQLosXRKbC7dnvWAkEK/gcLWnAfufMmj+H4wx//ZsY83nTJcLFRwOnDju8WePEmae+LWbfTJTeixfqq4MPteZMUXB44J52uNooHuOHtV7kjR+jNzR6yO5pWe3gF73pHws9/bpKQUG9ZVDJ0/K4ZMn5fOftsuCbVtkz7GjcTRCeymJLoF4BQfaLK40xgwzxqwxxgwyxvzF053LAQOAg25dvha6cFH6veqmm25K9HsU0vV/vGKZvDhmZLrLAr/2wwP7SIFB/aT61Enq5y4/cZzOXrfsSw3pHPZH2ZPAyHVrVNEHCgzOfrl7fywPDewrXZctURcTQF9y7EgpNW6UTN/0ffYuyv7aSsAjgXgFh/zGmLPGmEc8mp8+um/7AANaHWa6XIiWA+4isl8AAcefXW3KRMnTp5c80C85fRvfvTRupPRYvsz+IWIggeOnT8l9fXoFZDE4wOCsAYgH+yVLxUnj9X5WnDROSo8dKSVGD5efDhyIwWjsKXOaBOIVHP5ljKEXsLM8aYyZ7XEjWbdSFk+hAw4EMB1wQInk6Qs4pKRv4zushzbz5px3RGISszZvktHfrhWCpzY+cZ6Isr3hyMmTkqv3xyGBgwMS+Qf0FlxNxCpu7/WRuqhafjrb3q9s3x17gHgFB0DhC2PMXR506GyM6ep5eQekCVBnulyIlgOPdfflS9XV4IBD9SkTVRE9O2zQOeCAO2L42m/O+Sd8u3uXuivYF0sDi6P0uFGy/cD+c/azH4KXACBLptGm1L0KvPn6984WODggATg4sQvekyI7bO1qWbfzd6GewoJ78PfqQv9FPIMDcQfiBt8aY6YZY0hbvd4Ys9CTyrrAk9pqwcHHU0xAutHs6eqHLjFmuJQaO0peHjdaio8eLmUnjFHgYNZJVkzDmdMkZeVyeWfJIiFWgWJ5fvjgdEuDbBlmuEVHDZOdRw7LqbNnJfXYMVvR60PumW0iYNxq7icqe1JSH+yfIkVGDpVcKT3CAhAOUDhrQELv28ih0mru7HPqJzK7TvudlQASiGdwyFTpB/rlhWo5cHNPnz0rX/26Q6Zv2iirfv9VP3/5y89qFeCKuDVDhkzu3j0FawGFwvu8/XtL/gF91HLwVji5U3rI44P7SZnxY2TO5h/sPykACTBzb/HpbI0FOUVvWA3ImfiBI99wrwGIhwb00cwoJgvWggjgZtldVAIWHC6wB4FYQvFRw9QFcXvPbucBxB29umu+PUoqb/8Uubd3T7+KC3C5O6WHNJo1XQat/lo+27ZVqKHwXgColb/t0FoLYhcUdl2Iy7YD+9WKc4ABd1+xUcPktl4fnXcPwg0QHA8Auq9vL+m54ku1/C7Ee2DHHJwELDgEJ6+E3xtLghx5lNIdyd39Kv5gFdQ9KT3k/r69pOCIwbJu1051Of166KA0mDlNSo0bmV5r0XruJ3L01KmEl2OwAyCOQ9zGiQGxxn13W8/AaxyCvSe+9seV+N4Xi4O9fLv/BSgBCw4X2E3fsGe35O/fO2IzVtwYzFCJbXAeYhrwBZGLjyUCiBQeOUQWb992QUkeQCw5ZqSUmzBWa0xqTXfXnfhS4JHexj1YuG3LBSV/O9jgJWDBIXiZJfQvoNB4ccwITXtEkUdKEeGO8o5pkGaZB1qIfsmaAcU1LPvlp4SWZaAXTzV0xwVz5elhAzWegwweG9RP008jJf+sjvtQ/97yQ+reQIdg97sAJWDB4QK86fQOYFbvrbyzUibh+p5zwiGENdF49owcL31iLASCKUok3lBuwhjlR8Kd5KSehku2wR7nscH9ZPdRS7mR4x/CEAdowSFEwSX6z5jNvrZwXljjDoEqJwACojlcTcdOnxvATnS5Zrz+9bt3aczFO9ZA5ToxH6ypQGUWif24BupcoAjfceig9pLYe+xYxiHYzxeoBCw4XKA3nmF3+3KpPDV0YEzcGwAE7hWUU9t5c4Rsnpy4eLOvOgBRZfIEISssFpZbRpDBenlm6EB37YUnNtRv1VfpDL458Z7YMQUmAQsOgckpx+1F7AGitvITx8bMvXFnz26Ca4PiusIjhiqR3IwfvpdDJ0/kGHlTNAgAelOZ8B5a7kjGfDKCQFafC48YoplUXBssvrNt/UqOeQZDHYgFh1All+C/o9cDbh2UAQo6VrPYO5UPqLtmMWHFoEhplwnlQ05Z+q9aqQqXynS4rFC+jJHitKyUdrS+p28EjYYqTR4v5SeMlYazpucU8dtxhCgBCw4hCi4n/OzDpZ+nz2pRVLGcyQJO9/T+WGk7SIPtvHhhThCxjoGq5CU/bdeMJegzpm3aqMWCC7duiXncwRt8tNlQr4/kzmQq4PvLb4dzDkDnmIcpigOx4BBFYcfbqeBHojcxFkSJ0cN09u6tLKL9HoBAQVEnUXjk0BzP3UQmE53dYgnK3vfYYXXlPkDtUW3qRDlyARYsxtv/NFbXY8EhVpKPk/NCord8xy8y9fuN2n4SmgWUBJks3oojWu85N9eAJZPTqTYojMPFRNvPWGcuOffXDRDd1XJg0jDnR8udFSd/1ahfhgWHqIs8fk9YbuJYVcoAQ6xiECgpMmgKDOyb40nicDcR86HXBjGISBLwOco/qzXgAA3K40P6K5Mv8RK7XJgSsOBwYd53n6Me/M0qpb1wuJeyUiSR/B6fN5k+OX2BrJBqcWg1eEVSpoEeGzfXfX2T1aL51FoOOf0R9Ds+Cw5+RXPhfXH89Gl57bP5UnLMCKXkjrWr4+5eH0nLT2dpM6LPf9ouh06ezJE3ZfmOn6XZnFlSZsKYuHEvkWpL7IcaFEvznSMfuywHZcEhSxFdWDugCDanpiox3urffpX2cz+J+WzWHSBNURbTr3/7NcfeEGRPID7QGX4k96PfR1ktihslMMra5cKTgAWHBLnnzOq37t8n9GOI5nL45EkpOHxwzBUWcRCC1Myuc3IGzdjv1gl9NiKp+LM6ttut1EseHdRPA+azftgUzUfOnitOJGDBIU5uhL/LYDY59fsNqhRpLUlVc9cvvzivqY6/32d3u1JNjx0pTw0ZELNKapQZ4ECHukIjhgiUFDl14X5XnjxB7kqOTOvQrICB77HUYNDFrVRi9HBZseOXnCpuO65MJGDBIRPhxMNX/DFfGD1ci9VQjLgdaOXZZdkSvTwKlcZ9t04GfbNKidMikf755uLPVEnQjwGFEYu8fBQW2TykfS75eXs83JqIXYO71/RsebBfcswsCDLG6PtQbeok2zkuYnc6vg9swSGO78/GPXu0YviulB5ydzKv7jqDZhbNtqpTJmiDenLloZ2A/uCDpZ+HnTQNps4Gs6ZJidEjtGgrVgCRK6WHAuPBEzmHe8nf47dm5+/aRjQW6a1OGnOBQf209zjWTKIsXOvO7btly9rtcvjAEfl67lrp33a4DOs0Xn5YlXmDo/27D8rWdT/JkQOWxpz7He/gcLExZo0xZpZxL7cYY74yxmwxxow3xlzq2e53lS9fvoR4rnmoaeGJcn93ySJp8cksn5krzh/X2z1AH2fqAuhJXGTkMCWwg6bh9c/ma4FbOP7ccDGt/v03mbflRw1Y7zt2TCpPHh/VmS1jLzRyiIxf/22Or55uN/9TSZowRhsjed/raLzHMmQCwvPEpAMqE2Je8b4c2ndYutXuI40eai9NCnSQcv+uI1VubSQN87WTCv+tJy9dV11eKf6ubPvu53OGcurEKRny2lhp/HB7afpoR2nySAeZ0nO2uFyuc/a70D7EOzi0MsaM8QKHCcaYCh4k6GeMaegXFTxfJAo4QJNMvjutJO/v0zMkpYsbgPTTB/ul6AybGf69fXpK/ZnTIsJ0evLMGXlu+OCoFcwVGTlUoLvGUhq6ZnWO/q9WmDROqk2ZqODga0IQSZDApVRo+GBlaaVBEfKO52K49cs2SUrTwVLtjiZS6eYG0r7IW9Ls8Vel5FVV5YW/VZYXr6oiJa+uKqWvqy4v/LWy1H+wrXy39Pv052fiRzOkQb628kqJd+W1F9+XjsXekQZ528gXU1ak73MhvolncPg/Y8xCY8xzHnD4kzEm1RjzZ4/ef9QYMzcngMPPBw/oDI0iqNy9QwMGb2XBzI889Tx9emkPZwK59WZOjYjveNS3a+WhAb19Wjne1xSO9wRJ8YHTLOfl8aOFYHlOXV5ZOE/KjB+jMRbuXzjkF+gx8vZLEXpcO/0nACmuJRwWaLjv18IxX0jDfG2lUf528uLfqkiJv1TW18t/ryEl/lpZCl1cVgpelCRFLiknxS6vqIBR575WCgBnzpyRM6fPSL37W0ut3M2l/gNtpG3BNxUgWj/bSTqX6Rruy02o48UzOEwyxuQzxjzjAYe/e9xJDh781xiz3vmQYV3PM7BVN910U1zfkO0H9kubuZ9omuYD/ZLDFuzFLUBDGSwJ4hPPDR8kX/5yrjkdDsHQF2LMt2tFq6o9mS6BKqFQ9mM8pceNEjK36F6WU5cNe3ZrZlrx0cM0c+iu5O4RA4g7krsr4aGTaEDigQMMrGtOm6zxLO51PC3Hj56QZo+9Ku2LvC2tnnlDil1eQUEAQCj857JS8E9J+uJz0UvLp38HaLBvnftbydsVPpISf6mklkWpq6uqlZH0z1pS7sa6UjtPS8HldKEu8QoOLxhj+ngUfijgkI4V8exWIhOJ3sK4ZnAJhdt9wJ+ePzzHJSYx+tu1EXvOz5w9K4u3b5UKk8bKQwMj36cANtOcXO/AjaL4jNgD7jRqDriHzv30BawASK6e3eXO9z+UW7p3lVs+7uoTUG7r0U3ytH9bbu32odzSrYvcof2s3RMJXEq4I3En4eLkvLgpq06eEFdxh8P7j8jADqM0jkA8oebdzaTwn8tJ4UvKpYOCAw6+1goYl1eQQheVlZLXVNXjABLOvoUuSpKil1WQ10t+ICeO5czK/KyUQbyCw/vGmF+NMT8ZY3YZY44bY0bnJLfS6bNnNZ+9kod0jT+lrz98uLahVMZ+FzlwcB40XA+/Hz4sI9Z+ExYXmb/xUyhGim08ujocWYR7TVLAlI3r5YG+yRowBvSxpHC30cmtyPu95OnrKskz11aSRwo0lLubvi63dO9yznN1d7duUrhAUyl0S215oFpHuf3d9+W29z6Qu3tAuJcsJDcwWXlkYF+tKyFbCiI+UqjbzJsTF4kAx48clzde+lDq3tdKXrzKrdhxGRW5tHy6cneUfKDr4l7AwG8AGuIUHH/+yMXhvpUJcbx4BYf0mb+XW4ltEzMEpBt57+jrfbxaDvRMxj2C2f7MsEEaOHbMen8KMbvb86T0kHc/XyQzf/he1u78XQCoSC00rSfTBVdZdq/b3+/z9O0lX/+6I1JDiNvj4op8e/Fn2l4V9lQSGSp06CFFr60qBa+sIM9eUV6eu6K8PPmPylIgVx25tXtXrbq+r08veTipnVS9r4U0eP51KZi/sTxc41W559V3JNer7yo4PDlkgCzc+qM8PXSgJjUQjCbGo5bE2JGaURdrwSwev0waPdROYwOVb2koJa+ppvGFQIEgkP0KX1xWwQbroXbuFrJg1BLZ+9s+WTXPnRo75LUx8v1Xm3P05CTRwOFWY8xKT+wBoLjMFyB4b4tXcEB5lho7SmpMm6RmPM1V8vbvHbaYgz+F6mwn8E0x3bIIVhtP2vCdukScc4ZzzawZ/p9mc2bGWlfF5PxHDx2TjSs2y4/rtsvc4Yuk/H/qSsmrqkjpG2pKwb9WlOevKCfPXlZOnr66gjx2d215pGhLefTtj6TQQ42l0kOtpMmjHeXZ22vLk3fWlidz1ZGn7q8vRZL7yftfLFZeLXo5eMcdeI+badjab2IyXu+T4k5q9tgr6ZlFVW9rrMHoQJR+oPvgntJg9p+SFHwa5m8n5W+sKzXvaabnblKgo7BtZr+53peWo94nAjh46/qg38crOPAUkZHy4piR6hbIP8ANDpjx0cxOwT3Tdu4n8sXPP0XEZbApda80/2SmBjzDCQ4E3MnGoqUoDYsupGXusM80bRNl9cJVVdQ3jkuFICxZOep3vyhJnvcEZAteUlYKXlFBCt9QTQrmbSzl72kspa6pJi/dUEOK3lxbnrm9ljzzn2rSvPMAleXaXTu1O+B54DB2pHyyOfbNf6alzEm3HEg95VUnT4uQXUpZAQbgQ6orVkSxKyrqe9JdeVEbsW/n/hz5+FlwiOFthUQPPy7A4PbtJitNxTNDB4U9OJ2VYqb6mJRF+hvTY+D3w4dUUXCN+Lqzu2zas1vy9U8Jm2WEC444zb29e6oig05k//Hj2b3MuP49lb8j3hyvqZr4wp3ZLTPcQhe7M3NQdIW8MnVU8V2UJAUvLScFLy8vBa+rLKVvqKH+9KR/1pYy/6il76kRaPxIBzl68KhW2DecNV2TJchUwqVEKitNieKhOn3vr6lax9Diydfk1Rfe08K2cv+pEzFwKHdjHSl+RUXB1UQsgpRZgNkBB1xNOXGx4BDju0pA9atff9G8fUjOsCQguUPp0U85K6Ue7u9Rulgu+PPxUZOp8vDAPvLekkVC0Vuo3E3wBd3fL1mDm9kdl5PV5XYt9dCWllTzNvlkRtipQ2L8eOjpz549KyPfnqhuDFIwFQAUEM5N2cx0Bky+/5XlpdiVFaXGXU2l6GXlpegl5TWls/LNDaVj8XcFVwkAxML9orcH7qWiQwZLkbc/ltpFX5c3k7rKitmrY+5r/3HNNnkzqZtWQzN7r5OnZcTAAfCleA6rjNfLN9QU0l4b5G2rlsOGL3Mma60Fh3j494vIsdOnZeG2LTJq3RqZ++NmZWElUB1u5R/K8UiRRBFTbV1wxGANhqI8gl1Q4AAPFkR2AYJxkP7LsUi9zDegtwZm4STKCQuThh2bf5e1i9bLrAHzVRHVzNU8LAqQ9M2MQPLy32vqbHhQx1EyoN1IrRto8cRr0q31YKnzRAdp8ugrOlOmngCluGj80piLGRkd3HtIZg+YL8X/UvG8MWUcY3Y+41LCamBNHQRUHFheHYq+o4V0MRdGBC7AgkMEhBqOQ27cu0fqzpga0XTQUIAC9xfBbDKRsCSCWZb9/JPkH9AnvXLbAYhgs7RI3wSoOJbzAiAIsMP9lOgLefXJTQa6OYIe6SCl/15DyvyzZnqANDtKLrPf4o4qcWVldaFQNdyhyNtS9l910jmJHP9+u0JvKXhQXRzrBVmV/7+6EQUGR2ZOhTUuvRf+Ulmq39lUftuyM9YiiNj5LThETLTZP/CuI4el2Kjh8szQgXJHjBvAOECCYkaZ39bzI3l14byg3Qso7zLjR0ux0cPUZdFo1nStDg+2wY0bHHqngwO5/k8M6S8b97jdItmXfuyOMKHrNKWEwJ+OQi51bbWoKD+UIC4UYhkErPGpl/1XbaWcaFqgo16LAxCQ0+3fdSB2QvKced3n65Uew1HgkV6rfP5cVopfWVEWjYu99RTJG2DBIZLSzeaxfz18SIOCZSeM0Zmyo6DjZX1Xr48k5avlQY+S7KJfDx0SusxRAfzU0AE6PieW4Gt8Gb+7z9OMBqoH+h7c0/tjqTtzatBgFfTFR/gHuEqghOhQ9G1Vxs2feE3jApFWet7Hx31CtTAB3yq3NdJZct08rdLBAboKvjt1MrZMrWfPnJUpvWZFDTgdGeGWA0DrP9gmR1dPW3CI8J89O4dHUUCYlzR+jDw+qF/UM5h8KWlf2ypOHCubU/eGNNTyk8YpNTRuIeIRGUEg4/n4nhiIwzz7QL8UTQWGhiQnEPERfIZEzmEIpcir+JV/0Do4Cioaa4KwMJqiCKvd2UQzgyCmI+Ywe9CCkO53uH60ev46aVuwswaHoyGLjOcgbZj4w5fTV4ZrSHF3HAsOcXdLzr0gYg9lJ47VbnDRrH/IqJSz+ozbi4rvYWtWy9wtm5XmYcamjdqdjmC7v6XDgrlSahyV1ClaoYt7iBRVXFf5fFRXI4Oio4YpdTd5+DWmTtLCrETmWaJvAKDgLH1aDJHGj7TXmbrWMvytStRnx44ydGbJL11XTWrlai5tn++s1cJMXGK10I+BDCWYUwEw51qjuYZ7Cdn0bDQgVmKI+HktOERcxNk/AbUG0zdtlI++XKqKETpuisCyUtjR/p5ZPQFr0mBz9e4pEP85ynz+Vt9duCCXo1KcNN68/ZIVGDgObiKsCYCCLni5Uj7W1730kR45JC5oHLJ7Z+k4NrzzeG0uQ4Oa/m1HqB9/9y97haAvFgRppkU96avRVH7e58JyqX1vC+lWp09cuO2GvTFOazLaPNdJil7qTu31vt6ovb8oSVOAs/scxOvvLTjE653xc11kCH3+03ZtvjJ87WrpOH+u3N4z/oACYNLANZThyd01rrB1/z6fo6IilxoFgsz8hnaoACDjIjMKMjhI4XgBNhRmxXLm6nMQQW7EWniv8sfSMH9bDfzSoYzZMAFfaKIpRqMJDa6TwhSwOdXOMVgThIU2guuLhwWQgrqCdFJcO7GUDfUi9fO20RhM39bDNHuJ9Nox70+WNs91Vvfgp0M/k9On/FvP8SBTX9dgwcGXVBJoGy4bspmibSUEej6sADKbsAAazZ5+Ds32nqNHpc/XK5TDB1cRlgJWB/0nHMsIsAA0sC7o4QC/zztLFiXQHfJ9qZtW/qjK1slIchVLTxAAACAASURBVLKAsCDoe/zZ2C80lbXOvS3V5x9LBci5a9zTTF4p8d55g8EddvL4yaiC9SeDFwjNfAAHCtIIoMdSPsRkAE8yuOB8alf4LQWv9oXfkjbPd9aucgPajzxPdvG+wYJDvN+hAK6v79crVKEGqrBjtR9Fa5UnTxDcZLyg66BeotLkCVoRDoAAJk7zGec6SZ8tN3Gs0jjAErrQj4sqAFHFzS7Lpq1U5e+AgrOm3/HkHjPVbUKdQfMnXs0WFXVYlOZFSVInTyv5fOKX6fKjxmFayic6Y6YT2zsVe8iP32xL/z6Sb+gVDZ22tv68voZWK9PtLSxjDcUyuyhJA/ek/la7o7FU+L966Zld3NdXS7yn9/r3bbsiKZawH9uCQyYihdJ6yc/bpcvSz+W1z+ZJq09nS/v5nyrl9Ykz8WMmkhZaatwopZGgsAwF6yjWeFrf2esjjUW8uXihjPp2jXYXI6hca/oUdRnhTuJ6AQnGASjwGSviuWGDtAKaAHawxXeZ3OKYfQX9A1aCL8thfJdp0vjhDqpgSBv17moWKwXY8KH2smDU59Kr8UBhFtyjQX+p/2Br7cLGGEhtbfpox6gVhbV46jVt8EPAvsqtjZSILzv9HMIhV2pDSl+PRVPjHHAAILAqvln4bcyet1BObMHBj9QABrhlYP18YsgADZASbC00fIg2XIcwL57YQBdv3yZJE8ZoXQSzcaqF4w0kUPZkI8HVBMjSM9th/uR6iS0oGPT8SIGB68fFBJ15nRlTlEo6nmTu59EJaDMxk+71+mlaKMFnQAA/+lvlPpI1n32rlgNKhYwcX3QX4VBmwRwDgNLWmnla6nXSq5k2mo7Fw5qYxKh3JgU0/uzuhB+flFpm65ybNSSCSlmOFREDS6L034mBlNcMKm+5AJ5MBH7+/tfsDjuqv7fg4EfcMzZ9r0oJAjxmriguGtdAHoc75MWxI2XJT9v9/Do2m4k/fPP7b/Ld7l1aKYwPP54sB+RIcPquZDcD7MMD+mgFeNUpE6Xa1IlCY3uu957kHrof1w+AAHb0VM5pC9QPU5M/0ab2gMC4LlOFDCYC0qSMtnzqdamdu7laDvEAEIAJAWCyp5xKatpzOgV7rZ5+Q7rUTInKbaIAjoA9ZIFYLFRwExCGXZYYAK9gwC9s+16UpCBKgRwxGkALtxsTgURLorDg4ONRxm0B6R2ZMmTIMOO9o5e7CTsKi4plcvo/XvGHD9bHYWK6iQcx+asv1UUTTwDhXAtge2ev7ipjCtrKThgrJcaMkCKjhgndyCDpSxo/Wq20975YnHB/rOzefHL5sSgq39zgXCUXgxlxZooTsCj77zqqBJkdT+oe3eZLZHXt+OE3OXbYTdc+pddspTSPtYupyq0N1cICvLCmnOvL7nMRzd9bcPAh7S9/+VkbqwMEKC43OPzh/6bJDN91mP+p/HzggOw9dszHUeJj08pff5ESo4ZrrQABYQCP7B8dE3UJKR/HzLoAIB7sn+Jmah3QW3qvXC7HTp3SfhLwNtEMacHWLWHpJxEfdyO4qyDoC0Mq2TiakRNnwABo0OPghb9Wkaq3N5ZWz3SS1N9j2/iGSRHxEAr2Kt+SAVhDCTaH+Bvu19gPp8rxoyeCu+lxtLcFBx83Y8YP30uhEUPkvr7Jytvjz3fPdhQtPXw7L1oYF41QfAxHNx06eVKrlak1IMceXz81A/AS5Up2+/qdWX001wWHD5HKk8erhXA8k0pqf+PK6duHvzleWUdhAY31bNiXBYH7hkY4TR9/RXb9tCcubgfuOsgLCVT7uuaobLsoSUpdV13er9ozYa1eCw4+HmeqdvFzo/RRoFkpS/ahIXux0cM10Dppw/pz8vl9nCLmm0glVUrwPj1jmgZL2ipWWIFBfWVfNju54WIY+/4UTf9s9vir2iDn8P4jMZd1di5gVv95WijHeKrf0USDnSWvqRo7pZdhJv3C36poFfeMvvHXS/mXTb/GFFBhbgXUx3edlp1HIGa/teDgQ/SYprg1yKlnZu3PcsgIGuz3+OD+Unz0MKkxbZL0WvGlso52WrRAPli6WEas/UZ2HDro44yx20QhWtnxY6ToiKHaPCfjmJzPwVJqO7/Lao17y920p7e8FgIFuCM5irHer9JT+/tSH0ATFmoG3i7/UUI3Y6ElZtPHXtH+CWTAkEMfKz4hnzPui5KEHst7f/Nd/e7cn1is+R9X/G/9mAFpmX/U1JaiuNyozUi0JV7B4b/GmEXGmI3GmA3GmObGvVxnjJlvjPnRs77Ws93vKl++fCHdE4LS49d/qxlKKP1AAcJRhii9Rwf2lUcG9dWZOTNk4hfPDBuoPvWQLipCP6LyGAK7ypPGp8cjqDlQXqOUHrpmPNQpOOML55qaBrLCkM+6naE1T9m4YrM09lM3sO7zDRGSXHQOSzU1WS/kytNgJp7Agawl/PuAA/51sojiaZnQbXpMKqhxAZa5oZb2xaAtayL2mY5XcPi3MSavR+P/zRiz2RiTyxjTxRjTwbOd9Yd+UcHzRajgwAMOI+pTQwcqMAQLDo7ydIDF+T1rKCGwSuhlMHD11zJxw3fij3coGn+0jgvmagMe4hDVp07yxFt6abD4scH95aWxIzVrK/+A3kGDpCMHX2tkQczG3c2tt7rwoNgIZaF6F0vBO7+c9+TCzx+5WHAxQEuxff0vCekDxjKiv3Pq7/vkrfLdYzYbzmg9EHMo++/amplT+96WmlY6qcfMuOESoudE3ftbx0ReACekhfUfaC1rPvsulMc6pr+JV3DIqPOnG2MKGWN+MMYAHCys+Zzpkh1waDX3E3l53GhVjL6UW3a2MRNXplEK60YMkcIjh0rPFctiori+37tHSo8frQV0VSZPUA4j+iO8unC+vDRupNJjExegGI1aj2DHDQgQl8F9BDA+0LeX1o7AvArgAA4cm3MUHzVMDpxwpyUG88/YsPwH/RNCVOdddQyzaecyXbUIqfEjHXRNzvnxI8GfI5jrieS+v23dFRdV095AQXYOFcIv/72m1Li7mbLNRlIGwRx709dbdBZf7IqK0ZXbRUnaNIme08cS8HlLBHC42RjzizHmKmPMQS8k+FOGz15fmXqega266aabgnmOdF96A3yyeZMwa4bw7bnhg4JWiIEoUArCcN9QBYxiRIHSzWzQ6q/dbp4pE2TAqpVy6GTk0+G27EsV6gmwHt5eskg2pe6V7suXaj0H2wi4Q4qXt39vLVBDyTtj5L1jGTnbnDX1IVhfFLpxHCymSRu+0ypp0mpJZXU37OmlFBnQgOw+GlwQeffPe+T9qr2UuoAOZrS2bPnUazqbpRiJlwMYrClKInCdyEuNe5rGZDbsDQgZ37/4typu+ohrqyu1Buyk8bJM7D5DCJ4X/0slv9XTRS4pJ4UuDh9HE5YDz2Ot3C2EupVEW+IdHP5qjFltjHnZo/m9wYFNB7wRwdf7YC0HeIpQZFRA4/LA7+4oukiuHeXKmhl2xYnjpNLkcWpR1Js5LSZUHV/9ukMztqDIJibx/PDBQo3HncnuavGSY0YIbToBNmIqXDtAQQwBuQF6jw7qpxTbAANyLTNhjFDJPfibVZqhhMUAnQaZYXS8qz9rWlDWE1TIdE2j2Kh9kbcE/y7dyyBlG/zKaGn59GtaTObtbiJY3fTRV4I6T7z9sRs91E7q3NdSlU/hi8tJwTAqtYxKP9DPKNekf9aWktdU0yD1Txt3xJXY1i/bJK++8L7WZJS6pqpaEVgTFKxB/fHC3yoLQWRiKCj2QMft7EcDoPT3F5fV5xDuJ2JFaxetjytZBHIx8QwOlxhj5hpjWnkp/Yi7leBTovoZZUbD+kgCQmbHpqkNIEGhGBZG63mzow4QrrQ0bTCkab1jRyhdNu6mEWtWywujRyhgABxQXLwwZrg2Ihqy+mv5cOnnWtAGzQiWAhXl/I7jzPnxB30usc6afjJTQQF58x37bQySJoNgM39sqJFbP9dJLQToHMjqqXtfayl1bXX9s9MvAXZMLAfeo1yp90jUpUOxd3TMDuhRTR2rdqLeChF+I4C50k315eih+CwO5b4fO3zM3U8jX1udWDTI11aq39VE6j3QWqk4YKGlRasztszWte9trrUeuNYAiCKXlFf6jlJXV1PgaZS/vZB1lmhLvIIDLqMRxpiPvYCBt10zBKQJUGe6BGM5wLSKkkLhAQ75+qf4dZdkptjD9R0zcWITak30/lhe/2y+vhrOmq7upj3Hjkb8eSMdcP3uXTJq3RqZ+v1GdfmwjZk/skL5Y2WVGT9aVv567kyRorZPNv8gbyxaoC6qjIqfjLBF27dKr6++1Mww0mqDXcivf+na6urvLnVtNSVfg+O/hKd7WdVbGykZmroMtO9veVVexCFwe/z64+/ajyDY88Z6/8/GLdVgu8NrhDJjzFgTzNwzU2aR/A4FWeSy8tKn5dBYiyjL88NhtWL2ahn19kShRwTV3fSm2LH5dzmUelj27EiVSjc3yDROgauq3v2tteCu5NVVlFcJGRCoJ6uM+AuNfxJxiVdweMIYI8aYb40xaz2v4saY640xCz2prAuMMaS2ZroEAw4oK3zeuFAABwKm4VL0oR7H8edDWgdIPDSgj7w42q2QmZnHkrpj24H9Mm3TRvl0y2btzxDtPwAupeZPvKZ/QtwBBP6c2TO+42KXV9Q/q09lSLDwyko6U6RnAhlNgF6iLFzrzP7ztLkMLjVmuZX+10AtIwjwKMDyOe4MRWzZ2cef64U0TijJc8IyvNM4jaNAE+ItK1hqqcAmngVdOesK/60vJf5aWYpeWl7rG9j+5YyvE9ZCjVdwyFThB/NlMODAw9x12RfqPqk1bbL6zkNV6pH6HS4mYiE6Yx8zUoat/SYn/AdDGsN3X2xU9xBMnCWvqqrK/hyqZi8fsPcf2/s9iqxxgQ46C189f136daB84TaKd8CAKoIU11Xz1wnuCyfwjkXhPc5IvMcaSz/uRUnqWiFjiRlzosd0nAeBuo3Pxrm78kFZXurqqtpPG8bcBnnbyJSes4We3yPenKCypxCTvhfcl0RfLDhkuIMHT5yQFp/O1j4OBFYjpeSze1wsCgK5dFE7k8C+8wziD+rj8pmrFBzIr9cslBBnxfiI6z3QRj6o1kvBYMmk5dpfgRqJzi93kUQooqMOIrnpIAU5LCForAnOI5dINQuCUwnrgRexHYLRvEgIqHpbI/lpwy9B3c943/n7rzbLW2W7aRZcy6dfl1kD5sVd0V84ZWjBwYc0mS1+teMXyd+/t2bfZFeRR+r3uJkAsEqTx2vqqY+h5OhNzJgx7VFGxBu8s0XSZ7QBAgazYHoT4KoBFAhwMwvHRUMTHhRDvC9YOitmrVKQGNBuhJCdc2DPQfmgak8pfZ27EU2wcslsf3zrWGqAA/LDpUe8B+uh7n2thPqCnLagG4hLAMY5fbHg4OcOn3W55LFB/dLTMyOl4LNzXMAhd5+e8tzwwVJx0njxx2rKduIDWEXEVX4+eCAqtRN+RBvWzbiU8POqogoQCPwpvGJXVpAil7qVHNQH9fO2UU6jKre4ufk3fLkp7t1MvoQ7vPN4tSSY7QZsYQXgkkOOGne4KEmtEw1GX1peM3QgCkxkumpfcrzQtllw8HPHyfGHB4lsIVw42VHikfqtYzmQcltq7EhZ9su5hTbMciZvXK+1BaSSUsj2BHQY40Zp4L3nii8Tuh8z40OBl/tPXe1Q5k/ph7KdoGIhspsuLa/gU/KqKmpBDO80PuEA4rMx+Mzbacc5ZvUvXVf9j1iBD0BF4ZP1BGGcT9D1Ag72dVslFaTYZRWEugHcfFgwdklsCVhw8HP/eixfpkoUltV4jj0APDCmUnCG8ieg7jC/0saUwDVZTS+PH60FbFga0HWQkcV3/b7+yo8EEmPzh9WTtfL1xb9WzlThhQIQ6b+5mPaY5aXKbY2k+p1NZOMKd61GYkhIBNpy6iAaP9JeM5qoZPbVdpQML+jAyXpy6icIbHsHnvmd928BDzitiHFACljxfw008ysRZEO9A5XLkDYmYqe2SMvYgoMfCff5eoXOxnHX3BPDbmnBWh1YE48N7ic/pO7VwDoFaqTlso3+11Qks645fbKS7AEa1Hck4gKZXrvCb7ldGz5mwOnKPUzfoQgBiRZPvp5wgUgyauixTMolQWPGgTVEyituOSyKF6+uKpVvbagxFwccWNd7oJVP4AUkoIcgAM5+FBfCjBvrbnDEXkgimDdisRLekfLsLFibLMiDWhf4ttx9qF8RyBv5nv2d/ZzfXYhrCw5+7jqMrBR50c8YegiUbrCKOpb7P9A3OZ1Ir9rUiUqYB2keRHeMB/ZVQKPUuJExqVHwI/aANzPTa/1sJ6l5T3O/XDnhBgcNeHvI1FbNWxPwtYZrR+goCDR3Kv2hDOo4Wplmgz02Sm/frgOahon8qBp/pcR7alk0eri9vFOxu5ITeoMDgXkC/wABVgSuo3I31hEoKKiGJmhPTj+BfCiyo7UQGP5i6goNwHet1VtGvDVBlk79SjqV6aIusdLX19AAOcp/Rt9P03t8sC+TCrY742xf5G2pfldTfaaoloZihWNdyCBhwSGTJ3nKxg1aU3Cf8gnFb1qrLxCiaK7AoH7y0MA+2u4UGo7berob67ANYKgwcZzUmj456D8ALUfpJBfLPw7FRdVub6zFRhoUDZN1kBWgcC6U4zsVumfy5ITnK+TLLJxKborK4OhpUqCDtFFQbKaFb5M/nhmSS4QKZrKwAAYUZNuCbyookJX1eqkPNEZBDwltmpS/nXSpkSxb1m6XV198Txo/3EEpS5DB+G7T5Z3y3QWF+9Un30T8mWBWv/LTb7QCG2VOMx8Aiopk7g0JBWRQFb2sgm4ni41aFmov2kCvUuI9tZ743PrZN9LBodljr6gVVflmdyFhm+c6K9gBEBfqYsEhiztPK82io4ZJqTEjE856eHhAH7kruYfGGuiH7VBxEEchKM0rI+VFZuJIPXZMe2UT/Maqaj5nVsz6UMwZslBTWAmuZqxezUrBZ/d76gZaPPVaZqLK9nfUCLxZtpsqYVw1KEJm9sx4IXNzis1IHUWx/751V1DnxPLq22qYuoGYQbd65o30IDLpr0NfH6suF5QmDLaOTx7AIoUYrqBITw44/g+rtij994D2I2XRuKXSvvBbSpeCwtdJgSc4jsvPOxbi6x5X+G89Lc7DygEciB8BjNC642YDVIpdUUFBAWsJgIDDKtLjDOrGRXFnCw5ZCHvhti3pQd0CA/uqgvU1U4/HbQTSnx4yQJldYUclYP3k4P5KwUHgenNq4GRgkPA1/mSGxmHgnqKCHD4lYjKkyEZ7waeMmwOiN++AqS+lEIltgBKVsyisjxsOkF5NBmm3r3CQ+dFSkrRTfPkoKXz5xa+opHUEVOmiFIkVaE3BtdW0wpuAMxxBswfOD8rnv3/3QeUS8vbLO/cSpRhLxTh70AJV3MQFqLhmvC9eVVUTELAMgi3uK/TnJCl6aQU3k+2fy2lab7l/1zlncgHoUDdT/wF3GjPfU/U8pecs2bdzvyOaC2JtwSGL28yfY8KGbzUdlIY89FyAwiIewcD7mu5J7qFARrMiXEjOC8XOzD/Y5dvdu7S3hXMcZ40FMeuHTcEeLtv7U4RU8ab6OgMk5TQSABDoMcnuYYYNo2dKs8HZZiOFVA+Xj+MPx72jqbVUI/+5rLum4BKC4xUk6R+1pNyNdZW6gvXLN9TQoHLGzmPQOZDS+lGdPtKv9TAtkIul4s/qAQC0YNtl7MiBrCncR97WQqD3J5j9cE8BvLgOsUaYeGBhQJWBJQEZ34WyWHAI8E5TSEbx2Nwtm5W2AheNtzKOp/d39uquIJZvQG91hzmKnDWupM6LFwY46j92+2zbVrWgsBi8jwc4DFmz+o8do/huyeQVmnnDH1iVRpTiDr6UzUvXVlPlhbsClk4Cs6H2U5788axzgsK4k9SXnnF8FyVpi051iWT4DquKCmUAAPZRmiHRp6DiTQ20KxrAOqXX7CjereBOBc8V4OAAJODAmHzJPlLbeKawVAAlYhsN87dVDqXgRpK4e1twCOHeMfOmnebjg/vFFUCQUfXQgN5a6PbssEEy7fsNUmHSOI0P0CsBRc7nnw4cCHjUVIqP+26dWhtYTaTClh47SoPZtPR8ethAmbflx4CPF84dUXwTP5qhs+ZYgwMKSpsMXVNNZ5lk7sweMC+k4dIYBj84LiWUY9XbGvtViplRhuCCqpOnpTR/8jVlDNUCuGurKcsoCo8X9NTxuND21RsckAOWUqSAwNdxoePGfehQgjR6qL1ybsWjvCJxTRYcQpAqTWqoH6CQLH//lJgCBIBAZhKWDO4ugs2lx41WVxjKk54PI9etkU6LFug62J4JY75dpxYDzXxy9/7YTSfS6yO5O8XdjIg2n9RKrNkZGyWz66c9quQggfP1B4/mNmb3KGAKwggcE+QNxXVDnn6XmikaGOUYpGTqOLwqkwMdFwCBq8mdwVNeM3fwuwNkuE+Smw0O4R8Q+Z8QAyFTqvnj7hoKwCEWsSVNdkDuFyW5M56e76yxB9x2m1dvzdEcSxYcQnjOIeWjrWV5UkGnTZanhgxQio28/ZLlzii6m0hNpUczRXp5+vTUrnGVNEB8PIRRnf+TU2fPStmJY6XIyKHaP5o6CawHXGiAklZaT5ukQWksEnibnIXK036th8sbL30oQ14bo011nO/CuYZcjpm1Ko4QlGegSjbQ/V7+ew0NIDPrJ18eRR/KQoyAHhPvVuqhs36UU6DXkOV+nmNhbZHOGa8LjZhIqyV1lowqx61EXCDLMWZws4VjfyyXMjfUVLZb0oq5rk6luyRkl7dA7rkFh0Ck5GOf5Tt+FjqyQUFRe/pk9eXjbqowcWzEU17v6Olu/ONYDPkH9FF3DwBRaORQWRumWTy1DC+OHSEP9EuRvP17C+fJ1bun1ktgqQAOTvyBVp8ErVnIleeP07RAR02zhLah2WOvys/f/+pDktnbRAonf9hS11bVWXFYlWgICqbsv2qrK4gZLxTg4VhGvTNJSlxZMSLjA1hDsW7CMa5AjkH2F8V/1Fh8MmiBxpZi5ULUbKm/VtamUk4shLqTD6q6qd4DGU8i7WPBIZt3y/lj4b4hPRQ//N3JPSIGEA4gwKfEDB7rgYpnXsVGDVOQghcqHAt9IpImjFGrAWDgldsDDhTVUWTngAOBbtqJIo+3y3cXmqE4fyDWuFrI5InEUu32JgK3ktNfIByzxFCPgQVD4Ldhvraq0MIxXjJ3Kv2vvqayhlsxkrrZp8WQhHCPABQU3nHNod6f7P6Oc5f4S2V5pcS7+nxjIRIbgY4jpy0WHMJ4R7/+7VedTdNeFGWNCyYcjK64cKhZuCO5u655zzZm78zq6eFcecoEVdTEGz5cuiQso0LRD/lmtbqrqBLHeoC4D4C6t3dPIehdc+okKdizjzz8yvtS4ZYGSlsAsRuzLGoQaF8Jnw/gwGw6EsvU5NlS7j911I8ebuUZijJBgcBfRBpmuBreUNdBeisxhFCuyd9vkBeZS5+N/UJ2/PCbrF7wra6dSU8k7ld2jsl1rV6wLuZ9smmk5CQMNHmkY9wG9rMjawsO2ZGe128Pnzyps+znRwxOn2lTlayKtE9PZU7NldJD7ukVWI0EoAK4PDt0oAIM7wEDAOIOTz9pPpdQt5a7joEahhKjhsuAsZ8qB8+k7jODrpx1hrTzyGFpNmeWUnvDx8S5uH4KAXnd+2FXKfRBL3n07a7yYId3pWiuBhoY9lZepFiSK86LFM+y/6oT8vU41+VrffTgUXkzqasGcGvnbpE+s6RilnP7U4yR2k5g+oW/VVZ54Cs/cuCor8sOehtUGtRUhBsAuU+AOSBOwRlZOVh5cBfF2wI4rFn0nfRqPDDscgjmeeA5h1Oq9TNvaA1GTmz+k6jgUNQY84MxZosxpkNmPaWD7SEd6p8BemxiDrhhsBocgjtV8iluxU7vZ2bguIMcBe+rPgKrAAXMsQj0koXEjB2XDr8DcO5J6SE1p03S4jyC47xeGDVcSrXpJg0eaqdFWZi7BM7otRzMQjU08RTiCATcq0yZoBQcnPfu7t3k8SebSLHrq0mJa6pKoSsrSJkba0vJq6uoL5ZirYx/MpQZwbxa9zSXN0p3iYiPm8Yyn0/6UkFx2BvjlEenxl3NlII64/VE6zPjJntpwajwWHL7dx1QS4wso0iMgYBvtTubSNuCbl4h+iPH07J9wy9a8EcGkVOgFgk5BHpMCuWo3N60Mjap3JG+N4kIDhcbY7YaY241xlxqjFlnjMnlDyCiBQ6fbd+q4ACR3WOD+6v1AEig6AEIFDyAgd8eBU//heeGDRLYU9nHyQBCARcZMVRdRFBTlBxDQDjZnU46eoTGFZLGj5EXRo/Q9FH4jiZ9vUb6zlgofXtP1QwZb18/zJvtC78dVEEWjLTEEIgnVJ48Qc+PK+v27t3ksbz15blLysrzl5eT4n+t7OazUabSyhoY9kdpAGi0eb6TVLmlkTKKwqEfDqoJf38QZnJb1/2ktM3aQvTi2FRRAxAUsZ06+QdttL9rzmo7s+YWT70uRcPsWnKUoSrdi8uqxVP3vpZK4ZHVNUXre6wmEg/UGryknFqH4bagHDkEs363UnchJpQTl0QEh0eNMXO9wKCjMYaXzyVa4LD32DFVqDTWYUZffPRw5TByXEF5+6WkWxN5+6eodYHSJ0YAsR+vEWu/kf6rvpJio4fJ/X3daaNYDM8PH6QFbKW0g9tIBSFqF0iTHN9lmloHyj1zfQ0p889aWu6Pi6B9kbc0aIb18Pu284nZ/PmViZ1gNZQZP8ZtMZAd1aOr3PLB+/Ls5eXl+SvKyXN/qSAFaatJWqGnjzBUDpllC1GwVeSS8pp6SpFY7ygEQiGIq3F3M1V4WXVAC0YpBLNvzXuayco534RFf2xatSVi7hTuDwpXi/murqr86+ZFkgAAIABJREFUQmG56DAcZOyHU90uSg9tCJaoWqnhTPENITuNBklJ/6otS6euiIhFHAbRhXyIRASHJGPMIC8kqGqMSfH6zNt6noGtuummm0IWTrA/nLV5k/ZHIP0TNw8VyT2XL1O6jTx93BlFTw0dqG4ap2K5+/KlMvOH7+XIqVN6Olw6VadMlGeHDdRjADbM3jnW1HXfyuRlq2X7zj26LyRrgACBT3hfdEap/Xw99MWXlJPKNzdUOofPJy6XL6as0MAZQIFPmSrcVs92kpn952mDE2e8B04cVx6lB/slK0hpUL17V7mz3Zvy3GUAQ3l57q8V5PkrK2iA1KnSLXlV1YDcHeSp47PlDw7BXKSrdAGhSjc3iImLibHi3hv93mRHvNla79j8W8QrhXHZkPn1eskPsnWt4fzxW+W6nQ8Ol1VQrikmHFiHwQB2OPcFUAEqekLkJBdTTgWHdKyIluXg/BF+OXhQJmz4TsZ8u1a27HOTdLWZN0ctBLqv4arBj099BPtlXLxdOk6aKOun670phf5RTRUDrRx7Nh6oATH8w3D5FLu84jkzSse9g+JGEZPpwgtyOBq3EHgEVGDzhFSM3sgsPNzd6vSRkhU7yd2d35M8Pbq7M666d5E73npPnr2yvDx7hRscCl5eXmfkWA+Y+6ES4JX9dx2BJjpSC/EI4hBQSWRm2YRTYTjHYhaOK41sLeRKz4PsuNMWjF7iTtm9KHJuMpQdCnda7zmRuiVBH3dQx1GaQsozplYDlgPgcHFZqf9gaxn8ypiYgYNzr8mYIwEh0pOdoIUX4g8SERzi0q2Umfwh7COoy+zfsSjazZ8jkPlR3NOjQX9546UPpHfLIfJeywFSos7bUn0AxXXuLKTiFV5XP3/Bi8+tkgUAaOruzNydh9TXmmBj3ftbKTCgzNV1cFVVzVKhkXzNu5sJKaFJ/6yl7SNL31hHnnisseSv0kHuf7er3Nati9zRras88lADee7ScvL8ZeUUDEpcWUn/oChemu/4Oncg296r0jMzEYbluw3LN2mPYzKJIhXUzThWZuHIqOljr6R3SxvzfuhWBNYfmV/RyPUngYD+CfNHfR7zOghSgmvmaq7jLnyx2zLmuS9+ZSUZ33WaMMEALDLKP5qfidkw0Rr51oSwPK+xPkgigsOfjTHbjDG3eAWkc6ebChneRNty8HdDcRst2LpFxny3Tlb+tkMoMJs9aL7A5onyYKbmmKcFr6okha6vIi/kbyalCreX55iph9m3yh+L8/Fy3AgoHBQP9Qnw+Tx7Sy15/vY68uJTreTxdz6SXG++L3e//b4Uvru+FL4UauNK6m+tdEtDrYTmc0h/xouS9Jz+ZBeu7VgQjQt01GsmiwiADOl6g/RNQ3CHy4FEAXozkCoaatEUlBJUNVNLEulrRz64/eo/2FbiIXPpu6XfS5vnO8vLN9RStlT6XSQ3HSTV72yqPR74D0VaJlkdHzfuhzWSw/XIxvQ4iQgOqP/ixpjNnqylVzPgwTkf4wUcMt7lw/uPKOMjiuO8bJqLy8rzKCD6FPy7mvt9kAopq4fY+R5gwAJhzTYUAgVcvEr9s6Y8e1stKXxrbSk5eoQ8k9xbKjXoIp3KdJXpfT+Vnzb+IlNT5miGFIVUzjFDWRe/vIIWN638dE1EaiEc+S+ZtFzrIVAoXHM6YV+YwdeRASBM3KHufa3SK8ahFlk1b61zSUGvB786Rvl9ouEiq3ZHY3U/cs3wZR0/Eh7erqAH7fkBSRT8d8j+go4FoCUZA7CPFeeSc69Z81/qWPwdmdh9hsor1HHGw+8SFRzOAYDMPsQrOMwbvlhKKE9L7T9cHBFSUN4Pr6/3jvXAzIuCKAccWAMWTQu+IWQwEajOuNDGEUUbDjcNQb3y/1dPGuZrp20qQ+2HkPEaM37+8ZttgoLtUb+/fDJwgZvYLmLgC/CWlXL/qXsOOCC3UBfkMqPfp1GJn8DgStID9NVVb2sktXK1kLEfTA0qNTrUcWb1O4AempKOxd+V0tdXT8+c8/WMR3Mbz3Cjh9pJo/zthXa2ibpYcIjRnZs1YH56m0uCydF8eM8710VJasUwi0ZB41ICGEpfV13dTMtmrPQrJWZy9fO20faL5x03SIULSOEugZqgwYNttKjN74nD+AX0y6S5eld3Z3cs+nsvsKdqmnOU/09dbXKfnaD0Txt2qI89LNcYwD3iucCydHpAMKnp12Z4GO9AaIeC6gPLAXdds8df1clWNKypzOTORIB6DK4JynEy1ajRSMTFgkOM7hqBaGaT/OHCMevO7IEN5DsC0aTC0oS9zD/o1VtFSE1NaT44y/ztbrX7aOVqIOfJah8AgrgH/mRI1qKxMBOn/0LIMZMAFCzjZhIATQU02aFSagAq6sLzAp6sZBqO7yGbcyzKl66vrs/G/t2BN42KxH2E3qNdoTcVGOA5av7EK+pa4hkKx5hDOQYg6oADAIEFsWLWqkgMP+LHtOAQcRH7PgEz7r6thmlwNJYPs/cfgNnti1dVlhr3NNNGNfNHfp4lMDC6L6aukFq5W4T1D8ksm8BrtPLGD6YeUsqRUNNxveWY8b1jNTiBaRQGGUChLCtmr9YkAqf4MOO5IvW51LXV08GBhAWy3xZP+DKUIYT1N6SNvpnUTSniSdEm9kAQnZTSSMkiq+NWua2RxmkcxlYsnERcQgWHT4wxN2fm64+X7+I15sDDwox17ohF8vLfa0rSP2tGxYec1YNNvQKKmZ4MgS507erdfIjmoWd1/GC+ZxZGiuIH1XvJuA+mKluoc01HDx0LOzEcs3ksCOpIyCDDkgoHcLvvb21BwbZ48jUFoYEdRjlDCWqd0myQunjILFOACNBqCUbu/vYtc0MtBYiXrqshL11bXRaNDw81fFAC8LEzE62d23fLpB4zz6GPqX5nk7DcP3/y8LudTEDYAHDR/r2GrFuywcdVx/+mUMGhrCdbiEyhS+IFCHxdRzyDA4/HscPHlf6CFEcK05ysIb8PXhSUAX5TupgFs+DuoGF9hf+rF5EcfFxvEJ1hoVDMR10F/txBr4wO2UXja3z4h93ppu10NoqCIX9e6wpCdOXgZsBtx6yWVEwsBxrXhLIMfWOsXg/PiV5TFJ4H51kkG+hFD9ssPStQyPG0kB5MVhW1Gbh0mLnjuo1lHIJ7Tlxk+/pf4klUAV1LqOCAHv6rMeZDD/FdG2NMK6+XLz0dk23xDg7cpWGdxmnWBQ1EmFmGPTAaggJB+cCCidLf9u1PAlFeVmmMzOAWT1imOeiOQonUGrcGhHYARZcaKQG5vwL6R4gI9RBLp30lE7pNl2XTV8qMvp8qX5UzU0c2cOoENDZPPQmAW/LaqgoM9IUOlawNNxsxB56RmEwkqLi/oqIMeX1soOKM6n7Lpn2lLiUmDihlCjwr3dJAil8RYg1OCP8d57nARckzQ4IFLXMTbckOOMCI+oYxZpMx5k1jTCevV0yAwNdJEwEc6Bc8+JXROuvBV0rKoKOInAct6uuLkqTOfS012MdMl5afzR57RZVlZg85/lVI9SJ+vRcl6Qy6Q9G31YKI9MyMZjv0imDmz4yUXtHBjhGFThwlO9cKAI/9cIpAR042WTpIhWjVBDsG9seKI32Z5zYel0Oph5XokFqSpVO/UpBgEqFgGkU5YdlxTlJb6YWdaEuo4EA/hY3GmA+MMVf6Usrxsi0RwMF5aHioCbAtGP15XFgPjiLAJUJWCP54ZmS/bPLfCxruIGg6QlE6ofwG9xKss6SjRnL5fOKX0jB/2/RahYradMeP9YAC8ighYhZkKJGHT4oweflzBi9QSwyXYigLAEFf5U+HfaaWU3ohXzZmucHInjGh+MZ1mSqnTrgJI0MZRzR+w/WhmJngQBFDGi4gHWmXnMqIuqHLK2j1/6COo6Mx3LCeI1Rw+MIY45eyIl6AgetIJHBw7uy6z9dHPK0yUGXgVHBXvrmBKkb+ZFR/+ltwl9S+t6W7z0MUlFWRy8rrjJ42l1N6zpIlk5cLneHCvaxftkmBEV82LwDTrQDI8Kp6DphTSOiAA3Jm9khqMC+KyWidCqBR2UshV3YWGjmR+hvo/QznfpyX+oKVn4aHjjw7csjstzyTxKZ4duvc21Ktv/5th0vnpC6Rk5uyI5fV/3GNu5uek0yR2bXG03ehgkM86f9MryURwQH+nMq3NorcgxuE0sa9RZ8GAmu4cHAvwXCa2dK1ZooSAoZTEWV2LNwczMjxMaMAoC9HhuFcyCx7q9xHeg4qcgFNZwaNRUC6qnONbHfeO2sAgkwwZvm4DgEYAqfhCFaO6Dz+vPM5543kmjEBdCRSJAITKfEzrC7vherveg+00ey0EiQ9ZKOREnElnRQQl7msgh4TFuQf12zzPmXCvLfgEIe3ige4c5muETd9A1Ec+LRRfoADzYNQwt8szDxve9bA+TpDg6oapspAzpPdfWrlbp7u8mFG/mGNlLDfWdx+7thQe7UAyt9YV3gBoAoIDpkhSsIPAJMCSjaUY4EQVM8OSyuDpB5FG9/4Oae/a8nudsCO56Leg20ytSbDfiPCeMAB7UcqQBMnK3l1NXUBAnqhyAbLsPhfKkmvRgPls7FLtRNhRjAK46VH/FAWHCIu4tBO8NuWnVL9rqYhPaShPNi+fqM9Gjy0yLhRAAaaBDGLzmz5fesuncGj+GrfG97iOF/XyTaqm8n2QukSMKaRUahVyJmNje8YP5lMpPuSXYaCJJ/dkZe/a2RWyUzSAQbWAFl2/dHQeL90XbWY5PRT9Y3bBK6qRFz2/rZPC9YIWFe5taHSt5CNRUwimKSQwpeU1Y6DtfO0FOJTOWGx4BDHd/HIwaNS7Y4mSrvgV+FEcLbIbBjGWNpspjQfohZDIMDAvi9cVUULgVCY0bp2XDQ0L2pf9G0N1IYa8A3kkSDd9eOGA6TmPc3lhb8Q5PQolEvPp41mNlnir5U0uwoXjAMOgBiAmx2GVq714N5DUul/9WMCDtxbnpOutVLCXpQYyH0Ixz48J59P+lLGvDdZFo5dIt9/9aO0fq6TVPpfg3NiR/6eY+pgmCCQtMEzGOnkiHCMOZBjWHAIREox3IceyCiTaGek8Ecod2NdrYINNCOF4CgzdmoQUBi8dPYVaE1AGIEO10DjR9rL4olfnudnDtftxGVAJTlNcXApkJVEdXm6K81D1812AIKCOndcpL3Gbpit9mo8UHuBZ/eaJnw03X3eKKZqeitLZtvvVuoRt+mtwcqXgrr3q/TUZAKeY6y+jBMdtvOsE3+iDW2TAh3UeoVOPCcsFhwS4C6unr9OaaxbPvOGKiHvP2Uk31e+tUHAiguLgoY2pJYqi6enETyKMhJ8RYGMmxkdAVMC6Mz0I7VQeAU4QFSIpYVLghhAsSsoVHMTCVI5DpsqgdtJ3Wdq4SM1IWdOnwnLZUHkWOe+VlL2X7WVfC5Uv3kgcvXeBwXJuXjVvb911Jh0wyK0LA5y9uxZdVFCpUKgmueY8fIq++/aUu/+VupOROYEtrvV7h1yE6csLiUmX1twiInYgzspvnN805itHYq8rWmU3n/QSL7v2WhAQDPvXT/t0fRM3CS4WFAW/IkieW2BHptZO/L7as7q4AQfxN4EqgEAxzqA3ZZZZYUb62q/Aad/AzNSUoGR68x+c9UlFMRp/O4KOFOHAukcAW8yorBYkJGj1AKVVzD7KThc4gYHamDozJaTFiYV9K+u+L/66XUqX81epXEn6ENw6fEiWSGnLRYcEuSOkktObnyDfO10lqJpc2F0w/hTCLhJFoxakqWU+IOQ8YFSgt7Z3/FitZ2cfPiACPRHYkGJ9KjfT2shUJK83qnQQ7av/1kpSDgnndSgIifdlkA2Lqa2BTsLrsNwLFvX/SQtn35Dj4vLivtBoByXT7qrKwLPDADBPYfXaHjn8eEYij1GHEjAgkMc3IRAL2Hfzv1Kk7xw9BL9E2b0gUZC8TLrRKkey6Q9JK6RCZ4m71SgRrovQqjjpNPdgPYjAhV30PsRg4CHavnMVZrbnjGN8f2qvaT546+mB6SJJQEQQ8PIUwT/Fa1WyWAiawzQ/rjRgIhacQAPLhbGAkDZJWdIwIJDgt5HGogwW3PS7kJVmIH8DhfRm2U/8kuVMC3lE2mQt43Ogivd1CBmFbuBjIVK70AD7OF8NDgn7U/JUHKylVgTp2nzXKdwnuq8Y21evdXtMw+nm89DS43MqRBv8cRrymN03snthoSVgAWHBL11o96ZpIVmNF4hGBqIYgx5n4uSpMJN9WXZtPPbhWI1NH/iNY2FOEqv7n2tNEuJTCV9XVo+ojPXYMYF0LV86nVZPDG6vQiICUA1QczIkRPr1s920oLHSD6GH1ZP1tRi7kW44kAch45wWIkcP15J+CIp15x+7HgEh64eptdvjTFTjTHXePFjdDTGbDHG/GCMKeK13e/bRKTPCOSho3cCZvyrJd5TWmKCn8EoyWD3xUIh7TLjQtMdfOjeM2JiI/SCJluIzCVvheT9PthrCMf+XFPbgm9qHcSGLzdlHE5EPzvNaJxivY7F3lGLCxdQpBbcSjwnpPVyTzISzunEIpT014uStCkSDMJZVcxHamz2uJGVQDyCQ2FjzJ892p5+EbxYcnl6R1xmjLnFGLPVGHOx5zu/q5wKDqREEvSk6IuZeslrqml2TDgU6HnH0K5W5eS9yh+f9zTiV+9Uuou0evqN9BkxSg+COfoOQPMNjQaxC4LoFIOdd/wIBEn9nQPLgcpzriu5SXQza8h/J75A4Lbpox2lySMdZWqv2QFlg50n+AA3OOAAeBMEr3xzQ+0RDkss6ZjwRU3v86m8Vur9P+i/fdwPQB0OK+4jOf/k9td/oLV8UK2X0AmQhWA/44P6ZWDHUcocG+Bl2t3iUALxCA7eir60MWa0ZwNWAy9nmWuMedT54G+dU8GBZ2n5zK+l2WOvKrcNgWBSFynIQgH6U46hbieYC7Olr+W7pd8r+RpFQLhJAC386yhgrAheKKPKtzZUpRLqNYTjdyg4qlnJ5nmrbDdfw4n4NlhCyVyKFL1HxgF0rdVbC7QcdxZAQYxo0bil6btCVIjC5zni+aHrG/e8oKeAEeppd75/Ra3leP2lD2XusM/S60egEOdZ5N7T84JngZeTwpt+IvsmYSQQ7+Aw0xhTxaP4U7zes2mwMSbJDyjU8wxs1U033ZQwNyOUCyU7hS5tU3rO9sxGO2iqK1w7kLxRlBUOpYrbKjOaBxrYMFt8p0J3GfvBVNmzI1VnlJu+3iJ0L5s5YJ42yHFXEIcfvAIdI353lCB1CFB8XwjL7p/3KH9Q44faa3orbqY+LYakz/gdGWDNYPHRChRWUVxQcGrVu7+1zOg7V/P9P5+0XCgOy7j0bDRQa0kcAGJNkJoqY7skpgRiBQ4LjDHrfbxKeSl7+lMTc/hTCOCQfpicbDlkfOToY7B28XrBl44Lg1RG2lwyS1YqYR/ugkCVKrGDQ/tCL/TB9UBsgnqDSFg2gY5DG79fUk57QBzYczCjCHPsZ7KliA0sHr9MqKbOmGbLwPm+Vq4Wan0CCNRMUCsxOQAQxUrEnegNDm4Lpa1PMMmxgs5BA4sVOKQrbz9vahhjlmfoMmfdSiE+eBRZQSMRqAL1tR+zyOzm48O9RLOVcv+uo24LX+eJ1rbBr4xSKgtqAvwpyxDFnbA/AzAWjV+q2VwUM/Ia9+HU8ywMXwN846UP1aXoDQ4E/nn5AiJfx7Db4ksC8QgOTgvSGzIAB53n1hljnID0tgs5IB3sY7RyzjchB6zhlcHdAENsdhaUBMFPeGg4XrSAwNd58KkDUlgz+Mnfr9pTDu8/kp3h5ZjfYnVChxIMq+2yGSvVyqCBEQBByi5WB70m7JKYEohHcCBVdYcxZq3n1c8LJHA1kaVEKmsxr+1+315IbqXMHkEU84i3JmpDE1/KMrNtL11bTYO4+OnDsRCQXTF7lR4zs/NG9DtPty7cJ7g/AAl/AfdwjDmnH4Pna96IxelWBzQhM/vPS6cOyenjz4nji0dw8KvoQ/nCgsO5j+3A9iOlym2NNJ0TQrpA/P/KMHp5hbAHFyv+r4EUiUBmVaag4uT0axOjivLy9TUUHCCrw4KIRfX0uXcosT9hdeDGtHJM7PvI1VtwSPx7GNQIYAMl3530UlI66Q8dSK8I9tn6XXh5cwiUv/C3ylGLPxCMLnppBbc766IkHX/Ja6oqiynFhFxPJKm9g7pRdmcrgRhLwIJDjG9AtE8/Z8hCVYIQwJHmmvTP2lL6uhrpCpNZd8YqZoLRNXM1l+Smg8N6uXOHL0rPXiLFNBArJlOrIKtsLJrvwMmv63JS6trqUu4/ddVyICe/e/1+YR2fPZiVQCJLwIJDIt+9EK6ddFQ3bUNb5aeHNA0KhSKXlktPd1Vw8LhfYNx8+e81pWOxd5WGITvprBkvl3x5KDmgdeCcBIk5XyCWTDAgwbHL31hHyecAOmotAEbae8I4S94/WTXw89vFSsBKwC0BCw4X4JNAQBiKbSpZobiocVcz5WdSBQ09gtcMnOI3ipkI2uKTD1fvAUfsBDK/W7pRFXT5G+spkRvurtLX19BqXTKluB6UOspcacqDaDsK0Hw6ZKGmZNJvAQqQTi99KP1aD5fZA+fL5I9nKb01HFF2sRKwEvhDAhYc/pDFBfkO5fzLpl+VzoEMIoqZHIK2yrc00Bk1qYkwmb5e6oOI5awTwCQdsurtjbVADeuGlFfl87m4rHJHUdmMlcOr6GWZML166KQBu1eKv3NB3lc7aCuB7ErAgkN2JZgDf88s+t2KPZQfqWmBjjqrh276x2+2RXy0P67ZpsVUDidTrdwt5OUbamjgHLBo9VwndQvhGqp+VxNJ+ldtdReV+UdNXRNTgBOo8MXlPG0d28ne3/ZF/LrtCawEcpoELDjktDsapvEwk6eh0IjO49X9kvr7/jAdOevDcO71yzYpFQhABdtnl5opWougvEAthyotCO1Lv12yUSjwo1cz1Bylr6uulg9EfzDWAjJrPvsu65PaPawErATOkYAFh3PEYT/EswTgjoJo0Ncy4q0JUvZftTX7CH4ggMGJk9jWlb4kFt1taWd2iOtIf3EdfFVcR4dL2tk90b0Ae7agJWDBIWiR2R/EowQIslO/wQtQoG6BADosscRV7BI7CaSd/l5cqeXFtfdlcaVWcq/3VZG0s7/F7qLsmbOUgAWHLEVkd0gUCWAhdHq5i4IC7icK/i4k5tV4vU+uA63d4LC/nrh47asrrj1FxbW/iaSd3mjBO05vnAWHOL0x9rJCkwBWAgHoQ6mh04uHdmb7K18SSEs7Ka69L7kBQYGhprh2Py6unQ+Ka+f94tpTQlz7Gorr7O++fm63xVACFhxiKHx7aiuBnCSBtLQTknZ2t6SlnUkfVlraWXGlVhTXvhpuq2FPQXHtyiuuXfnEtTOXuHbeLa6dd4lrZ15x7cfCqOfe/+AHknZma/px7JvoS8CCQ/Rlbs9oJZCjJAAYuI4OFVdqOXGllhHXvmriOrEwfYyuoyPEtbeUuFJruUFgZ34PINzhWd8prp2855VbXDsfENeuh8S1t7Sknd6cfhz7JroSsOAQXXnbs1kJ5DgJkH2kyn9fLU9MoZrblXRyhaSd/k5cp1aJ63BPce1+3gcYOKDgrO8Rl4IHayyKB8W1v6m4ToeX9DHaNyHt7F7N0nId6CiuI30k7czP0b6EoM9nwSFokdkfWAlYCTgSSEs75Q4276vpBgYn6LznRXdsITVJXHvLiGtPSTc47H7MYx04YBDo+h5xHR3vnDah1q4zv6kVpOBI/GVPaXGllpW00xviehwWHOL69tiLsxKIbwmkufa5U1M12FxLXAoGL3sCznndn1MriGvXo54AdJKXCylQYHD2u09cp9YnVHZTmuuIuPa8IK6d93liLXnFtftJce0tK64Dzc8bS5rrmPCKh8WCQzzcBXsNVgIJKoG0NJe4cCdhKRBkJti8M48HAO7xfCYzCReRo+SzswZwyojr2PTzFGs8iTDt1EpxHWgnrt3PiWsnLjLA4QF3zGXXg+LaXcT9HbIDUA+0FdeBlm4Lg3qQQ+8IrqhYLhYcYil9e24rgRwgAdexOW7lR3yAQLIGlQEAAOF+ce30DjhnBxic394rrp35xHV0WFxKz3XiM3fMRS0mgNG5buRBdhZgQeA9t7h2PSOu3YU9wHGfuPa8LK49xcS162lxpVaTtLTTMRujBYeYid6e2EogZ0gg7cSn4trDTBhFh/sIhRhuQHAUrPf6XnGdXB5XFoSm7pK2u6+qOwaj6bre15zxPem8gB3A4QENLAvHAjvQUagw57jRXiw4RFvi9nxWAjlMAmnHZ7uzlZxg9K6nvGbLGZVhuD8/KK7DveMGINJcB8WV+rIbGPZWDkEOucS1u4CnDgSAze0O5u+rI65TG5STyruOJJKPUjyDQ2tjDE2u/27cy5+MMb2MMVuMMd8aY/J6tme6ypcvXyTlZ49tJXDBSyDt7K8evqRa7mK39JhDuIHA3/EeFte+Bm4//alVMQUK3EDKH4X1oCm5/q45s+24npzv73YHtHc/LS4sij3Ui5QT1/E5EX/u4hUc/muMmWuM+dkLHIobY+YYYwCJAsaYrzJFBc+XFhwi/gzZE1gJiOvYJDdAaFZSuILPjoIMYL3rMbfSJFX02KSY3hGVxZ7iHldRuNxrBPl5EcPBbXefuPa3EdfprUJGVCSWeAWHScaY+40xP3mBQ39jTEUvQPjBGPNvr88+31pwiMRjY49pJXC+BFynt7njDupDD0Chp8+Ow7Hvve6sKc3+KSO4d2K1aAbXoQ884BBuoHRiE54iQcCY7K0jyQKPVTiXeASHUsaYnh5N7w0Os4wxT3ghwEJjTH6vz95v63kGtuqmm24Kp7zssawErAT8SECVImyrOrsNh8IP5hh3i2tvksfXnyRpp9b6ucrobOb8LlxBKgtvN1EwYwpk37te0yBjAAAYNUlEQVTEtftFd8znSO+wDi5W4LDAGLPexwtgwF10dTbBIR0orOUQ1ufFHsxKIFMJuAicRj3m4CHvo9YCOvC9L8ectE/5prBi1M0WLteSL7C4yx2LSK2s9RLhdDHFChzSlXeGN3mMMXs87iSshrPGmF+MMf8yxli3UqZ/S/ullUDsJeA6NsNDrudLkUVqG64WAreehkIH2sQ0KO3cBe1+By+UpvdGCiAYO4HqF9W9lHZ2p3P6bK/jDRwyYMU5MYcSGQLSKzPu7OuztRyy/YzYA1gJBCwBqB9cqWTqhNvXnhWw5Ha7Vg6+LlB6xMtCfxHXqR/FtfNZrwykrMYS7Pd53IV0+6qfQ5eeXRkkEjiQpdTbGLPVGPNdJvGGczDCgkN2HxH7eyuB4CRA+0/XTiqlg1Vy2dm/gLj2NYobXiJvibmOfyqunQ9HWB7Ue/QU0orDtcQ7OJyj6EP5YMEhXI+KPY6VQOAScB3oHGFl6AtI7nF3ljvQSlzH54V1Fh34yM/d0+VyufmSsqyU9jWeILftKiCu3SXFdThZXGdoupS93ukWHM69l/aTlYCVQBgkADFe9F1LKNM7xbWX2EMpnUmHYSghH0LpzA++6aHFCFLRh2x1eVJdyRoj9nJmR8jXb8EhZNHZH1oJWAn4koDr5Ffi2tc0SvxKPpTu7oKiWVOatRS6cvQ1tmC2uY7PdaeZRoVnylsOBL8LaM8IGHNDrX+w4BDM3bb75lgJ8AdKO5saE4KznCRU14mlbkbSvRU8TK3eSita7+8UV2odd/bOyS9iJl7XgfZuN1fIVkCo8sJ6oIK6njut9+SXIcnAgkNIYrM/yikSUC4cp/8xHcvoaHZiiQ4vLe2EuI6NEde+2u7tR4dHjKogJ8hTM3P21xcXOfea409vB6ipQ1Vy2fgdnef2lpG00+tjJlptCaqB+UilsWYmn1zuXt57X5K0E6HxMFlwiNmjY08cbgkoARzK/HAPcR16y+1a2N9YXMdn+A1Ouo4OcfunUWbazayqe+ZLhevB1z3fVRPXvuru95pDfybcl54jjqc+dnz9FKLx2kWGTr7YuJd2PS6u/c2Equ1YLa5jn3jouGMBDp76h70lJe30DyGJwIJDSGKzP4o3CbhOrnBzzMBauSu/u0p31xNuhkx6DdBda38DcR3+WJu7awWrtrgsK65UunGVE9eegp5XCVUs+htVdLCN1vFU35aWtFNfx9vw4+J61HIAZJ1eBntLu6t3lWspmgryTmVpjXW9g4uaDwgBY2E5pZ8zr7iOzQ0pc8mCQ1z8rexFZEcC7ib3ldxKiZaLNEohrU8pjuH68bBYEqjc/ZSnh29pT29fvqN9I0RmsF7iCrnfvR/Mmkp/QEMWvmffxzVVMLtpgtkZbzz/1nVinsfaqiqu1LriUnZS5AabKE1tMnOFhOm73c+HHIQNt2xd+1rFxnJKlzOcUyVD6ppnwSHcT4M9XtQlQKcs7cOLW0iJ3wCHRzwujTye2SuKx3v2yvbCPpQV+6DEeHnv76248otrf3NJcx2I+ljj/YRqPZyY747TQJ+9v5G7W5vrgLhSq2ciU2/5ZvP9qQ1xISb3pKViDLimvOXnpPbCVBvc82rBIS4eI3sR2ZFA2pmtGnxUPzfWgfbphYyNFzN+7z9LON5z3IfEdfCd7Fx2jv4tIEGw39vCctExjiwatc7CcR98HSO3pLkOxYVstVJ89xMReP58jdvfNsCBBkFlJe10cKBpwSEuHiN7EdmRgM5WITijMbu6LwjGMev3N/P390cKZvsD4tpdUNLSjmfn0i+o35Iu7Nr9vAcgIuRi2vWUhJN8Ljs3yHVqfYwKATM8x7uLuVNaz+4OajgWHIISl905XiWgszTNjnGAIcMfJOzWA+fJJa6jowSKBLsEJgE6l+lMVq26SNyj3OI6Ez5+ocBG5XsveltHxnINUm67HhLXoS6+LzKTrRYcMhGO/SpxJKD+XQ0sE/zkRRA5yD9R0PtjmeQRV2o1daEkjrRie6WuQz3cyQCpZSNg3d3lJqDLJq9QOCTkOtzHE2+IhGsz0Gf7bnHtLhRSgN6CQzieAnuMmEsg7fRGT1492UbR+jOS5UQufx5xHR0bcxkkygVQf5Ce7roLN1Ogii7Q/R4V15F+58Q7YiEb14nFnkkKMapArz3c+92jHfK8Yz+BysKCQ6CSsvvFtQQo9Pkj5hDuP5i/4+Faosgrj7pK6GXAosHYMz976imyx4wZ10IP8eKglnbXnUDvkBR+xUmdy56XJO30tyFeYfZ/RvBXeztTaxP13hYZnldSuk8FLwsLDtl/DuwR4kACaWln3YVqu54Mv7IJaNaHe6miaCc0iu0outPCu0aSdmZbHEgofi4h7czP7qJD3EoUIIY1/oA7Ma97onBkYMwG7TrQTlyp5d1V9zwXUbNmMwCDPru5xXWwU9CysOAQtMjsD+JVAmlnfvQUXcXIjN/9grumYncJccHts6e0e2a8j5iEzWryfm7STm8W18HX3LNr5BYQAPtSfBm2kZRAESQpzUeHep8yqu9d1HhQVa+1N6RXR8vVmUEejlz3NQp6/BYcghaZ/UE8S8B1Zkf0KnGdP176mgA1rqb73CChldq4OIpL2sml8Sy2mF6bUpnsrRQmgLjXUxlfQpgsxGpx061UdRM28hxoggTPhh/lHentB94IWhQWHIIWmf1BPEpAexcfnyOu1Pqx9/GSLbWbrlwF/sicwsV06ANhxmyX8yUAXbprd/Ew3Ls73dXxx6eef5IobtHWoBSfQV2+i7gU7i7AIUYstQffDXr0FhyCFpn9QbxJIM11VFz7W7jZVOFUivQsLMvjowCYLaIUcHHdKa49L7opPlKhkQ4+OBhvMo/E9UCURx9ot9xCnWHnj4vMMS3MPD5VXKn0tYBXCt4uCv8ghYy2BfGIZm8Fe88sOAQrMbt/3EkASm718eLfVaK8UBVLpH6X293jgOtDWRxoGXcyjJcLgmLbdWq1uPaU8VhdwdwTSOZKS9qJz+JlOKL1N0cnuns7Q6WxyyF5jGT1vrfMHvRkbgVvscYrODQ1xmwyxmwwxnQxfywdjTFbjDE/GGOK/LHZ/7t8+fLFzYNiLyQyEnAdfNWdKYTy3e2LTM/7zxKL9w+46b65PijA95by218iMhJKvKMq1cahrm52XZhws7TWuK93uRMSstE3OVKSSju1Rlz0k6Zx1IHXxbWvRZiztHw914+4EyKOfxrSsOIRHJ41xiwwxlzmUfn/8KxzGWPWebbfYozZaoy52D8suL+x4BDSc5FQP4IaIJ2VNbVKlKqjff0Z/W27R1ypVT3NhGgcRPaSrX/I6iFzHR2uloA2WgqU7htWXmjbj8/+//bOPcaOqo7jX6JiYnwriSa6Pv6oIhQoLdgaa2sr0EJLC61VoYWioVi0ohBF7R9GDTFoMAhYFCUhjaAUgjEQlIcPEg1trdjyEuRRBK377Ha3u9vttmeO+Z5zZju93ruPuffuzNz5nuRm5s69d+b8Pmfm/O455/cY7/SZfm6G7gtTTbXumTqPdyywZvCuujIX5lE5bAHwiSqdPkcNfMXlAQBz4je1tlIOmT4DU3JxzuFzOsH0rPUd8H/nTfCfZp0P4IT+zYZrMOkLcxswn8T+W6QcJnBn0MLL+Yp005KJ8/VjzdVzIXpu8Cu4yPs5pMydPIGq1f0VBgf0MjXjHpxmDZVDz5q6wrrkUTnsBPBtANsAPALgtNDx3wRgdUIJ3ApgZeJ9cnddEGxHW1tb3Q2pE+SfgAsHzWxu/NfIzG9u4a8ZD14952TnxmiuZzsbfI0exr6v3Hz93i8mrJi4uM8XLX/iOXtu6UMw04/OaCHkrINO8kmd9n3LRqZ/7Atl9ClzXB+Ro577qtpvj7emY5FlrpO0JSvlwGmjJ6u8loVjNwI4BsDpAHaH/ckoh1FFoZFD2lujeL+j1ZILWzDyUnPCMkxmpDDed9vnps7tW7yWSV/jyOyzpu+6YAJKxcARRLAAcwqCCvdEv+BPj2SGinCOcDO9IxxHlH35zLthRp6pCDFPWcYaHVVTAmMd+4A1dSQ+yko5jHbeVXZ+B4DrDnHh2sJxYUpJ00rpn7PS/NJZvNA7ebwOOuvP+28oTZvUI2gUHbCma5W3+BlVDkwaxFHYGd7psOMsazo/7kcNcYpYjiTppdx1vs06n3Qt+c2BP/jpMDcaikdFY3X4k/ys/+Zalx73eB6Vw+cBfCdohmkAXgkjhxMqFqRf1IL0uO1byi9EB3da076gwf/CJvlQTkTxdF9ayvZJI7QZvDvk/KbPQAiRwQB7PVxfWBqUAn0ITg4hTDjnfqlfg+haYaNDL6e57JT8htNeTkkM3GadWbaLD9YgZ7nOJallyKNyOBbAL8L00mMAFsRDCAAbg5USTVkXJ47X3NW0Uup7o7A/NAO3hw6DjmhN6NTrPmeYL+/9ZmEZT3XFnVPZ4P1BCcz0o4Se1WEB+gJrei6zpvcqa+hLwOmlWDH0MITFxYUyHTZD94Q/NrxP4rWV+D6mcqSjJ0cZ8bFaW6YIXZG6qfKoHGp29Gk+kHJIfW8U9oducdpZL62xpoM28uNZutR6uJp5fJo1w7sKyziripu+a4NlWhgVuGmjZdYMPeQWns3eL3iHSDobcsGXr+FHs6puquv6UdI51nTM9+sntDyixVbnQmucqS7l+qQ17R/zL+Yzr6ooprkowakqYa2VckhLTr/LLQEXhoGdAx8o55V8iTUdy7OLa1Ptwe1eJ3PWFHeQW6DuvTqERF/pt/s3WYZsZ4nMfj81Q4ez/Tfb6NALKa6S7U/M/p95uXjvJl9UdIN3WNN/nQvBbRhLbHibNQx97tZeKv7MuAxw6f1ppByyvQ909SYRcFZL9EbtDv8e3YIm/R8qh+kVD1S1jrzhx6ZbM/zXJkne+qflFBMjrkYHt1n6C7RaoVzebyeMjpxn/ef8wvrhzqPEjRiF2I2S6Xm/1vs3uBHHImsG7zzqu5N9I+UwWWL6fmEI8N9kdGi3dQ9Qz3pv7sg56YZ39ikUTN+NheGoik4tARfCnLku6LPhRsCr/FTZwOaqFTF93/Wf93zWr7U4f58LbHS4q+r3J3pQymGipPS9QhNwU0w9l1jTyaT2M7JXEN0XKY1ooe+o5lbeOQAOPegTIvVdY6OD22tOQ7pw9fs3ed8ejiL2Xd2QXBZSDs1tY509JwRc/CXawjsnKZo80pIpyymmWWFeeb2NDj2fE0qqRpEJUKHEecwbIYeUQyMo6hy5J+Cmlug56+zgZ/lUkgyz0MlwC5xqYrx9hmVIMUWU5je8Ls0tndnlmoY+1LlvDFWwEASkHArRTKpkIwiYriXWdCz2we8Yf4mRUp0p5HJrRp61Lgook8F3LA1hDZqlKGb49JGxJQpzEAw/0ggRdQ4RaBgBKYeGodSJ8k7A7N1wxLw17pidueuG0aobKgcu7HUyLEOTlIOb2prtnLOcqSLzOwzdO1oH7YhAHghIOeShFVSHKSHgbMK7lnsFwREDFQPfD28dvb6hlQitPWgO2BTlwHWO07ynb8e8MHI5T0H4RltAO3khIOWQl5ZQPaaEgFMQe7/klQJHEgnFwApEI0973wi3PtGg+Db/p2SoILi+cZI1XUut6f9hTUuUKYGii4hAFQJSDlWg6FC5CXgFcaHvvF3oDeYLqLRsShtamefh+fg60Zqh+0e9e8tNXdLnjYCUQ95aRPXJBYHI9Fmz9zLviNTFODdz/avnCh/Uj+lI2z9cRWmMt05BpcIRyakubk50eE8u5FUlRKCSgJRDJRG9F4FAwIVSZqjofRut6b/erQu46KADv/ImqMw617EwRMkcTynEn3PkMN0rFi5Ejzwl3iKQSwJSDrlsFlUq7wSiaNiaQ3t8SI7OcyeYLP6DfiGaXqzda63pOteagc3WDP5yVPHkXW7VrzwEpBzK09aStMEEnIKgtRM9r11IjmqhwTlS4DQStzO8hRQd3xiGuX2+XxjnOagwBm7TwnSD20inS09AyiE9O/2y5ATcFNPey32M/XauIXANgp7W8RQSt8xMRo/sM30MflpI9X7VK5Tui4+EZGYEWTrDHXqu5FQlfl4ISDnkpSVUj0ISMMPb/aK1GzkwoB9fXHTmusIca7roVMeOf7k1g1ucjPSGZl7jo2L10ynPfae+MMuFhKhK55KAlEMum0WVKhKBaOSJkKKSmblmW9M+z5r2j3gF0H2h7/R71llaQLFEw38ZQzncUyTRVdcWJiDl0MKNK9GmnkAUHbAuOubILmv6rrGm90q/4Gx6RysTmQHrwnTQHDYO49Gz1jnfybR1FJN2MiaQR+VwCoCtAHaGyp0eckcfA+AGAM8DeBzAqRPJKa0c0hnfYbp8VQLm4E6vIOI8xzSLPfBw1e/qoAhkQSCPyuFBAItDx382gD8l9n8LgEpiNoBtUg5Z3DK6ZqMIMPZ+NLzVRsN/tsyNrCICeSKQR+XwAIBPhY7/MwDuCPs/BcD3cXkWwDvjN7W2Gjnk6XZTXURABIpCII/K4XgALwN4BcB/ALwndPz3AfhoQgn8HsCsxPvk7rog2I62traitIXqKQIiIAK5IZCVcngYwJNVXsvCusKK0NOvAsDvskxGOYSfABo55OZeU0VEQAQKRCAr5TDaeVfZ6QvrCvyI6wv94TuaVirQjaWqioAIFJtAHpXDPwDMDwphIYC/hf1zACQXpLeH42NuNHIo9g2q2ouACGRDII/KgesKVAi7gkXSzND7cxTxYwAvAHhijPWGo5SFlEM2N5auKgIiUGwCeVQOR3XuDXjTFYTcUcDtSwWscz2cJS9QD788/1ZtW7y2Zd+pklMCfNjLVCRv67a22rZ121aSZUBAD1QG0KfwkmVq3zLJyluobPJO4WOjS5XxBivbA1UmecskaxmfXfXYU0yAznxlKpK3dVtbbdu6bSvJREAEREAEREAEREAEREAEREAEREAEREAEREAEikHgKgAWwNtDdVPltCiAqD8A8EzI0/FrAG9O1PkbIYcHo/CelThe5N1FACgPc5N8vciC1Kj7uwH8EcDTAJ4CcEX43lsBPATgubB9S43fF/HwqwD8PcSAY/3fF5x42cZ3Aji2iEKpzvkkwAeM4cv/lVAOzG+RDCEyoZwW+RTvqFqdCeDV4ci1APhi+VDwlH9teNjoHc+HsMiF9acc7w8dBiMBUM5WKgylHyfjegOAfwYZv59QhlSKcTu3guxXhvQCDBDKsgXAp8P+TwCsD/vaiEDdBO4GcDIAepbGI4dUwQfrrsnUnuA8ALeHS3LUwFdcqCznxG8KumX9KUdcKmWMj7fS9jcAzgijpTgHC7ccPbVCeRcAphBYEEYOHOF3J/7wVLZ5K8gsGTIiwNDlPwrXTiqHVGHLM5Ih7WXvBbA6/PimxD4P3QpgZdoT5+R3rP/PE3VZA4Bytmp5b8jP8kYA+xJCsgNNvk98VLhd/pFjDDgGDOUzyj9znE6KC2cBmKJARQQmRGCsnBacLnpTOEurKIex5I2BbQTANQd2HCxSDgFEQTevD0E0zw/1r1QGvQWVK1ntJQA2hQNSDkky2m84gekAOsN0EhXD4fDP6x0AWnlaaS2ARwG8LkG0cspF00oJODnffU2YPuNcfFySqX1bZVrpewD+HZ7XdgBDYVpU00pxq2vbNALJkUOqnBZNq1njTkzrHVq2HFdxyhMqFqRfbIEFaS68Uw5as9CChQvSlLOVCkd+mwFcXyEUrdJi6yxuuUDdSiUeOVCmuyoWpC9vJUElSz4IJJUDH7pJ57TIhxhj1oLzs8wZvjO8aN0RF0410bqH/zoXxwcLvqXVGS14KBfla7XCnCw0wX480aaU+W1h4ZamrJxmpGlrK5WkcqA1GhOS8d6moqDFnYoIiIAIiIAIiIAIiIAIiIAIiIAIiIAIiIAIiIAIiIAIiIAIiIAIiIAIiIAIiIAIiIAIiIAIiIAIiIAIZEyAoRR2J8w4GZmU7xlmQkUEREAERKDEBL4G4JYgP73ek8EFS4xFoouACIhAuQkwtAQdxL4c8h3wvYoIiIAIiIAIuMRF9CJmKGsVERABERABEXAEGHdoD4CviIcIiIAIiIAIkMApYTqpLUTcjRPgiI4IiIAIiEBJCTB4IkOTx9NJGxKZ70qKRGKLgAiIgAisCwnnYxLMKf0YgHnxAW1FQAREQAREQAREQAREQAREQAREQAREQAREQAREQAREQAREQAREQAREQAREQAREQAREQAREQAREQAREQAREQAREQAREQAREQAREQAQmRuB/OUyja7QTRTAAAAAASUVORK5CYII=)"
      ]
    },
    {
      "cell_type": "markdown",
      "metadata": {
        "id": "cNpAB1QcEV4R"
      },
      "source": [
        "จะเห็นว่ามีการแตกต่างกัน คือในกราฟของข้อที่ 3 จะมีระยะห่างเพิ่มมากขึ้น นั่นคือ มีการกระจายเพิ่มมากขึ้น และมีทิสทางที่เปลี่ยนไป"
      ]
    }
  ]
}