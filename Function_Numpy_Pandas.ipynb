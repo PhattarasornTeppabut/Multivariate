{
  "nbformat": 4,
  "nbformat_minor": 0,
  "metadata": {
    "colab": {
      "name": "Function_Numpy_Pandas.ipynb",
      "provenance": [],
      "authorship_tag": "ABX9TyOnpYhyJU0P6soqRFI9B1vC",
      "include_colab_link": true
    },
    "kernelspec": {
      "name": "python3",
      "display_name": "Python 3"
    }
  },
  "cells": [
    {
      "cell_type": "markdown",
      "metadata": {
        "id": "view-in-github",
        "colab_type": "text"
      },
      "source": [
        "<a href=\"https://colab.research.google.com/github/PhattarasornTeppabut/Multivariate/blob/main/Function_Numpy_Pandas.ipynb\" target=\"_parent\"><img src=\"https://colab.research.google.com/assets/colab-badge.svg\" alt=\"Open In Colab\"/></a>"
      ]
    },
    {
      "cell_type": "markdown",
      "metadata": {
        "id": "93kQwKzaSmQL"
      },
      "source": [
        "#Function  \r\n",
        "\r\n",
        "![image.png](data:image/png;base64,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)"
      ]
    },
    {
      "cell_type": "markdown",
      "metadata": {
        "id": "ON4Ym-q4Sq1M"
      },
      "source": [
        "ทำหน้าที่ รับ output ออกมาเปลี่ยนแปลงเป็น input"
      ]
    },
    {
      "cell_type": "markdown",
      "metadata": {
        "id": "LBUtkMO7S9pY"
      },
      "source": [
        "function มีส่วนสำคัญทั้งหมด 4ส่วน \r\n",
        "\r\n",
        "    1. บอก python ว่าเราจะเขียนฟังก์ชัน ชื่ออะไร def functio_name() : (ขาดไม่ได้)\r\n",
        "    2. กำหนดตัวแปรที่จะเป็น input input (ขาดได้)\r\n",
        "    3. ส่วนประมวลผล do_something with Input to get Output (ขาดไม่ได้)\r\n",
        "    4. ส่วน output return Output (ขาดได้)\r\n",
        "    \r\n"
      ]
    },
    {
      "cell_type": "code",
      "metadata": {
        "colab": {
          "base_uri": "https://localhost:8080/"
        },
        "id": "OBs0Y_WPUn8A",
        "outputId": "158375f5-102c-4f10-c640-6e650dc6b355"
      },
      "source": [
        "def print_name(name, surname, ID) :      # input สามารถมีกีตัวก็ได้หรือไม่มีก็ได้ \r\n",
        "      st = f' ชื่อ {name} นามสกุล {surname} ID{ID}'      # อะไรที่อยู๋ใน function เราต้องวรรคมันเข้าไป\r\n",
        "      return st\r\n",
        "print('outside function')"
      ],
      "execution_count": null,
      "outputs": [
        {
          "output_type": "stream",
          "text": [
            "outside function\n"
          ],
          "name": "stdout"
        }
      ]
    },
    {
      "cell_type": "markdown",
      "metadata": {
        "id": "o88ZfP9SWRET"
      },
      "source": [
        "การเรียกใช้ฟังก์ชัน"
      ]
    },
    {
      "cell_type": "code",
      "metadata": {
        "colab": {
          "base_uri": "https://localhost:8080/",
          "height": 34
        },
        "id": "pk2qz0EqVIFU",
        "outputId": "d3b92685-b660-47c0-97fa-e324e07f64e5"
      },
      "source": [
        "print_name ( ' ภัทรสร ', ' เทพบุตร', ' 623020531-5' )"
      ],
      "execution_count": null,
      "outputs": [
        {
          "output_type": "execute_result",
          "data": {
            "application/vnd.google.colaboratory.intrinsic+json": {
              "type": "string"
            },
            "text/plain": [
              "' ชื่อ  ภัทรสร  นามสกุล  เทพบุตร ID 623020531-5'"
            ]
          },
          "metadata": {
            "tags": []
          },
          "execution_count": 5
        }
      ]
    },
    {
      "cell_type": "code",
      "metadata": {
        "colab": {
          "base_uri": "https://localhost:8080/"
        },
        "id": "3MJBpgAlWx9f",
        "outputId": "616d3939-d8b2-44f1-c6be-24f076c6770f"
      },
      "source": [
        "output_string = print_name( ' ภัทรสร ', ' เทพบุตร', ' 623020531-5' )\r\n",
        "print(output_string)"
      ],
      "execution_count": null,
      "outputs": [
        {
          "output_type": "stream",
          "text": [
            " ชื่อ  ภัทรสร  นามสกุล  เทพบุตร ID 623020531-5\n"
          ],
          "name": "stdout"
        }
      ]
    },
    {
      "cell_type": "code",
      "metadata": {
        "id": "VZ6Ri0N3Xiqj"
      },
      "source": [
        "def print_name2(surname , ID, name) :\r\n",
        "      st = f' ชื่อ {name} นามสกุล {surname} รหัส {ID}'\r\n",
        "      print(st)"
      ],
      "execution_count": null,
      "outputs": []
    },
    {
      "cell_type": "code",
      "metadata": {
        "colab": {
          "base_uri": "https://localhost:8080/"
        },
        "id": "5Zb11Dd9YDoW",
        "outputId": "b071e52c-53f8-46f7-8b13-d3e516783e4a"
      },
      "source": [
        "print_name2(' ภัทรสร ', ' เทพบุตร ', ' 623020531-5' )"
      ],
      "execution_count": null,
      "outputs": [
        {
          "output_type": "stream",
          "text": [
            " ชื่อ  623020531-5 นามสกุล  ภัทรสร  รหัส  เทพบุตร \n"
          ],
          "name": "stdout"
        }
      ]
    },
    {
      "cell_type": "code",
      "metadata": {
        "colab": {
          "base_uri": "https://localhost:8080/"
        },
        "id": "udfuwncgYdBd",
        "outputId": "47f9b2d2-b667-4147-d14d-933bbf3513ff"
      },
      "source": [
        "op2 = print_name2(' ภัทรสร ', ' เทพบุตร ', ' 623020531-5' )\r\n"
      ],
      "execution_count": null,
      "outputs": [
        {
          "output_type": "stream",
          "text": [
            " ชื่อ  623020531-5 นามสกุล  ภัทรสร  รหัส  เทพบุตร \n"
          ],
          "name": "stdout"
        }
      ]
    },
    {
      "cell_type": "code",
      "metadata": {
        "colab": {
          "base_uri": "https://localhost:8080/"
        },
        "id": "m9iu48NgYsFU",
        "outputId": "76945a94-1b7d-4741-ee98-dc1954f2d4c6"
      },
      "source": [
        "print(op2)"
      ],
      "execution_count": null,
      "outputs": [
        {
          "output_type": "stream",
          "text": [
            "None\n"
          ],
          "name": "stdout"
        }
      ]
    },
    {
      "cell_type": "markdown",
      "metadata": {
        "id": "mY5KIscaZAQY"
      },
      "source": [
        "ฟังก์ชันไม่จำเป็นต้องมี input"
      ]
    },
    {
      "cell_type": "code",
      "metadata": {
        "id": "WzqZUQv8Yyrk"
      },
      "source": [
        "def Pi() :\r\n",
        "      return 3.1459265359"
      ],
      "execution_count": 1,
      "outputs": []
    },
    {
      "cell_type": "code",
      "metadata": {
        "colab": {
          "base_uri": "https://localhost:8080/"
        },
        "id": "hocrOGrHZWkT",
        "outputId": "485092df-5b23-45d8-907b-538e9b693287"
      },
      "source": [
        "#คำนวณพื้นที่วงกลมที่มีขนาดเส้นผ่านศูนย์กลางเท่ากับ 3\r\n",
        "Pi()*(1.5**2)"
      ],
      "execution_count": null,
      "outputs": [
        {
          "output_type": "execute_result",
          "data": {
            "text/plain": [
              "7.078334705775"
            ]
          },
          "metadata": {
            "tags": []
          },
          "execution_count": 16
        }
      ]
    },
    {
      "cell_type": "code",
      "metadata": {
        "id": "16g7XwImZtWJ"
      },
      "source": [
        "def print_my_name() :\r\n",
        "      print(' ภัทรสร ', ' เทพบุตร ', ' 623020531-5' )"
      ],
      "execution_count": null,
      "outputs": []
    },
    {
      "cell_type": "code",
      "metadata": {
        "colab": {
          "base_uri": "https://localhost:8080/"
        },
        "id": "uHFnzSglaKVT",
        "outputId": "243aa514-c594-4c5f-b0b9-46bb28c5b6f4"
      },
      "source": [
        "print_my_name()"
      ],
      "execution_count": null,
      "outputs": [
        {
          "output_type": "stream",
          "text": [
            " ภัทรสร   เทพบุตร   623020531-5\n"
          ],
          "name": "stdout"
        }
      ]
    },
    {
      "cell_type": "markdown",
      "metadata": {
        "id": "KPicJQgQaQ9A"
      },
      "source": [
        "###input ของ function ใน python มีสองแบบ input ที่จำเป็นต้องใส่กับ input (มีค่า default) เราต้องเรียก input ที่จำเป็นต้องใส่ขึ้นก่อน"
      ]
    },
    {
      "cell_type": "code",
      "metadata": {
        "id": "nyMwmjhFaPWw"
      },
      "source": [
        "def print_2lines_default(name, surname ,ID, grade=' F ') :\r\n",
        "      st = f' ชื่อ {name} นามสกุล {surname} รหัส {ID}'\r\n",
        "      print(st)\r\n",
        "      st2=f' เกรดวิชา Multivariate >>> {grade} '\r\n",
        "      print(st2)\r\n"
      ],
      "execution_count": null,
      "outputs": []
    },
    {
      "cell_type": "code",
      "metadata": {
        "colab": {
          "base_uri": "https://localhost:8080/"
        },
        "id": "VmdeAU4_b6mi",
        "outputId": "280d2d86-8ee6-499d-fc5c-97e3eadc22ce"
      },
      "source": [
        "print_2lines_default(' ภัทรสร ', ' เทพบุตร ', ' 623020531-5', 'A' )"
      ],
      "execution_count": null,
      "outputs": [
        {
          "output_type": "stream",
          "text": [
            " ชื่อ  ภัทรสร  นามสกุล  เทพบุตร  รหัส  623020531-5\n",
            " เกรดวิชา Multivariate >>> A \n"
          ],
          "name": "stdout"
        }
      ]
    },
    {
      "cell_type": "markdown",
      "metadata": {
        "id": "l4MEqwulcUkt"
      },
      "source": [
        "เราสามารถเรียกฟังก์ชันโดยใช้ชื่อตัวแปรของฟังก์ชันช่วยได้"
      ]
    },
    {
      "cell_type": "code",
      "metadata": {
        "colab": {
          "base_uri": "https://localhost:8080/"
        },
        "id": "0WtGPTKHcSb6",
        "outputId": "3e14b90b-8912-4f79-b80e-efc73215d526"
      },
      "source": [
        "print_name2(name= ' ภัทรสร ', surname= ' เทพบุตร ', ID= '623020531-5 ')\r\n"
      ],
      "execution_count": null,
      "outputs": [
        {
          "output_type": "stream",
          "text": [
            " ชื่อ  ภัทรสร  นามสกุล  เทพบุตร  รหัส 623020531-5 \n"
          ],
          "name": "stdout"
        }
      ]
    },
    {
      "cell_type": "markdown",
      "metadata": {
        "id": "llBTw0_ec3oI"
      },
      "source": [
        "HW3 ให้เขียน function คำนวณจำนวนวินาทีจาก เวลาต่อไปนี้\r\n",
        "\r\n",
        "'14-15-31'\r\n",
        "\r\n",
        "'13-00-01'\r\n",
        "\r\n",
        "'05-49-44'\r\n",
        "\r\n",
        "'00-00-16'\r\n",
        "\r\n",
        "และ print ให้สวยงาม"
      ]
    },
    {
      "cell_type": "code",
      "metadata": {
        "id": "6LntnQ8sdg2c"
      },
      "source": [
        "def Function_Time(Time): \r\n",
        "    st = Time.split('-')\r\n",
        "    st2= int(st[0])*3600 + int(st[1])*60 + int(st[2])\r\n",
        "    print(f' คำนวณเป็นจำนวนวินาทีได้เท่ากับ {st2} วินาที')"
      ],
      "execution_count": 4,
      "outputs": []
    },
    {
      "cell_type": "code",
      "metadata": {
        "colab": {
          "base_uri": "https://localhost:8080/"
        },
        "id": "cuQDMH-ryrlw",
        "outputId": "d06b4d6b-2537-4a4d-f4aa-96244c4de757"
      },
      "source": [
        "Function_Time ('14-15-31')"
      ],
      "execution_count": 5,
      "outputs": [
        {
          "output_type": "stream",
          "text": [
            " คำนวณเป็นจำนวนวินาทีได้เท่ากับ 51331 วินาที\n"
          ],
          "name": "stdout"
        }
      ]
    },
    {
      "cell_type": "code",
      "metadata": {
        "colab": {
          "base_uri": "https://localhost:8080/"
        },
        "id": "MUNlrfsbywKk",
        "outputId": "ef51699c-5170-4c19-b0ff-11b6bcdc453e"
      },
      "source": [
        "Function_Time ('13-00-01')"
      ],
      "execution_count": 6,
      "outputs": [
        {
          "output_type": "stream",
          "text": [
            " คำนวณเป็นจำนวนวินาทีได้เท่ากับ 46801 วินาที\n"
          ],
          "name": "stdout"
        }
      ]
    },
    {
      "cell_type": "code",
      "metadata": {
        "colab": {
          "base_uri": "https://localhost:8080/"
        },
        "id": "CiEfoKAZy2Ds",
        "outputId": "8e2e4609-c060-4526-9ae1-904a3611d4ca"
      },
      "source": [
        "Function_Time ('05-49-44')"
      ],
      "execution_count": 7,
      "outputs": [
        {
          "output_type": "stream",
          "text": [
            " คำนวณเป็นจำนวนวินาทีได้เท่ากับ 20984 วินาที\n"
          ],
          "name": "stdout"
        }
      ]
    },
    {
      "cell_type": "code",
      "metadata": {
        "colab": {
          "base_uri": "https://localhost:8080/"
        },
        "id": "T2TqFlb4y5ll",
        "outputId": "fe7465c4-0699-4dc1-9e62-ae8e5821f45c"
      },
      "source": [
        "Function_Time ('00-00-16')"
      ],
      "execution_count": 8,
      "outputs": [
        {
          "output_type": "stream",
          "text": [
            " คำนวณเป็นจำนวนวินาทีได้เท่ากับ 16 วินาที\n"
          ],
          "name": "stdout"
        }
      ]
    },
    {
      "cell_type": "markdown",
      "metadata": {
        "id": "Fz5gTd3rz9tn"
      },
      "source": [
        "##จบ "
      ]
    }
  ]
}