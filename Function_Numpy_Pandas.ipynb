{
  "nbformat": 4,
  "nbformat_minor": 0,
  "metadata": {
    "colab": {
      "name": "Function_Numpy_Pandas.ipynb",
      "provenance": [],
      "authorship_tag": "ABX9TyNjFyCiseF8759nJ49fWqAh",
      "include_colab_link": true
    },
    "kernelspec": {
      "name": "python3",
      "display_name": "Python 3"
    }
  },
  "cells": [
    {
      "cell_type": "markdown",
      "metadata": {
        "id": "view-in-github",
        "colab_type": "text"
      },
      "source": [
        "<a href=\"https://colab.research.google.com/github/PhattarasornTeppabut/Multivariate/blob/main/Function_Numpy_Pandas.ipynb\" target=\"_parent\"><img src=\"https://colab.research.google.com/assets/colab-badge.svg\" alt=\"Open In Colab\"/></a>"
      ]
    },
    {
      "cell_type": "markdown",
      "metadata": {
        "id": "93kQwKzaSmQL"
      },
      "source": [
        "#Function"
      ]
    },
    {
      "cell_type": "markdown",
      "metadata": {
        "id": "ON4Ym-q4Sq1M"
      },
      "source": [
        "ทำหน้าที่ รับ output ออกมาเปลี่ยนแปลงเป็น input"
      ]
    },
    {
      "cell_type": "markdown",
      "metadata": {
        "id": "LBUtkMO7S9pY"
      },
      "source": [
        "function มีส่วนสำคัญทั้งหมด 4ส่วน \r\n",
        "\r\n",
        "    1. บอก python ว่าเราจะเขียนฟังก์ชัน ชื่ออะไร def functio_name() : (ขาดไม่ได้)\r\n",
        "\r\n",
        "    2. กำหนดตัวแปรที่จะเป็น input input (ขาดได้)\r\n",
        "\r\n",
        "    3. ส่วนประมวลผล do_something with Input to get Output (ขาดไม่ได้)\r\n",
        "\r\n",
        "    4. ส่วน output return Output (ขาดได้)\r\n",
        "    \r\n",
        "    "
      ]
    },
    {
      "cell_type": "code",
      "metadata": {
        "colab": {
          "base_uri": "https://localhost:8080/"
        },
        "id": "OBs0Y_WPUn8A",
        "outputId": "158375f5-102c-4f10-c640-6e650dc6b355"
      },
      "source": [
        "def print_name(name, surname, ID) :      # input สามารถมีกีตัวก็ได้หรือไม่มีก็ได้ \r\n",
        "      st = f' ชื่อ {name} นามสกุล {surname} ID{ID}'      # อะไรที่อยู๋ใน function เราต้องวรรคมันเข้าไป\r\n",
        "      return st\r\n",
        "print('outside function')"
      ],
      "execution_count": 6,
      "outputs": [
        {
          "output_type": "stream",
          "text": [
            "outside function\n"
          ],
          "name": "stdout"
        }
      ]
    },
    {
      "cell_type": "markdown",
      "metadata": {
        "id": "o88ZfP9SWRET"
      },
      "source": [
        "การเรียกใช้ฟังก์ชัน"
      ]
    },
    {
      "cell_type": "code",
      "metadata": {
        "colab": {
          "base_uri": "https://localhost:8080/",
          "height": 34
        },
        "id": "pk2qz0EqVIFU",
        "outputId": "d3b92685-b660-47c0-97fa-e324e07f64e5"
      },
      "source": [
        "print_name ( ' ภัทรสร ', ' เทพบุตร', ' 623020531-5' )"
      ],
      "execution_count": 5,
      "outputs": [
        {
          "output_type": "execute_result",
          "data": {
            "application/vnd.google.colaboratory.intrinsic+json": {
              "type": "string"
            },
            "text/plain": [
              "' ชื่อ  ภัทรสร  นามสกุล  เทพบุตร ID 623020531-5'"
            ]
          },
          "metadata": {
            "tags": []
          },
          "execution_count": 5
        }
      ]
    },
    {
      "cell_type": "code",
      "metadata": {
        "colab": {
          "base_uri": "https://localhost:8080/"
        },
        "id": "3MJBpgAlWx9f",
        "outputId": "616d3939-d8b2-44f1-c6be-24f076c6770f"
      },
      "source": [
        "output_string = print_name( ' ภัทรสร ', ' เทพบุตร', ' 623020531-5' )\r\n",
        "print(output_string)"
      ],
      "execution_count": 7,
      "outputs": [
        {
          "output_type": "stream",
          "text": [
            " ชื่อ  ภัทรสร  นามสกุล  เทพบุตร ID 623020531-5\n"
          ],
          "name": "stdout"
        }
      ]
    },
    {
      "cell_type": "code",
      "metadata": {
        "id": "VZ6Ri0N3Xiqj"
      },
      "source": [
        "def print_name2(surname , ID, name) :\r\n",
        "      st = f' ชื่อ {name} นามสกุล {surname} รหัส {ID}'\r\n",
        "      print(st)"
      ],
      "execution_count": 8,
      "outputs": []
    },
    {
      "cell_type": "code",
      "metadata": {
        "colab": {
          "base_uri": "https://localhost:8080/"
        },
        "id": "5Zb11Dd9YDoW",
        "outputId": "b071e52c-53f8-46f7-8b13-d3e516783e4a"
      },
      "source": [
        "print_name2(' ภัทรสร ', ' เทพบุตร ', ' 623020531-5' )"
      ],
      "execution_count": 9,
      "outputs": [
        {
          "output_type": "stream",
          "text": [
            " ชื่อ  623020531-5 นามสกุล  ภัทรสร  รหัส  เทพบุตร \n"
          ],
          "name": "stdout"
        }
      ]
    },
    {
      "cell_type": "code",
      "metadata": {
        "colab": {
          "base_uri": "https://localhost:8080/"
        },
        "id": "udfuwncgYdBd",
        "outputId": "47f9b2d2-b667-4147-d14d-933bbf3513ff"
      },
      "source": [
        "op2 = print_name2(' ภัทรสร ', ' เทพบุตร ', ' 623020531-5' )\r\n"
      ],
      "execution_count": 10,
      "outputs": [
        {
          "output_type": "stream",
          "text": [
            " ชื่อ  623020531-5 นามสกุล  ภัทรสร  รหัส  เทพบุตร \n"
          ],
          "name": "stdout"
        }
      ]
    },
    {
      "cell_type": "code",
      "metadata": {
        "colab": {
          "base_uri": "https://localhost:8080/"
        },
        "id": "m9iu48NgYsFU",
        "outputId": "76945a94-1b7d-4741-ee98-dc1954f2d4c6"
      },
      "source": [
        "print(op2)"
      ],
      "execution_count": 12,
      "outputs": [
        {
          "output_type": "stream",
          "text": [
            "None\n"
          ],
          "name": "stdout"
        }
      ]
    },
    {
      "cell_type": "markdown",
      "metadata": {
        "id": "mY5KIscaZAQY"
      },
      "source": [
        "ฟังก์ชันไม่จำเป็นต้องมี input"
      ]
    },
    {
      "cell_type": "code",
      "metadata": {
        "id": "WzqZUQv8Yyrk"
      },
      "source": [
        "def Pi() :\r\n",
        "      return 3.1459265359"
      ],
      "execution_count": 13,
      "outputs": []
    },
    {
      "cell_type": "code",
      "metadata": {
        "colab": {
          "base_uri": "https://localhost:8080/"
        },
        "id": "hocrOGrHZWkT",
        "outputId": "485092df-5b23-45d8-907b-538e9b693287"
      },
      "source": [
        "#คำนวณพื้นที่วงกลมที่มีขนาดเส้นผ่านศูนย์กลางเท่ากับ 3\r\n",
        "Pi()*(1.5**2)"
      ],
      "execution_count": 16,
      "outputs": [
        {
          "output_type": "execute_result",
          "data": {
            "text/plain": [
              "7.078334705775"
            ]
          },
          "metadata": {
            "tags": []
          },
          "execution_count": 16
        }
      ]
    },
    {
      "cell_type": "code",
      "metadata": {
        "id": "16g7XwImZtWJ"
      },
      "source": [
        "def print_my_name() :\r\n",
        "      print(' ภัทรสร ', ' เทพบุตร ', ' 623020531-5' )"
      ],
      "execution_count": 17,
      "outputs": []
    },
    {
      "cell_type": "code",
      "metadata": {
        "colab": {
          "base_uri": "https://localhost:8080/"
        },
        "id": "uHFnzSglaKVT",
        "outputId": "243aa514-c594-4c5f-b0b9-46bb28c5b6f4"
      },
      "source": [
        "print_my_name()"
      ],
      "execution_count": 18,
      "outputs": [
        {
          "output_type": "stream",
          "text": [
            " ภัทรสร   เทพบุตร   623020531-5\n"
          ],
          "name": "stdout"
        }
      ]
    },
    {
      "cell_type": "markdown",
      "metadata": {
        "id": "KPicJQgQaQ9A"
      },
      "source": [
        "###input ของ function ใน python มีสองแบบ input ที่จำเป็นต้องใส่กับ input (มีค่า default) เราต้องเรียก input ที่จำเป็นต้องใส่ขึ้นก่อน"
      ]
    },
    {
      "cell_type": "code",
      "metadata": {
        "id": "nyMwmjhFaPWw"
      },
      "source": [
        "def print_2lines_default(name, surname ,ID, grade=' F ') :\r\n",
        "      st = f' ชื่อ {name} นามสกุล {surname} รหัส {ID}'\r\n",
        "      print(st)\r\n",
        "      st2=f' เกรดวิชา Multivariate >>> {grade} '\r\n",
        "      print(st2)\r\n"
      ],
      "execution_count": 19,
      "outputs": []
    },
    {
      "cell_type": "code",
      "metadata": {
        "colab": {
          "base_uri": "https://localhost:8080/"
        },
        "id": "VmdeAU4_b6mi",
        "outputId": "280d2d86-8ee6-499d-fc5c-97e3eadc22ce"
      },
      "source": [
        "print_2lines_default(' ภัทรสร ', ' เทพบุตร ', ' 623020531-5', 'A' )"
      ],
      "execution_count": 20,
      "outputs": [
        {
          "output_type": "stream",
          "text": [
            " ชื่อ  ภัทรสร  นามสกุล  เทพบุตร  รหัส  623020531-5\n",
            " เกรดวิชา Multivariate >>> A \n"
          ],
          "name": "stdout"
        }
      ]
    },
    {
      "cell_type": "markdown",
      "metadata": {
        "id": "l4MEqwulcUkt"
      },
      "source": [
        "เราสามารถเรียกฟังก์ชันโดยใช้ชื่อตัวแปรของฟังก์ชันช่วยได้"
      ]
    },
    {
      "cell_type": "code",
      "metadata": {
        "colab": {
          "base_uri": "https://localhost:8080/"
        },
        "id": "0WtGPTKHcSb6",
        "outputId": "3e14b90b-8912-4f79-b80e-efc73215d526"
      },
      "source": [
        "print_name2(name= ' ภัทรสร ', surname= ' เทพบุตร ', ID= '623020531-5 ')\r\n"
      ],
      "execution_count": 21,
      "outputs": [
        {
          "output_type": "stream",
          "text": [
            " ชื่อ  ภัทรสร  นามสกุล  เทพบุตร  รหัส 623020531-5 \n"
          ],
          "name": "stdout"
        }
      ]
    },
    {
      "cell_type": "markdown",
      "metadata": {
        "id": "llBTw0_ec3oI"
      },
      "source": [
        "HW3 ให้เขียน function คำนวณจำนวนวินาทีจาก เวลาต่อไปนี้\r\n",
        "\r\n",
        "'14-15-31'\r\n",
        "\r\n",
        "'13-00-01'\r\n",
        "\r\n",
        "'05-49-44'\r\n",
        "\r\n",
        "'00-00-16'\r\n",
        "\r\n",
        "และ print ให้สวยงาม"
      ]
    },
    {
      "cell_type": "code",
      "metadata": {
        "id": "6LntnQ8sdg2c"
      },
      "source": [
        ""
      ],
      "execution_count": null,
      "outputs": []
    }
  ]
}