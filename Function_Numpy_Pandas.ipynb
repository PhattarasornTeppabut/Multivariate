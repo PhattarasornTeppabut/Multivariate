{
  "nbformat": 4,
  "nbformat_minor": 0,
  "metadata": {
    "colab": {
      "name": "Function_Numpy_Pandas.ipynb",
      "provenance": [],
      "include_colab_link": true
    },
    "kernelspec": {
      "name": "python3",
      "display_name": "Python 3"
    }
  },
  "cells": [
    {
      "cell_type": "markdown",
      "metadata": {
        "id": "view-in-github",
        "colab_type": "text"
      },
      "source": [
        "<a href=\"https://colab.research.google.com/github/PhattarasornTeppabut/Multivariate/blob/main/Function_Numpy_Pandas.ipynb\" target=\"_parent\"><img src=\"https://colab.research.google.com/assets/colab-badge.svg\" alt=\"Open In Colab\"/></a>"
      ]
    },
    {
      "cell_type": "markdown",
      "metadata": {
        "id": "93kQwKzaSmQL"
      },
      "source": [
        "#Function  \r\n",
        "\r\n",
        "![image.png](data:image/png;base64,iVBORw0KGgoAAAANSUhEUgAAAeIAAAEkCAYAAADzWDIKAAAgAElEQVR4Ae2dX8wdR3nGuYg/n6Pc9apSJe6QuOpFr5Ai5aIRjSoULrBEuXIaNwE3IcS1m2ApKKjQGkvQSFBZigUmbZ2AoQ6Fxk4T09TKHyCAQmjS1Enzr/kDpE3T0DRtSmnZ6jn0/TrfeHfPzJ55Z/f5zvNJR3vO7uyeZ9555v3t7J5v5y2N/hQBRUARUAQUAUVgtAi8ZbRv1hcrAoqAIqAIKAKKQLMA8f/89GdNyuvO659OKpdyLMYyqr/an9G3pTTL//J/KS8xHsfT/wsQf/OWHzRf/4N/0EsxkAfkAXlAHpAHKnoA/F2AGBBmPEOR5rQrGYqT4iQPyAPywDQ9AP4KxImX5WXiaZpY7aJ2kQfkAWYPCMSCsK6EyAPygDwgD4zoAYF4xOAzn8FJu0Yg8oA8IA+U8YBALBDrTFgekAfkAXlgRA8IxCMGX2eTZc4mFUfFUR6QB5g9IBALxDoTlgfkAXlAHhjRAwLxiMFnPoOTdo1A5AF5QB4o4wGBWCDWmbA8IA/IA/LAiB4QiEcMvs4my5xNKo6KozwgDzB7QCAWiHUmLA/IA/KAPDCiBwTiEYPPfAYn7RqByAPygDxQxgMCsUCsM2F5QB6QB+SBET0gEI8YfJ1NljmbVBwVR3lAHmD2gEAsEOtMWB6QB+QBeWBEDwjEIwaf+QxO2qczArlhfra56ILLF69LdxzYTKi2PrWtrp6dbML9U/dTuel4QW3B2RYCsUC8mbjVifk68b2Hn18AGBCN2w9Q3b3z6Hnr43L22Y4FgNs6Lfk8oTbjazOBWCBW0iX2wJGLH1mAGMswAXetD8u0vd+1cajBq22b1vEleLUZR5sJxMRJWJ2Mo5N5tpNdfo5BjBEyLlfnfrcdL3c/lZcX5YHhHhCIBeLsZK0ON7zDIXYGSVwKDmNpo9jUS8O49Gz3hm1p+2JbOLK1Y8eXsLvK2XFCfXq/WrsrfopflwcEYoF4Cwy6jKL15ZKI3YuNoYj7ubmjWBvBxiNiHKfr+HYC0HVC0Lav2r9c+yuWimXsAYFYIBaIR/AARqsYjYYdEp/tx1UGZRvpxkuDaRuIDfRto1ocB99tZWJYQ0+oI9Sn9wKIPODjAYF4hCQsM/uYmSmuMUDt0nE8sl1Wp/g4KG/HagOxlQeQ4xMB+y6sDy9r23ot5Vt5wMcDArFAvGVUpo7m09Ha4goY2ojURsBt5frWGVhDgPeBGMcCaPHdbaC27QJxPR/0ta+2rUc7CMQCsUA8kgcAXxuVYmmXpZF8DcwAZttr6KVpuy9sMG5L9LGWtjJatx6AUDvXaWeBeKQkLIPXMfiU42wjV4NjOKpN1d02Isa+4WjbjhXeF7b3IfytXNu+tk1L+VYeKO8BgVgg1oh4RA/YaNdGxrlJrgvEOF58eRmfw+9pOwGwk4Ouy9a5+lS+fNJWTLdfTAXiEZOwOtT261C5bWqXoO1ece7+XSC249rxrFwMWJwItMHZLn3b/lrKq/KAnwcEYoFYI+IRPWCj0tLgs5Ft7uVujJrjkbQSsF8CVmwVW3hAIB4xCasTqhO2XUIu5Qscu+0ecNfx7b5xPGruKq/18q88UMYDArFArBHxSB7oulxcKrnZ8VOPh9F5eJk6dT+VK5OMFcf1jaNAPFISVqdb306ntlfbywPyQOgBgVgg1ohYHpAH5AF5YEQPCMQjBj88I9J7nSHLA/KAPLCeHhCIBWKdCcsD8oA8IA+M6AGBeMTg6+x3Pc9+1e5qd3lAHgg9IBALxDoTlgfkAXlAHhjRAwLxiMEPz4j0XmfI8oA8IA+spwcEYoFYZ8LygDwgD8gDI3pAIB4x+Dr7Xc+zX7W72l0ekAdCDwjEArHOhOUBeUAekAdG9IBAPGLwwzMivdcZsjwgD8gD6+kBgVgg1pmwPCAPyAPywIgeEIhHDL7Oftfz7FftrnaXB+SB0AMCsUCsM+EKHrB5hy+64PLOqQmxLXyFHVXvlbjlge3rAYG4QhJWB9q+HSi1bXdtHNo84QFsj1z8yOZnOwbW23st5Rl5YH08IBALxEr+lT0AKAvE65NkBVS19TIPCMSVk/CyBtH27d1p7z38/OLyc1s7h5elwxF0W1mt294+UfuuV/tWA/FrL7zZvPHKf+mlGKy1B96z8fvNgfmZpTH4tR37k8qFfeq+m19cetywvN4rH8kDeR4AxzxOkqqB+PWXf+JSAa+geBzX65hoRK9jlz4uk1bUvaTe3TuPNvjRVkpMUS61rB3vU7/83aRjW/kxlyXjWqMeTHql1W807cUxtNlbmqYpmnDaOoZXBdq+a9V1TEZGXZn0MmktGVtAGK9Ub16640DrfeS+/QVivwTM5Ftp9fOBF8fQZgJxdJ+YycglYdGX5EttW8fY4odZ4f1fvDco4z22x2VyR8NoH4HYLwEz+VZa/XwgEEewLAWGtuMwGRn6mfQyaWWLrUDsl4CZfCutfj4QiAXizsua6nh+HY8ptgKxfMB28sjUvxBbehD/+Af/2QkSVHBKLzZzMOll0sqW1ARivzzC5Ftp9fOBF8fQZlXuEXtVwAPgTEZmg4Vi65ckBGK/2DL5Vlr9fODFMbSZQByNyJmMLBD7dTq22ArEfl5gygnS6ucDgTiCpcdI2I7JZGQ2WCi2fklCIPaLLZNvpdXPB/Qg9noiicGz5JLJyAKxX6dji61A7OcFppwgrX4+8OIY2qzKpWmvCpQEsB2LychssFBs/ZKEQOwXWybfSqufD7w4hjYTiKPL3kxGFoj9Oh1bbAViPy8w5QRp9fOBQBzB0kavHksmI7PBQrH1SxICsV9smXwrrX4+EIgF4s7/tVbH8+t4TLEViOUDnZj7eQCxpQfxq8/6TB+lEbEecenhATumQOyT2JjiCi8w6ZVWH8/CB14cQ5tVuUfsVQFLmCWXTEZWkvDrdGyx1YjYzwtMOUFa/XzgxTGBuOWSN5OR2WCh2PolCYHYL7ZMvpVWPx/Qg/iVp/6j8x5nydFsiWMxGVkg9ut0tWN7w/zs5nSJuzYOZfcXgdjPC0w5QVr9fODFMbRZlUvTXhUoAd74GExGrg2LOFa5nxXb7iQRwvfSHQcagDknvgJxd2xz4thWlsm30urnAy+Ooc0E4ujyNJORkTSY9DJpHTO2u3ceFYijftkGyFrrmHzLoPXh219u9s1PN1fNblss8blWW67yPfQg/scn/p0i0GgkBiOHZmLSy6R1TC9cdMHlzb2Hn8/qMxoR+42EmHw7da2A7pWz480Vs2Obr/fPbm8ePPJSlt/DHFjrvRfH0GZVRsReFfBogKkbOa4zk14mrYjzGHoxGr56djI7KQnEAvFYno1zUt9njIRDCNv7D86/mu35vu/x2ObFMeSZaiDGl+mlGMgD3R74zdlnm/fu/NSgfgIQK7bdsVVsphEbXI42+MbLqbcRPYhffvyNyZ/t2BkUzGDvGZZMepm0ou1r6sUoOPzBVq73NCLWiLi2Z3M9ivLXzU+1gvia2R2Tz7teHEOeqTIi9qrAECMs26dm8l2mJWU7k14mrYh9Lb24H4z7wuErF8oCsUBc07MpuSks8+brP21O7DnX4H7wntmtW2CMUXLubyLCY9d678Ux5BmBOPp1Zq3kW8o8THqZtKJ9mPQKxALxFD37k3//7+bUwWea3559uTkwP9M8cferix9m4Z4wgIyRMAOEEVuBOIJlKYi1HYcp+U6x47XF1NYptn6wEIj9Ysvk2ylpBYABWgC47V+UpqTVclTfUiAWiDvvnzCZmUkrOiSTXoFYIJ6KZx/4zIuLe8G4H4z3XXBj6l+oAz2If/jov3U2RlcjjbWezRxMepm0wn9MegVigXhsz2LUC/hiFNwHYMvtTP0Lmr04hjhUuUfsVQFr0JJLNnMw6WXSCk8x6RWIBeKxPAsA4/IzAIzL0bgvnJKTmfoX6uPFMcShCohf+p5GxCnGHFKGycxMWtEWTHoFYoG4tmef/Pq/NB+e39fsnZ1oTu59MhnAlueY+hc0e3EMcRCIo/vPbOZg0suktXZSs+Q0dCkQC8S1PPvcN37cHLzw/uYDsy8u/iUJ/5o0xLds+UAgjmA5pNFT92EzB5NeJq21klqqL5eVE4gFYm/PvvDd15tPvO2hBYCPvfux5vWXfzIIwOZltnwgEAvEnYZnMjOTVu+kZsmo1FIgFoi9PPvqs2828BcevHHLO7+/MoDN82z5gB7EOJOy4E99yWYOJr1MWr2Smpf/BWKBuLRnAeBPv+PhxdOwsMTnkv5lywdeHEMcqtwj9qpASVPYsdjMwaSXSWvppGb+8loKxAJxKc/ikjMuPeMeMC5Fe44EvfqDx3G9OCYQt1zyFiyU0KwTM3lBIJZvVwUxfnR163seW4yAf++Xvtl4gYexf0GzVzwEYoG46KUm62BdSyawoQ5MegVigXioZ21CBvwbEn4NjX9L6urDJdcz9S/Umx7Ezz/0r1UatoRJ2MzBpJdJK7zEpFcgFohzPds2IUOJHJp6DKb+hTp5cQxxqHKP2KsCqQ2eU47NHEx6mbTCM0x6BWKBOMezyyZkyMmZQ8sy9S/U0YtjiINAHF2eZjMHk14mrTlJLSUR7d55dDHfcFfZcC5ivO8q17VeIBaI4Y1lfSx1QoYun5Vcv0xrye8qcSyBOIJliaB2HYPNHEx6mbTCH6X07to41NwwP7sUxF2eTFkvEAvEfZ7NnZAhxXOrlinVv1bVkbq/QCwQd46QmMzMpBWds7TevpFu37aURCEQC8Rtnh06IUOK51YtU7p/rapn2f70IMazSZdVcirb2czBpJdJK/xYWm8fbLHNXhhB5/YHgVggDj276oQMuf4bUr50/xqiIWcfL44hDlXuEaMC+DK9FIN19gBAm1L/S3Zc2+ydfSmprB0PILb3Wq5vP/vC7nPNvvnpxeMoP/7WbzV33fisfFGIPdsCxDlnHmOWRRIb8/tzv5tJL5NWtENpvX0j4rDdr56dbPAK1y17rxHxeo+I8T+ueAoWngddYkKGZX4rsb10/yqhqe8Y9CB+5v7XspJKXzC8t7GZg0kvk1b4rLTeVBBfuuNAc+TiR7L6jEC8niDG859v/pWfT8gAz9x5/dNZvvHOp33HL92/+r6rxDYvjiEOVS5Ne1WgRHDjY7CZg0kvk1b4opRegNXu/2Jpo128R/LEq2177M2+zwLxeoH4tRfaJ2Qo5dk+r5XaxqQVdfbiGOIgEEe/yGYzB5NeJq3oeEx6BeL1AHE8IUP82EUmzzJpFYgjUJY6G+s6Dps5mPQyaRWI1wNsXXkgXD8F3+J50Mff9/hiQoaP/uI3Op97PAWtYez63jNpRT3oR8RP/bXuEfcZcpVtTGZm0oo2YdKrEfH2PHHInZCBybNMWpEPvDiGOFS5NO1VgVUA1rUvmzmY9DJpFYi3J9i6+n3f+jF8axMy4PcEB+Znmke/8krSj7DG0NoXu75tTFpRDy+OIQ4CcXTpm80cTHqZtKLjMenViHj7nDjcfdNzzTWzO5r983saPBmrD2bxNibPMmkViCNQxsYr/ZnNHEx6mbTCV0x6BWJ+EJeYkIHJs0xaBWKBuPeMmMnMTFoFYn6wlTpJ9/YtRr14GhZGwfcefr63vy+rk7fWZd+fs51JK+pFf2kazz3NaaAxy7KZg0kvk1Z4kEmvRsR8Jw4eEzIweZZJK/KBF8cQhyr3iL0q4AFsNnMw6WXSKhDzgc0jH3j4APnw4IX3N3tnJ5oTe841+GFWKe1MfYxJK9rHi2OIg0AcXfpmMweTXiatHgm4VLJtO45GxNM/ccDDNwDg989uXwAY/5rU1parrGPqY0xa0SYCcQTLVYy6bF82czDpZdIKnzDpFYinC2KbkOEDsy+6T8jA5FkmrdsCxE/c/WrxM79lQB26nc0cTHqZtArE0wXb0L49dL+hvo0nZMDjKYdqSN1vqNbU45csx6QV9fbiGOJQ5dK0VwVKmsKOxWYOJr1MWuEHJr0aEU/nxKFrQgbLMZ5LJs8yaUWbeXEMcRCIo8vebOZg0sukVSCeDtg8wZVy7FTfLpuQIeW7Vi2TqnXV7ymxP5NW1FcgjmBZwgRdx2AzB5NeJq3wR229eJwhpkMc8r+kGhGPd+KQOiFDV84pub62Z1fRzqQV9aQH8d+d/mf3eyOrGCLcl80cTHqZtMITNfXu3nl0MU8x5i4WiP2gGvb11PddPsidkCH1+1Yp16V1lWN67cukFTHw4hjiUOXStFcFPAzCZg4mvUxa4a0x9ArE04GwPfHqqtltiydf2XOfh07I4JGv4mOO4dlYQ+pnJq2okxfHEIcqIP7bv0ibOSS1AT3LsZmDSS+TVnhsDL0C8TRADOheOTveXDE7tvnC///+0UXfGzwhg2fesmOP4Vn77twlk1bUzYtjiINAHN1/ZjMHk14mreh4Y+gViKcBYjz7OYSwvf+t2R83mJwhFzq1yo/h2aF1Y9KKOm4LECPoeikG8kC/By7ZcW1z+O3fzu4r+LGWYtsf25z44HK0wTde5hxHZcu1ydixpAdx6qTWQ8+sSu6Hxi55PO9jMell0op2G0OvRsTTGBFjJqQYwPiM9d59epXjj+HZoXqZtKKOXhxDHKpcmvaqwFAD9O3HZg4mvUxa4ZGaendtHFr86xL+fQkv/Iq6z6fxNv37UhmA24QMuB+My9AhjDFKHvKL9ritPD/X9Oyq9WDSirp6cQxxEIh1jzgr4a/S+dg6HpNegXg1EON50B/5hQcWEzJ8Yfe5Bv+a9OCRl5oPzr/a7JndWmSu4FX6Tuq+TJ5l0ioQR6BMNeTQcmzmYNLLpBX+YdIrEA8DccqEDEw+kNZhPkjhBf2I+G/+7J+qjbpSAtpXhsnIbLBQbP2ShECcF1tMyPDpdzzc4HIzln0TMjD5VlrzfNDHgnibF8fQZlUuTXtVIA5Uic9MRkZ9mfQyaWWLrUCcloAB3BDAAPKyvMHkW2lN88GyNm/b7sUxtJlAHF36ZjIyGywUW78kIRD3x3aVCRmYfCut/T5oA2zqOoE4gmVq4IaUYzIy6sekl0krW2wF4vYEjB9d4cdX+BU0foyFe8K5eYHJt9La7oPcNm8rTw/iR078Y7b52wJRYx2TkREPJr1MWtliKxBvTcAlJ2Rg8q20bvVBSWZ4cQxtVuXStFcFSgbZjsVkZDZYKLZ+SUIg/nlsbUIGPHjjwPxMUyL3MPlWWv36WAkvGWfCJdpMII4uezMZWSD263RssRWIf9ac+dhzi//3/Z35XzY2U1KY8Ia+Z8oJ0uqXE+hBXLJTDO1MqfsxGRl1YtLLpJUttusMYkzCcN381OLlMSEDk2+l1Q/EXhxDm1UZEXtVIBWuOeWYjMwGC8XWL0msI4iRVzD6xWVojIZz+nlOWSbfSqtfH/PiGNpMINalabcEFic7piTBdpKzTiDGJULc/wWATx18psF94dhrJT8z+VZaBeLOzuB1JlGys9mxmIwMzUx6mbSyxXYdQGwTMuydnWhO7Pn586Ct33oumXwrrQKxQByNrj2Tgx1bHc+v4zHFdjuDuG1CBvN/jSWTD6TVLx94DSjRZlUuTX/3T3/UCekaHSnnO5iMjHox6WXSyhbb7QjilAkZcvr20LJMvpVWPxB7cQxtJhBHo1gmI7PBYl1je8P87OZcw5h3uA0INg+xLdvK9K3bTiDOmZChLyaltjH5VloF4tYEg87gdSZRqqOFx2EyMnQz6WXSWjK2gKtNKA8QA8yh5/AeZeJ1OZ+3A4iHTMiQE6OhZZl8K60CcWciEYj9zKGON+3YArrhKBifd+88el5fWWcQrzIhw1C45uynPubTx5jiCr94cQxxqHJp+juf1z3inI6fU5bJzExa0QYl9MbgPXLxI1vAbG1tl6SxDMFt25ctGUfEJSZkWBaXEttL+KCEjpRjSKvPSQNi78UxtFk1EOPL9FIM1s0De2dfat6781Ob3t8/v6e5bOOmzc9t8bhkx7UN9mvb1rUOIO7aNrX1d934bPPxt36ruWp2W7Nvfro5/r7HabRPLZbSUy+nbgsQp5zNTaEMjD0FHakamPQyaUX8S+hNvTQdtvfVs5MNXuG6Ze8ZRsQ2IQP+D7jUhAzL4lJiewkflNCRcgxp1Yi4M3F4nUmkGDO3DJORUTcmvUxaS8UWP9LC5eZlP9YKfXrpjgMNLmGH65a9nzqIUX88CQsj4M+969Gsui2ru/d2Jt9Kq0Dc2bkEYj9zqONNP7YY3do94PCHWlgH4OJl27HMHQ0DRFMFcduEDEyeRWyZ9EqrXz7w4hjarMo94oc++8NOSHufzeYen8nIShJ+nY4ttlMDMZ5ChPvhGAXffdPWCRnUx/x8yxRbJq3IB14cQxwEYj3Qo9pJElvHY9I7FRA/+pVXFvd/MarvmpCBKa5sJ2RMsWXSKhBHoERAPF9s5mDSy6SVLQGPDeKcCRnkA78cxhRbJq3bAsTfvOUHrvAsCWY2czDpZdIqEKfBAs+D/ugvfqN5/+z2xb8h4X+Dl/VH+SAttsvi2LadKbZMWhFrL44hDlUuTXtVoM2Iq65jMweTXiat8BGT3toj4lUmZGCKK5sPmGLLpBU+8OIY4iAQR5e62czBpJdJK1sCrgVim5ABI+BPv+Ph5rUX3lw6AkYsw5d8sDUeYWxWfc8UWyataBeBOOrIq5q1b382czDpZdIKjzDp9QYxngeNf7PC07Bu/pXvNgByXz/q28YUVzYfMMWWSSt8IBALxJ1Jj8nMTFrZErAXiD0mZJAPNCJm61/bAsQPHnmpEySo4JReShJ+7aHY+sW2NIjxo6sTe84tfoR18ML7G9wTLtVP5QM/HzDFlkkrvO/FMcShyj1irwqUSgzhcdjMwaSXSSs8waS3FIjxPGgAGM+DBoDxb0lh/yjxnimubD5gii2TVvjAi2OIQxUQ4zF3JTpwjWOwmYNJL5NWtgS8KohtQgY8CQsTMuDJWF79TT7QiJitf0GvF8fQHwTi6NK4koSShAGIyQurgDickMETwIxxZQMGk2eZtArEESitM3st2czBpJdJK1sCHgLitgkZvPpVeFz5QCe7bP0LejUirghjJQklCYMGkxdyQNw3IYPV3XPJFFfEgUmvtPrlL4FYIO68X6eO59fxasY2nAoR8xHngjAFxCkTMuR+75DyNeM6RF+8D5NeafXLB/Qgvu9m/Vgr7tylPqvj+XW8mrEFfAFj+AJzFqfOSYzR7b756ebK2Z8slm33eHMmZCjly77j1Ixrn47UbUx6pdUvH3hxDG1W5cdaXhVI7Ug55ZiMjHox6WXSWjO2AHA4CsbnXRuHlo6KAd0rZ8ebK2bHNl949KT9m8WQCRly+srQsvKBHyyYYsukFV734hjiIBBHl73ZzMGkl0lrbRCH4MWvmEMwdwEPI+EQwvYeo+lPvO2h5gOzLzbH3v1Yg6djdR1jjPXygUBcs3+V8jg9iL+w+1yDe1h6KQbywPkeADB/fePDm/1j3/yu5ld3XLP5uStmuBxt8I2XH5rfuYBx175af347KCaKSZ8HwLFSUA+PgxPTKiPis598waUCYWVKvdfZus7WzUu1vDD00vR181OtIE69v2z1rL2sFddS9WLSK61++cuLY2gzgViXpqudJDElCSTxmnovuuDy7B9rQd9vzf54C4wxOxIubZeCkMdxasa1hH4mvdIqEHd2/qknhrCzMhkZupn0MmmtHdsb5mcbwBiv8H5x6E17bxMy4JL278z/cvEL6z2zzzd4PCVDX5MP/GDBFFsmreh7Xn0LcagyIvaqgCWmkks2czDpZdIKT01NL54HfXLvk4sJGT48v2/LhAy4t1WyH3gea2pxXVZXJr3S6neS48UxtJlArEvT1RI4U5KYEohTJmQQiP0SMJNvpdXPB/Qgljn8zKHYbu/Y4mk+uOSMH2a1PazDRnMC8fb2gbXzsqXyAZ8P0GZVRsQyB585lnX4IduZfID6jakXAAZ88Up5tJ5ArD42tmdzc8KY/StXq2dsEQeBWJemdWk68oB10jESBUa9mA8Yo+BTB59JbhuBWCD2hIX1iZLLMfrXKvq99ArELQnYK9irGKBvXya9TFoR85p6n7j71QWAf3v25QWAcV+4r93jbQKxQFzbs7EHcz/X7F+52trKe+nFcTUijmDsFey2hi2xjkkvk1a0TQ29pSZkEIgF4lqeLZG32LR66kWeqQLiMx97LuvsvlRDDzlOjeQ7RFfXPkx6mbQi3p56MSHD7/3SNxtM0nDrex5r8L/BXW2csl4gFoi9PZviw5wynv0rR0dqWS+OIQ4uIMYj9uzhBJjSra0Ctt2WqcHwLoegxPq9vzP3+JgQwB76EJsZj0u0mGJp5XK/w6O8aQ31e3zP0GNCl8UOcTS9drzQFyg35FGSL33v34pOyIB/qTDNWJrWKSxDL4aTWIRxDWMO/V7/IjI0HshfU4ur1aWtH1lsw9hD/5TyAPRDD3ThhYfZWJ2msDRdWIZ+NI6VyANhPdFmLiAOGx2V2T+/+7xAY30oZirvEZRYP0w9FX2IG4xrGq3jmT5otW22bipLaI31T0UbOheSLvQghkhycWxRZgh8ccxXn32z+fQ7Hl6MgLHE5xJ1R1vDDxgRh3UocexVj4EYWt8J51gO44oyYbJb9TtL7m+xnWKu6upHFtsp5wFog1ehFe+nFF/oMs/ifZhLQxBjWymvIQ4uIA4FoiJ4DF+4Du+nFPxQmxnZ1kG/NYytG3sJPWaQWG+4bWyd8feb1ilqDKEB3fh8+O3f3uJbdL7cDogpCG955/cbPAMasCwFYGi00TDe49j4DN1x3Mf4jDYOtYRtbj6ALpSZKogtblPNVWFMTavFtm2blZnK0rSyxPfum35+i3VIHuiLOeLgCmJLFFaBUAyCby+DSrh9rPdmDny/6R9LS9f3hp0s1Ivy2GZxxTIXHF3fWWK9aQ31lzhuiWPEQIAn98/v2QI1xDKMLerR9d0AMOYCxvOgMTcw7rC/xwsAABVoSURBVAl3lR26PgSv3SOGvqHHK7lf3MahVvMBvg9xt5iG4C6pZdVjTSWmcT3iGGO7xRbbLK5YTikPWD2gNby6Z+unsgyv4kCTcSwnD6TUBXFYGcShqLixkcwQaKtAlyh0QJTr2u65PtZvRsZ3mn7P7+87Nr7fOlOY9MMOGOqNj2UnEljG22p8jvWb1lB/DR1t32FxxRLbU0AcHgd+bQNHOCHDwQvvb577xo/dYh/CjRXEYUzhlziHhNvHem8eGev7u763rR9ZHwv3GTsPhFrC99CK2I6Vn0It8XvENu7fbRzrygPx8fo+Iw4rg7jrC8KzibYKhPuh802lA5qRQ/2h1im8Dzug6e3SheSG8l3ba643raH+mt/f913odGGc8Dm+NB3vHybovgkZ4v1KfbYEi+OxXpoOY4Gkhn4XrpvC+7Cdp6DHNLT1I+tjVsaWU8oDpumSHddu6XO2fuxl2K9CLV0cW9UfaDMXEKMzhR2qqwJWyTgJ2voxlghKrH8MHX3fGXbAro6H/bsM1Xdsz22mNdTv+X05xw7bHPrgSdPbdhxAA8ktZUIGawd02K5Oi2PZdiyhoe1743XQCS0AMU5mw34Xl639OawHdNnJdldcEQPUpbbOZd/X1WbL9vPe3taP2mJr/vPWk3N8+Hbv7EuTa2uLFZZxfdo4ZnkgLpvzGW1WHMQwR5hQ8P69Oz+5qJR1zLiMddAc8V5lcV8w1j+V5GYmCfVBr8UTMUEsw+3Y5hWr3ONihBlqw/sp6Qu1IdboIIgnAIG6xrBMnZAhBAyO1+YnlBkSC2t7aEdyy20Tz/JIUhZTiyG+DyMhbIv93BYXT33Ljo14mn4sp5Kn4rhBG3xgXkC9ppwHYm3QP5UTsLiPQxviDc2XbXykNQ8s89Gy7S4gbvvSu258dlIJok2jrWs7o7RtU1wy6WXSirbu0pszIYMlTfMOPrcBcyiI7bh2j9g+T3nZFdepambSK61+D3bx4hjarPiIuK0zeVWg7btWXcdkZNSVSS+T1rbYDpmQoQ28OMuOfRqficfbl30WiP0SMJNvpdXPB14cQ5sJxHrW9HlQWJb0h25nShKoo+nNmZDBLg8CtoBrKojDmOISbe5lWoHYLwGbD8I2mup7afXzAT2IMZ0bDKKXYsDkgePve7zZNz+9eBjHx9/6rQYdMVe/3Re3/fAZ90jtc9sS9/0v27ipt0y8H0Acr9Nn9Td5oJwHcqYlzTlRQxtVGRF7VSCnsqllEZTUslMox6SXRatNyHDl7HiRCRlwT9h+jIIffSwb7WI7yuX4SyNiv5EQi2/hF2n184EXx9BmArEuTWcl/Bw4xGWnniRefvyNxVOwMCMSnop15/VPF4lNeLk6/KEWLl0bcHEp215YH8du2WeB2C8BT923oTek1c8HAnEEy9B4pd8zGRl1Z9I7Va1dEzJMVW+b5wVivwTM5ANp9fMBPYhLjSzaElDpdUxGFohX63R4HvTn3vXo4h4w7t3GEzIweUEgXs0LfXmEyQfS6ucDL46hzapcmvaqQF/nGbqNycgC8bBOlzohA5MXBOJhXkjJE0w+kFY/H3hxDG0mEEeXvZmMLBDndTqbkGHv7ESDCRmeuf+13nuxTF4QiPO8kAJgK8PkA2n184FAHMHSOojHksnIqD+T3rG04nnQf/6hpxoAGL9efvLr/9ILYPPVWHrt+3OWArFfAmbygbT6+YAexF/b/1RS4stJPF5lmYyMGDDpra01ZUKGPh/V1tunZdk2gdgvATP5QFr9fODFMbRZlUvTXhVYlpyGbGcyMurHpLemVjwP+tr515rr5qea73z+R4NOBGvqHeLVcB+B2C8BM/lAWv184MUxtJlAHF32ZjKyQHx+p3vwyEsL+ALAgHEIq9z3TF4QiM/3Qm57d5Vn8oG0+vlAII5g2dVhSqxnMjLqy6TXU2s8IQMuS6/qB0+9q2qL9xeI/RIwkw+k1c8H9CDGD2XixDHVz0xGRgyZ9HpoxQ+vDszPLH6IhX+4LwFg86aHXjt26aVA7JeAmXwgrX4+8OIY2qzKpWmvCpROZjgek5HZ9JaMLQCMf0HCL6FP7DnX4F+TSvuhpN7S2uLjCcR+CZjJB9Lq5wMvjqHNBOLosjeTkdcRxJiQ4RNve6ix50F7ANggx+QFgdgvATP5QFr9fEAP4juu+fvioxVLlqWXTEZeJxDHEzLg6Vil2z4+HpMXBGK/BMzkA2n184EXx9BmVUbEXhWIE2eJz0xGRn2Z9A7R2jUhQ4m2XnaMIXqXHdNru0Dsl4CZfCCtfj7w4hjarAqIT+590n30UirBMRkZdWbSm6N12YQMpdq77zg5evuOU2ObQOyXgJl8IK1+PvDiGNpMINY94monSSlJInVChhpwS9FbUofNW4zHcOYeVyD2S8C1fZDb9mF5afXzgUAcwTI0Xun3TEZG3Rn04n98981PL6YbxBKf43bLnZAh3t/jc83YAr67Ng41u3ceXTwPO7c+ArFfAq7pg9x2j8tLq58PBGKB+DxwWQecescDdK+cHW+umB3bfOEXz3gCFuowdEIGq7/ncozYCsR+iXSoV8bwgbROzwcCsUBMC2KMgEMI2/sPzr/S4AEc18zuWDyQo22UPDQZldpvjAQsEE8vAY/hg6EellY//9CD+MtXPbG4hAqT6LVeMbhqdlsriAHkq2cnm1ve+f2188Tht3+7ueiCyxevS3Zcu6X+7935qWbv7Etb1qX0GVyaTimnMuvV/9Te5dobHBt6gtS3H9qoyo+1vCrQV7mh2xCUofuOsd/U9WLyBRsFh0vAZox45XznGLHViNhvRJPT9mHZMXwQfn/Oe2n1848Xx9BmAnF02ZvJyOigU9eLe8HxPWKMku89/LxAHHkP7SkQ+yXSHKCFZafex6S1jmfoQYxnAYdmmfJ7pk6HOE5ZL54Hff38rxePo8QzoffMbl3cE2aAcO3Y4jK9Xa7G8tIdB7L6jH417ZeMp9zH4lwqrX4+8OIY2qzKiNirArEJS3xmMnJtWKTGt2tCBsXWL0kIxH6xZfKttPr5wItjaDOBOLo8yGTkqYHYJmT4wOyLzbF3P9a88cp/bRnVKbZ+SUIg9ostk2+l1c8HAnEEy9SR2ZByTEaeCojxPGjMiIR7vwBw14QMiq1fkhCI/WLL5Ftp9fMBPYi/sFv3iIecFKTsM2bHy52QYUytKbGMyzDpFYj9EjCTD6TVzwdeHEObVbk07VWBOHGW+MxkZNR3DL32PGiMgDESBpBTYj+G1hRdXWWY9ArEfgmYyQfS6ucDL46hzQTi6LI3k5Frgxj3fHHpGfeAAWDcE+6CWNt6xdYvSQjEfrFl8q20+vlAII5g2ZbkS61jMjLqXENvPCEDfhU9JN41tA7R1bUPk16B2C8BM/lAWv18IBALxJ3g8+x4mJDhzuufbvA/wPh/4KEANtB5arXvKLlk0isQ+yVgJh9Iq58PBGKBuCqIAWCPCRmYkgSAzqRXIPZLwEw+kFY/HwjEAnE1ED/wmRebD83/osEzoh/67A87v3fIyJMpSQjEfglNPlBs2foX9ArEAnEnEEslNUAX8AWEAeMhoF22Tymty76n1HYmvRoRC27wPZNnmbQitgKxQNwJxlXNjHmAD8zPLJ4BjcvRuCxdCmTxcVbVGh/P+zOTXoFYIEZ/YPIsk1bEViAWiDvhONTMNiEDfoiFH2R5AtiAOVSr7V97yaRXIBaI0T+YPMukFbEViAXiYiDumpChBuTYOh6TXoFYIBaI/TwgEFeEMJuRc/Qum5ABx/J+MYEtJ7YpcbthfnYxzeGRix9pjfOujUNbpkHsKtf1XQKxn3+ZfCutfj7QiLgCJCzBMRk5BRapEzJY/T2X2y22qbHCXMO7dx5tANsuwPZtS/kegdgvATP5Vlr9fCAQC8Stoygk6K6OlzshQ0qyX7VMl9ZVj+u1f2m9fbDt25ZSP4HYLwGX9kFKew4tI61+PhCIBeJkEA+dkGFox8/ZjylJoF6l9fbBFtsuuuDyzVdOXFFWIPZLwKV9kNu2OeWl1c8HArFAvBTEq07IkNPZh5ZlShKo4xC9uPRsQAVcw1j1gTgsh8vYeIXrlr0XiP0S8BAfLGsvr+3S6ueDbQFiGESv8jG468Znm4+/9VsNpiTcNz/dHH/f44rzRL122cZNzf75PUvbB2VQNqe/AMQ55VW2fF9UTLd3TLcFiL3OAEsfF52p9DE9jmcTMgDAJSZk8NAYH5Mltqa7tN6cETF+4GU6UpYaEfuNhEr7IKU9h5aRVj8fCMS6NL2ZlOMJGT73rkc3tw3tvLX2Y0oSiEkpvbjMbJersbRL1lgacNu257SLQOyXgEv5IKc9h5aVVj8fCMQC8QK2eAY0ngeN14NHXlqsU8fz63hMsRWI5YOSJ49DTwRy9mPqX6iXQLzmIP7O53+0gO+186+dNyEDk5mZtLIlNYFYIGbzLFs+EIjXFMQpEzIwmZlJK1tSE4gFYjbPsuUDgXjNQIznQeORiJiQ4c8/9FTvhAxMZmbSypbUBGKBmM2zbPlAIF4TED9z/2vNwQvvXwD4xJ5zzZuv/3TpD7GYzMyklS2pCcQCMZtn2fKBQLzNQRxPyICnY6FTpbyYzMyklS2pCcRp/SWlT8VlmHwrrX4+oAcxRnexuaf6uaaR8Tzow2//9uJhHPg3pBwAW/xq6rXvHLpk0oo6MukViP0SMJMPpNXPB14cQ5u9pWka94TjVYGhQOjbr4aRS07IUENvX7xytjFpRb2Y9ArEfgmYyQfS6ucDL46hzaqA+MtXPaER8U9/thjxHnv3Y837Z7c3n3jbQ83Lj7+xclzU8fw6HlNsBWL5gO3kkal/IbZeHBOIW+7DepgDP7oKAYx7wjkjyb6yHnr7vm+VbUxaUU8mvQKxQMzmWab+hdjSg/jk3ieLgWcVEKTsW9IcADAuZ+DfkPBraPxbUoqGnDIl9eZ875CyTFpRPya9ArFAzOZZpv6F2HpxDHGocmnaqwJDYLBsnxLmsOdBA8AH5mdcAGz1KKHXjuW9ZNKKWDDpFYgFYjbPMvUvxNaLY4iDQBxdnl7FHAbga2Z3LACMJ2MJbv+fIFeJrXcc247PpFcg/n+ftbXlKuuYfCCtfj6gB/Ed1/y9O5BW6WjhvkON3DYhQ3hcr/dD9Xrp6Tsuk1bUg0mvQOyXgJl8IK1+PvDiGNqsyogYj2nsS9BT2pZr5L4JGWrUK1dvDU1d38GkFXWoqffew89vmSqxK4Zd6wVivwRc0wdd7Zu6Xlr9fODFMbSZQDzw0nTKhAypnWeVcup4fh2vZmwxZzFgDC/gPV45vhCIt4cPctq8rWxNz7Z9f846Jq2oFz2Iv7Z/+iNigHXf/PTiKVdYdt3fzZmQIceUQ8symZlJK9pjLL2Y8EMg9gNrbl8bywe5Osf07HbXivp5cQz+qjIi9qrAkMZv2wfQvXJ2vLlidmzzhYduPHjkpc1RyZAJGdq+q/Q6JQm/hD1WbHdtHFrMvpXjFY2It58Pctrfyo7lWfv+nCWTVtTLi2OIQxUQ33n905tAy2moWmUxAg4hbO8/OP9qs8qEDDX0M5mZSSvazktveD/40h0HtvQNjIYB4lzvCMQCsadnc/2YUt6rf6V895AyXhxDHKqBGF821ddVs9taQQwgXzn7k+Yjv/BAg0aYqn7pmq63ctpm//ye5pId1w7yGUCc810quz08o3as1470ID518JnsM/whZyxD97lufqoVxLg8jQkahh63xn7oiDW+p8R3MGlFfWvqPXLxI4tfTQ+Ns0bEGhHX9uxQr9p+NfuXfecqSy+OIQ5VRsReFVglqOG+uBccj4pxz9h+xRqWndp7JjMzaUU719SLS9QXXXD5lleO1wRigbi2Z3P82Va2Zv9q+/7cdV4cQxwE4v/79yXAGPeE98xubfBkLAYIw0hMZmbSyhZbgVggZvMsWz6gB/FdNz6ry6fR/yvnno11lWcyM5NWtqQmEAvEbJ5lywdeHEMcqoyIvSrQBadV1rOZg0kvk1a2pCYQC8RsnmXLB14cQxwE4mikymYOJr1MWtmSmkAsELN5li0f0IP47pue06XpCPjoNCVeTGZm0sqW1ATiMv2prU8y+VZa/XzgxTG0WZURsVcF2jrNquuYjMwGC8XWL0kIxH6xZfKttPr5wItjaLMqID7zMY2IVz1B6NpfHc+v4zHFViCWD3Ri7ucBxNaLYwJxy+VhpuSrjufb8Zi8IBD7eYHJB9Lq5wOBuAWYXSPEVdczGVkg9ut0bLEViP28wJQTpNXPB/Qgljn8zKHYKrY4aRCI5QO2k0em3OUZW8Shyj1ipoAzafU0B45d+qXYlo+ptZFA7BdbJt9KK58P0GYCcQQcJiMLxH6dji22ArGfF5hygrTy+aAaiFme28yWfNn0MiUJttgKxHwJGB4r/WLqY0xa0U5eHKsG4rOffKG44Uob2I7HZg4mvUxa4QcmvQJxeagx5gQmzzJphRe8OIY4VLk07VUB6ygll2zmYNLLpBWeYtIrEAvEbJ5l6l+IrRfHEIcqIL7v5hc1Ina4DKWO55d8S8b2yMWPbM4zjHmHcez4tWvj0GYZzEuMfeIyfZ8F4vNj2hevnG1MwJBWPx94cUwgbkmITEZGMmHSy6S1ZGwBWUv8eH/17OTm53B9LnxtXywFYr8EzORbafXzAT2IH/iMRsRh0iz5Xh3Pr+N5xBYQFoj/4bwTkZJ9ovSxPHxQWqMdT1r98oEXx9BmVS5Ne1XAzFdyyWRk1JtJL5NWr9ji0nTbyDe+NJ3raY2I/RIwk2+l1c8HXhxDm1UDMSqhl2Kw3T3wu/O/2rzXe9nGTVs8/5uzzzW/sfMPt6xriwfKpJQL9z2x59zS44bl9V59UR7I90DuCXJK+WogThGjMn5ncort+LG9YX62Ce8V97UJRsypZfuOo23jt7vaQG2wzAMCccuPtZYFTdvVsXI9AAh3/Vq67Vi7dx5tvY/cVlbr5Ed5gNsDArFATPWjGdaEg39HCl8G5fAX1OF2jYa5EyurT6V7HN8JxAKxQCwPyAPygDwwogcE4hGDr7PPcc4+FXfFXR6QB6bkAYFYINaZsDwgD8gD8sCIHhCIRwz+lM7IpEUjBHlAHpAHxvGAQCwQ60xYHpAH5AF5YEQPCMQjBl9nn+OcfSruirs8IA9MyQMCsUCsM2F5QB6QB+SBET0gEI8Y/CmdkUmLRgjygDwgD4zjAYFYINaZsDwgD8gD8sCIHhCIRwy+zj7HOftU3BV3eUAemJIHBGKBWGfC8oA8IA/IAyN6YBPE99384mJeW6zQSzGQB+QBeUAekAfqeAD8/V9Wcy4LEEd3tQAAAABJRU5ErkJggg==)"
      ]
    },
    {
      "cell_type": "markdown",
      "metadata": {
        "id": "ON4Ym-q4Sq1M"
      },
      "source": [
        "ทำหน้าที่ รับ output ออกมาเปลี่ยนแปลงเป็น input"
      ]
    },
    {
      "cell_type": "markdown",
      "metadata": {
        "id": "LBUtkMO7S9pY"
      },
      "source": [
        "function มีส่วนสำคัญทั้งหมด 4ส่วน \r\n",
        "\r\n",
        "    1. บอก python ว่าเราจะเขียนฟังก์ชัน ชื่ออะไร def functio_name() : (ขาดไม่ได้)\r\n",
        "    2. กำหนดตัวแปรที่จะเป็น input input (ขาดได้)\r\n",
        "    3. ส่วนประมวลผล do_something with Input to get Output (ขาดไม่ได้)\r\n",
        "    4. ส่วน output return Output (ขาดได้)\r\n",
        "    \r\n"
      ]
    },
    {
      "cell_type": "code",
      "metadata": {
        "colab": {
          "base_uri": "https://localhost:8080/"
        },
        "id": "OBs0Y_WPUn8A",
        "outputId": "158375f5-102c-4f10-c640-6e650dc6b355"
      },
      "source": [
        "def print_name(name, surname, ID) :      # input สามารถมีกีตัวก็ได้หรือไม่มีก็ได้ \r\n",
        "      st = f' ชื่อ {name} นามสกุล {surname} ID{ID}'      # อะไรที่อยู๋ใน function เราต้องวรรคมันเข้าไป\r\n",
        "      return st\r\n",
        "print('outside function')"
      ],
      "execution_count": null,
      "outputs": [
        {
          "output_type": "stream",
          "text": [
            "outside function\n"
          ],
          "name": "stdout"
        }
      ]
    },
    {
      "cell_type": "markdown",
      "metadata": {
        "id": "o88ZfP9SWRET"
      },
      "source": [
        "การเรียกใช้ฟังก์ชัน"
      ]
    },
    {
      "cell_type": "code",
      "metadata": {
        "colab": {
          "base_uri": "https://localhost:8080/",
          "height": 34
        },
        "id": "pk2qz0EqVIFU",
        "outputId": "d3b92685-b660-47c0-97fa-e324e07f64e5"
      },
      "source": [
        "print_name ( ' ภัทรสร ', ' เทพบุตร', ' 623020531-5' )"
      ],
      "execution_count": null,
      "outputs": [
        {
          "output_type": "execute_result",
          "data": {
            "application/vnd.google.colaboratory.intrinsic+json": {
              "type": "string"
            },
            "text/plain": [
              "' ชื่อ  ภัทรสร  นามสกุล  เทพบุตร ID 623020531-5'"
            ]
          },
          "metadata": {
            "tags": []
          },
          "execution_count": 5
        }
      ]
    },
    {
      "cell_type": "code",
      "metadata": {
        "colab": {
          "base_uri": "https://localhost:8080/"
        },
        "id": "3MJBpgAlWx9f",
        "outputId": "616d3939-d8b2-44f1-c6be-24f076c6770f"
      },
      "source": [
        "output_string = print_name( ' ภัทรสร ', ' เทพบุตร', ' 623020531-5' )\r\n",
        "print(output_string)"
      ],
      "execution_count": null,
      "outputs": [
        {
          "output_type": "stream",
          "text": [
            " ชื่อ  ภัทรสร  นามสกุล  เทพบุตร ID 623020531-5\n"
          ],
          "name": "stdout"
        }
      ]
    },
    {
      "cell_type": "code",
      "metadata": {
        "id": "VZ6Ri0N3Xiqj"
      },
      "source": [
        "def print_name2(surname , ID, name) :\r\n",
        "      st = f' ชื่อ {name} นามสกุล {surname} รหัส {ID}'\r\n",
        "      print(st)"
      ],
      "execution_count": null,
      "outputs": []
    },
    {
      "cell_type": "code",
      "metadata": {
        "colab": {
          "base_uri": "https://localhost:8080/"
        },
        "id": "5Zb11Dd9YDoW",
        "outputId": "b071e52c-53f8-46f7-8b13-d3e516783e4a"
      },
      "source": [
        "print_name2(' ภัทรสร ', ' เทพบุตร ', ' 623020531-5' )"
      ],
      "execution_count": null,
      "outputs": [
        {
          "output_type": "stream",
          "text": [
            " ชื่อ  623020531-5 นามสกุล  ภัทรสร  รหัส  เทพบุตร \n"
          ],
          "name": "stdout"
        }
      ]
    },
    {
      "cell_type": "code",
      "metadata": {
        "colab": {
          "base_uri": "https://localhost:8080/"
        },
        "id": "udfuwncgYdBd",
        "outputId": "47f9b2d2-b667-4147-d14d-933bbf3513ff"
      },
      "source": [
        "op2 = print_name2(' ภัทรสร ', ' เทพบุตร ', ' 623020531-5' )\r\n"
      ],
      "execution_count": null,
      "outputs": [
        {
          "output_type": "stream",
          "text": [
            " ชื่อ  623020531-5 นามสกุล  ภัทรสร  รหัส  เทพบุตร \n"
          ],
          "name": "stdout"
        }
      ]
    },
    {
      "cell_type": "code",
      "metadata": {
        "colab": {
          "base_uri": "https://localhost:8080/"
        },
        "id": "m9iu48NgYsFU",
        "outputId": "76945a94-1b7d-4741-ee98-dc1954f2d4c6"
      },
      "source": [
        "print(op2)"
      ],
      "execution_count": null,
      "outputs": [
        {
          "output_type": "stream",
          "text": [
            "None\n"
          ],
          "name": "stdout"
        }
      ]
    },
    {
      "cell_type": "markdown",
      "metadata": {
        "id": "mY5KIscaZAQY"
      },
      "source": [
        "ฟังก์ชันไม่จำเป็นต้องมี input"
      ]
    },
    {
      "cell_type": "code",
      "metadata": {
        "id": "WzqZUQv8Yyrk"
      },
      "source": [
        "def Pi() :\r\n",
        "      return 3.1459265359"
      ],
      "execution_count": null,
      "outputs": []
    },
    {
      "cell_type": "code",
      "metadata": {
        "colab": {
          "base_uri": "https://localhost:8080/"
        },
        "id": "hocrOGrHZWkT",
        "outputId": "485092df-5b23-45d8-907b-538e9b693287"
      },
      "source": [
        "#คำนวณพื้นที่วงกลมที่มีขนาดเส้นผ่านศูนย์กลางเท่ากับ 3\r\n",
        "Pi()*(1.5**2)"
      ],
      "execution_count": null,
      "outputs": [
        {
          "output_type": "execute_result",
          "data": {
            "text/plain": [
              "7.078334705775"
            ]
          },
          "metadata": {
            "tags": []
          },
          "execution_count": 16
        }
      ]
    },
    {
      "cell_type": "code",
      "metadata": {
        "id": "16g7XwImZtWJ"
      },
      "source": [
        "def print_my_name() :\r\n",
        "      print(' ภัทรสร ', ' เทพบุตร ', ' 623020531-5' )"
      ],
      "execution_count": null,
      "outputs": []
    },
    {
      "cell_type": "code",
      "metadata": {
        "colab": {
          "base_uri": "https://localhost:8080/"
        },
        "id": "uHFnzSglaKVT",
        "outputId": "243aa514-c594-4c5f-b0b9-46bb28c5b6f4"
      },
      "source": [
        "print_my_name()"
      ],
      "execution_count": null,
      "outputs": [
        {
          "output_type": "stream",
          "text": [
            " ภัทรสร   เทพบุตร   623020531-5\n"
          ],
          "name": "stdout"
        }
      ]
    },
    {
      "cell_type": "markdown",
      "metadata": {
        "id": "KPicJQgQaQ9A"
      },
      "source": [
        "###input ของ function ใน python มีสองแบบ input ที่จำเป็นต้องใส่กับ input (มีค่า default) เราต้องเรียก input ที่จำเป็นต้องใส่ขึ้นก่อน"
      ]
    },
    {
      "cell_type": "code",
      "metadata": {
        "id": "nyMwmjhFaPWw"
      },
      "source": [
        "def print_2lines_default(name, surname ,ID, grade=' F ') :\r\n",
        "      st = f' ชื่อ {name} นามสกุล {surname} รหัส {ID}'\r\n",
        "      print(st)\r\n",
        "      st2=f' เกรดวิชา Multivariate >>> {grade} '\r\n",
        "      print(st2)\r\n"
      ],
      "execution_count": null,
      "outputs": []
    },
    {
      "cell_type": "code",
      "metadata": {
        "colab": {
          "base_uri": "https://localhost:8080/"
        },
        "id": "VmdeAU4_b6mi",
        "outputId": "280d2d86-8ee6-499d-fc5c-97e3eadc22ce"
      },
      "source": [
        "print_2lines_default(' ภัทรสร ', ' เทพบุตร ', ' 623020531-5', 'A' )"
      ],
      "execution_count": null,
      "outputs": [
        {
          "output_type": "stream",
          "text": [
            " ชื่อ  ภัทรสร  นามสกุล  เทพบุตร  รหัส  623020531-5\n",
            " เกรดวิชา Multivariate >>> A \n"
          ],
          "name": "stdout"
        }
      ]
    },
    {
      "cell_type": "markdown",
      "metadata": {
        "id": "l4MEqwulcUkt"
      },
      "source": [
        "เราสามารถเรียกฟังก์ชันโดยใช้ชื่อตัวแปรของฟังก์ชันช่วยได้"
      ]
    },
    {
      "cell_type": "code",
      "metadata": {
        "colab": {
          "base_uri": "https://localhost:8080/"
        },
        "id": "0WtGPTKHcSb6",
        "outputId": "3e14b90b-8912-4f79-b80e-efc73215d526"
      },
      "source": [
        "print_name2(name= ' ภัทรสร ', surname= ' เทพบุตร ', ID= '623020531-5 ')\r\n"
      ],
      "execution_count": null,
      "outputs": [
        {
          "output_type": "stream",
          "text": [
            " ชื่อ  ภัทรสร  นามสกุล  เทพบุตร  รหัส 623020531-5 \n"
          ],
          "name": "stdout"
        }
      ]
    },
    {
      "cell_type": "markdown",
      "metadata": {
        "id": "llBTw0_ec3oI"
      },
      "source": [
        "HW3 ให้เขียน function คำนวณจำนวนวินาทีจาก เวลาต่อไปนี้\r\n",
        "\r\n",
        "'14-15-31'\r\n",
        "\r\n",
        "'13-00-01'\r\n",
        "\r\n",
        "'05-49-44'\r\n",
        "\r\n",
        "'00-00-16'\r\n",
        "\r\n",
        "และ print ให้สวยงาม"
      ]
    },
    {
      "cell_type": "code",
      "metadata": {
        "id": "6LntnQ8sdg2c"
      },
      "source": [
        "def Function_Time(Time): \r\n",
        "    st = Time.split('-')\r\n",
        "    st2= int(st[0])*3600 + int(st[1])*60 + int(st[2])\r\n",
        "    print(f' คำนวณเป็นจำนวนวินาทีได้เท่ากับ {st2} วินาที')"
      ],
      "execution_count": null,
      "outputs": []
    },
    {
      "cell_type": "code",
      "metadata": {
        "colab": {
          "base_uri": "https://localhost:8080/"
        },
        "id": "cuQDMH-ryrlw",
        "outputId": "d06b4d6b-2537-4a4d-f4aa-96244c4de757"
      },
      "source": [
        "Function_Time ('14-15-31')"
      ],
      "execution_count": null,
      "outputs": [
        {
          "output_type": "stream",
          "text": [
            " คำนวณเป็นจำนวนวินาทีได้เท่ากับ 51331 วินาที\n"
          ],
          "name": "stdout"
        }
      ]
    },
    {
      "cell_type": "code",
      "metadata": {
        "colab": {
          "base_uri": "https://localhost:8080/"
        },
        "id": "MUNlrfsbywKk",
        "outputId": "ef51699c-5170-4c19-b0ff-11b6bcdc453e"
      },
      "source": [
        "Function_Time ('13-00-01')"
      ],
      "execution_count": null,
      "outputs": [
        {
          "output_type": "stream",
          "text": [
            " คำนวณเป็นจำนวนวินาทีได้เท่ากับ 46801 วินาที\n"
          ],
          "name": "stdout"
        }
      ]
    },
    {
      "cell_type": "code",
      "metadata": {
        "colab": {
          "base_uri": "https://localhost:8080/"
        },
        "id": "CiEfoKAZy2Ds",
        "outputId": "8e2e4609-c060-4526-9ae1-904a3611d4ca"
      },
      "source": [
        "Function_Time ('05-49-44')"
      ],
      "execution_count": null,
      "outputs": [
        {
          "output_type": "stream",
          "text": [
            " คำนวณเป็นจำนวนวินาทีได้เท่ากับ 20984 วินาที\n"
          ],
          "name": "stdout"
        }
      ]
    },
    {
      "cell_type": "code",
      "metadata": {
        "colab": {
          "base_uri": "https://localhost:8080/"
        },
        "id": "T2TqFlb4y5ll",
        "outputId": "fe7465c4-0699-4dc1-9e62-ae8e5821f45c"
      },
      "source": [
        "Function_Time ('00-00-16')"
      ],
      "execution_count": null,
      "outputs": [
        {
          "output_type": "stream",
          "text": [
            " คำนวณเป็นจำนวนวินาทีได้เท่ากับ 16 วินาที\n"
          ],
          "name": "stdout"
        }
      ]
    },
    {
      "cell_type": "markdown",
      "metadata": {
        "id": "Fz5gTd3rz9tn"
      },
      "source": [
        "##จบ "
      ]
    },
    {
      "cell_type": "markdown",
      "metadata": {
        "id": "6tdnm01iQneC"
      },
      "source": [
        "Numpy ->package สำหรับจัดการกับ Array ที่เป็นตัวเลข (Mateix)\r\n",
        "\r\n",
        "Num + py -> Number-Numerical + python \r\n",
        "\r\n",
        "การใช้ package\r\n",
        "1. ```import ``` ```ชื่อ package ``` #เรียกใช้ package\r\n",
        "2. ```ชื่อ package ```. ```ชื่อฟังก์ชัน``` #เรียกใช้ function\r\n",
        "\r\n",
        "\r\n",
        "\r\n",
        "\r\n",
        "\r\n",
        "\r\n",
        "\r\n"
      ]
    },
    {
      "cell_type": "code",
      "metadata": {
        "id": "GXlFKgbXS26R"
      },
      "source": [
        "import numpy"
      ],
      "execution_count": 1,
      "outputs": []
    },
    {
      "cell_type": "markdown",
      "metadata": {
        "id": "OygQpdzqUN2K"
      },
      "source": [
        "data structure -> array \r\n",
        "\r\n",
        "\r\n",
        "\r\n",
        "\r\n",
        "สร้าง array (numpy array)"
      ]
    },
    {
      "cell_type": "code",
      "metadata": {
        "id": "SPQTb4X2TJ94",
        "outputId": "0445fee4-9986-4653-98e0-b409dea8a809",
        "colab": {
          "base_uri": "https://localhost:8080/"
        }
      },
      "source": [
        "mat_ex1 =numpy.array( [ [ 5.2,3.0,4.5],[9.1,0.1,0.3 ] ] )\r\n",
        "print(mat_ex1)"
      ],
      "execution_count": 3,
      "outputs": [
        {
          "output_type": "stream",
          "text": [
            "[[5.2 3.  4.5]\n",
            " [9.1 0.1 0.3]]\n"
          ],
          "name": "stdout"
        }
      ]
    },
    {
      "cell_type": "markdown",
      "metadata": {
        "id": "cPac8C-qV0C0"
      },
      "source": [
        "ชี้ค่าใน numpy array "
      ]
    },
    {
      "cell_type": "code",
      "metadata": {
        "id": "lA0__mrdVj9n",
        "outputId": "78a54f1d-2b6a-49c5-a065-717ef1c6f70e",
        "colab": {
          "base_uri": "https://localhost:8080/"
        }
      },
      "source": [
        "mat_ex1[1,1]  #[แถว,หลัก]"
      ],
      "execution_count": 4,
      "outputs": [
        {
          "output_type": "execute_result",
          "data": {
            "text/plain": [
              "0.1"
            ]
          },
          "metadata": {
            "tags": []
          },
          "execution_count": 4
        }
      ]
    },
    {
      "cell_type": "markdown",
      "metadata": {
        "id": "5bvLk_c1XJML"
      },
      "source": [
        "ถ้าไม่มี numpy array"
      ]
    },
    {
      "cell_type": "code",
      "metadata": {
        "id": "tcYDTurtWPkA",
        "outputId": "933ab010-ee64-4a18-af3c-c0866e57d3a6",
        "colab": {
          "base_uri": "https://localhost:8080/"
        }
      },
      "source": [
        "list_ex1 = [ [ 5.2,3.0,4.5],[9.1,0.1,0.3 ] ]\r\n",
        "print(list_ex1)"
      ],
      "execution_count": 5,
      "outputs": [
        {
          "output_type": "stream",
          "text": [
            "[[5.2, 3.0, 4.5], [9.1, 0.1, 0.3]]\n"
          ],
          "name": "stdout"
        }
      ]
    },
    {
      "cell_type": "code",
      "metadata": {
        "id": "jqMmswBqWmoX",
        "outputId": "885897c5-7e85-4016-9bd6-53aff5fb5ced",
        "colab": {
          "base_uri": "https://localhost:8080/"
        }
      },
      "source": [
        "list_ex1[1][1]"
      ],
      "execution_count": 6,
      "outputs": [
        {
          "output_type": "execute_result",
          "data": {
            "text/plain": [
              "0.1"
            ]
          },
          "metadata": {
            "tags": []
          },
          "execution_count": 6
        }
      ]
    },
    {
      "cell_type": "code",
      "metadata": {
        "id": "gopfBVcIXhnH",
        "outputId": "b12da6ca-95ca-4c0a-f00f-b823034f26a8",
        "colab": {
          "base_uri": "https://localhost:8080/"
        }
      },
      "source": [
        "print(list_ex1)\r\n",
        "a = list_ex1[1]\r\n",
        "print(a)\r\n",
        "print(a[1])"
      ],
      "execution_count": 7,
      "outputs": [
        {
          "output_type": "stream",
          "text": [
            "[[5.2, 3.0, 4.5], [9.1, 0.1, 0.3]]\n",
            "[9.1, 0.1, 0.3]\n",
            "0.1\n"
          ],
          "name": "stdout"
        }
      ]
    },
    {
      "cell_type": "markdown",
      "metadata": {
        "id": "T5BAzkdVX47e"
      },
      "source": [
        "Matrix operations \r\n",
        "\r\n",
        "data 2 แบบ -> matrix (2D array), scalar (ตัวเลขค่าคงที่)"
      ]
    },
    {
      "cell_type": "code",
      "metadata": {
        "id": "nR8eNd96X3RL",
        "outputId": "5c8560f2-6467-4618-89d4-c921a584bf58",
        "colab": {
          "base_uri": "https://localhost:8080/"
        }
      },
      "source": [
        "mat_ex1 =numpy.array( [ [ 5.2,3.0,4.5],[9.1,0.1,0.3 ] ] )\r\n",
        "print(mat_ex1)\r\n",
        "mat_ex2 =numpy.array( [ [ 2,3.7,5.9],[91,1.5,7.3 ] ] )\r\n",
        "print(mat_ex2)"
      ],
      "execution_count": 8,
      "outputs": [
        {
          "output_type": "stream",
          "text": [
            "[[5.2 3.  4.5]\n",
            " [9.1 0.1 0.3]]\n",
            "[[ 2.   3.7  5.9]\n",
            " [91.   1.5  7.3]]\n"
          ],
          "name": "stdout"
        }
      ]
    },
    {
      "cell_type": "markdown",
      "metadata": {
        "id": "Xz2wkisuZBAN"
      },
      "source": [
        "###บวกกับลบ matrix เอาตัวเลขตำแหน่งเดียวกันมาบวกกันหรือลบกัน\r\n",
        "\r\n",
        "หน้าตาของ matrix ต้องเหมือนกัน"
      ]
    },
    {
      "cell_type": "code",
      "metadata": {
        "id": "yuDcgT1AaAqI",
        "outputId": "06bb82ef-e42f-4af8-8045-d9f672492995",
        "colab": {
          "base_uri": "https://localhost:8080/"
        }
      },
      "source": [
        "mat_ex0 = numpy.array ([[1,2],[3,4]])\r\n",
        "print(mat_ex0)"
      ],
      "execution_count": 10,
      "outputs": [
        {
          "output_type": "stream",
          "text": [
            "[[1 2]\n",
            " [3 4]]\n"
          ],
          "name": "stdout"
        }
      ]
    },
    {
      "cell_type": "code",
      "metadata": {
        "id": "ng_vS-R2Y4J8",
        "outputId": "59bcc629-f1ef-4224-ae83-1b3f959e0e2f",
        "colab": {
          "base_uri": "https://localhost:8080/"
        }
      },
      "source": [
        "mat_ex3 = mat_ex1 + mat_ex2\r\n",
        "print(mat_ex3)\r\n",
        "mat_ex4 = mat_ex1 - mat_ex2\r\n",
        "print(mat_ex4)"
      ],
      "execution_count": 9,
      "outputs": [
        {
          "output_type": "stream",
          "text": [
            "[[  7.2   6.7  10.4]\n",
            " [100.1   1.6   7.6]]\n",
            "[[  3.2  -0.7  -1.4]\n",
            " [-81.9  -1.4  -7. ]]\n"
          ],
          "name": "stdout"
        }
      ]
    },
    {
      "cell_type": "code",
      "metadata": {
        "id": "50wWwEucafvF",
        "outputId": "70d0c3b0-a12d-4db7-bd83-d2350992f016",
        "colab": {
          "base_uri": "https://localhost:8080/",
          "height": 165
        }
      },
      "source": [
        "mat_ex1 + mat_ex0"
      ],
      "execution_count": 11,
      "outputs": [
        {
          "output_type": "error",
          "ename": "ValueError",
          "evalue": "ignored",
          "traceback": [
            "\u001b[0;31m---------------------------------------------------------------------------\u001b[0m",
            "\u001b[0;31mValueError\u001b[0m                                Traceback (most recent call last)",
            "\u001b[0;32m<ipython-input-11-806ad2057085>\u001b[0m in \u001b[0;36m<module>\u001b[0;34m()\u001b[0m\n\u001b[0;32m----> 1\u001b[0;31m \u001b[0mmat_ex1\u001b[0m \u001b[0;34m+\u001b[0m \u001b[0mmat_ex0\u001b[0m\u001b[0;34m\u001b[0m\u001b[0;34m\u001b[0m\u001b[0m\n\u001b[0m",
            "\u001b[0;31mValueError\u001b[0m: operands could not be broadcast together with shapes (2,3) (2,2) "
          ]
        }
      ]
    },
    {
      "cell_type": "markdown",
      "metadata": {
        "id": "uhrlm9EaaXQh"
      },
      "source": [
        "การตรวจสอบขนาดของ matrix"
      ]
    },
    {
      "cell_type": "code",
      "metadata": {
        "id": "JSOcST49ZZlK",
        "outputId": "0f0a5ba5-21a0-4149-aa89-d5c8bf4b5ba3",
        "colab": {
          "base_uri": "https://localhost:8080/"
        }
      },
      "source": [
        "mat_ex3. shape"
      ],
      "execution_count": 12,
      "outputs": [
        {
          "output_type": "execute_result",
          "data": {
            "text/plain": [
              "(2, 3)"
            ]
          },
          "metadata": {
            "tags": []
          },
          "execution_count": 12
        }
      ]
    },
    {
      "cell_type": "code",
      "metadata": {
        "id": "t0PUoRPWawh-",
        "outputId": "74f7b1d4-79db-4d9e-b6c1-2a7f18fd7e20",
        "colab": {
          "base_uri": "https://localhost:8080/"
        }
      },
      "source": [
        "mat_ex3.shape[0]"
      ],
      "execution_count": 13,
      "outputs": [
        {
          "output_type": "execute_result",
          "data": {
            "text/plain": [
              "2"
            ]
          },
          "metadata": {
            "tags": []
          },
          "execution_count": 13
        }
      ]
    },
    {
      "cell_type": "markdown",
      "metadata": {
        "id": "SNqqQRu4a7_S"
      },
      "source": [
        "## คูณ matrix \r\n",
        "\r\n",
        "![image.png](data:image/png;base64,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)"
      ]
    },
    {
      "cell_type": "code",
      "metadata": {
        "id": "WhyFEcuecCbD",
        "outputId": "5ab69aee-422d-44a7-90ae-89cfd1fb968d",
        "colab": {
          "base_uri": "https://localhost:8080/"
        }
      },
      "source": [
        "print(mat_ex1)\r\n",
        "print(mat_ex2)"
      ],
      "execution_count": 16,
      "outputs": [
        {
          "output_type": "stream",
          "text": [
            "[[ 2.   3.7  5.9]\n",
            " [91.   1.5  7.3]]\n",
            "[[ 2.   3.7  5.9]\n",
            " [91.   1.5  7.3]]\n"
          ],
          "name": "stdout"
        }
      ]
    },
    {
      "cell_type": "code",
      "metadata": {
        "id": "jmZ-8kV2a2va",
        "outputId": "c07cb51b-6524-4c19-c970-f193120f2eba",
        "colab": {
          "base_uri": "https://localhost:8080/"
        }
      },
      "source": [
        "mat_ex1 * mat_ex2"
      ],
      "execution_count": 15,
      "outputs": [
        {
          "output_type": "execute_result",
          "data": {
            "text/plain": [
              "array([[4.000e+00, 1.369e+01, 3.481e+01],\n",
              "       [8.281e+03, 2.250e+00, 5.329e+01]])"
            ]
          },
          "metadata": {
            "tags": []
          },
          "execution_count": 15
        }
      ]
    },
    {
      "cell_type": "markdown",
      "metadata": {
        "id": "Wg3F4aScesIy"
      },
      "source": [
        "## การคูณ matrix (แถวคูณหลัก)\r\n",
        "(หลักของ Matrix ตัวข้างหน้า ต้องเท่ากับแถวของ Matrix ตัวข้างหลัง)\r\n",
        "\r\n",
        "dot product ((AAA,x),(x,ZZZ)) = ((AAA,ZZZ))\r\n"
      ]
    },
    {
      "cell_type": "code",
      "metadata": {
        "id": "8QW63N7obwp5",
        "outputId": "ec20f30b-408a-4d93-f239-83a9e3e2f5a6",
        "colab": {
          "base_uri": "https://localhost:8080/",
          "height": 200
        }
      },
      "source": [
        "numpy.dot(mat_ex1,mat_ex2)"
      ],
      "execution_count": 17,
      "outputs": [
        {
          "output_type": "error",
          "ename": "ValueError",
          "evalue": "ignored",
          "traceback": [
            "\u001b[0;31m---------------------------------------------------------------------------\u001b[0m",
            "\u001b[0;31mValueError\u001b[0m                                Traceback (most recent call last)",
            "\u001b[0;32m<ipython-input-17-87326e5d09ab>\u001b[0m in \u001b[0;36m<module>\u001b[0;34m()\u001b[0m\n\u001b[0;32m----> 1\u001b[0;31m \u001b[0mnumpy\u001b[0m\u001b[0;34m.\u001b[0m\u001b[0mdot\u001b[0m\u001b[0;34m(\u001b[0m\u001b[0mmat_ex1\u001b[0m\u001b[0;34m,\u001b[0m\u001b[0mmat_ex2\u001b[0m\u001b[0;34m)\u001b[0m\u001b[0;34m\u001b[0m\u001b[0;34m\u001b[0m\u001b[0m\n\u001b[0m",
            "\u001b[0;32m<__array_function__ internals>\u001b[0m in \u001b[0;36mdot\u001b[0;34m(*args, **kwargs)\u001b[0m\n",
            "\u001b[0;31mValueError\u001b[0m: shapes (2,3) and (2,3) not aligned: 3 (dim 1) != 2 (dim 0)"
          ]
        }
      ]
    },
    {
      "cell_type": "code",
      "metadata": {
        "id": "xHIXcX-8fvp6",
        "outputId": "549e0b8c-033d-4726-f2ae-7b60852790a5",
        "colab": {
          "base_uri": "https://localhost:8080/"
        }
      },
      "source": [
        "print(mat_ex1)\r\n",
        "print(mat_ex1.shape)\r\n",
        "print(mat_ex2)\r\n",
        "print(mat_ex2.shape)"
      ],
      "execution_count": 20,
      "outputs": [
        {
          "output_type": "stream",
          "text": [
            "[[ 2.   3.7  5.9]\n",
            " [91.   1.5  7.3]]\n",
            "(2, 3)\n",
            "[[ 2.   3.7  5.9]\n",
            " [91.   1.5  7.3]]\n",
            "(2, 3)\n"
          ],
          "name": "stdout"
        }
      ]
    },
    {
      "cell_type": "code",
      "metadata": {
        "id": "4PE5q2kNg1P4",
        "outputId": "371ec965-cedf-420a-b729-37353f75a8df",
        "colab": {
          "base_uri": "https://localhost:8080/"
        }
      },
      "source": [
        "mat_ex1 * mat_ex2"
      ],
      "execution_count": 21,
      "outputs": [
        {
          "output_type": "execute_result",
          "data": {
            "text/plain": [
              "array([[4.000e+00, 1.369e+01, 3.481e+01],\n",
              "       [8.281e+03, 2.250e+00, 5.329e+01]])"
            ]
          },
          "metadata": {
            "tags": []
          },
          "execution_count": 21
        }
      ]
    },
    {
      "cell_type": "markdown",
      "metadata": {
        "id": "SVZRrIRCg9IT"
      },
      "source": [
        "## Transpose กลับแถวเป็นหลักกลับหลักเป็นแถว\r\n",
        "\r\n",
        "matrix.T"
      ]
    },
    {
      "cell_type": "code",
      "metadata": {
        "id": "QZq27JQ_grSU",
        "outputId": "63b00dc5-f220-4678-e533-1ec5c64f93e5",
        "colab": {
          "base_uri": "https://localhost:8080/"
        }
      },
      "source": [
        "numpy.dot(mat_ex1,mat_ex2.T)  #(2,3).\r\n"
      ],
      "execution_count": 22,
      "outputs": [
        {
          "output_type": "execute_result",
          "data": {
            "text/plain": [
              "array([[  52.5 ,  230.62],\n",
              "       [ 230.62, 8336.54]])"
            ]
          },
          "metadata": {
            "tags": []
          },
          "execution_count": 22
        }
      ]
    },
    {
      "cell_type": "code",
      "metadata": {
        "id": "UFoQyBA5hhcq"
      },
      "source": [
        ""
      ],
      "execution_count": null,
      "outputs": []
    }
  ]
}